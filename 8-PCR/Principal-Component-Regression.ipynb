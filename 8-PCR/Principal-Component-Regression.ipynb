{
 "cells": [
  {
   "cell_type": "markdown",
   "metadata": {},
   "source": [
    "# Statistical-Methods Homework8: Multicollinearity-PCR （主成分回归）\n",
    "\n",
    "**Principal Component Regression**\n",
    "\n",
    "\n",
    "## 背景描述\n",
    "\n",
    "数据集来源：Longley's(1967)\n",
    "\n",
    "我们构造了 16 个观测的 6 个自变量，具体请见下表：\n",
    "\n",
    "\n",
    "\n",
    "## 数据描述\n",
    "|    变量名    |                变量含义                |      变量类型       |  变量取值范围  |\n",
    "| :----------: | :------------------------------------: | :-----------------: | :------------: |\n",
    "| （自变量）X1 | 国民生产总值隐含价格平减指数(1954=100) | continuous variable | $\\mathbb{R}^+$ |\n",
    "| （自变量）X2 |              国民生产总值              | continuous variable | $\\mathbb{R}^+$ |\n",
    "| （自变量）X3 |                失业人数                | continuous variable | $\\mathbb{R}^+$ |\n",
    "| （自变量）X4 |             武装力量的规模             | continuous variable | $\\mathbb{R}^+$ |\n",
    "| （自变量）X5 |        14 岁及以上的非机构人口         | continuous variable | $\\mathbb{R}^+$ |\n",
    "| （自变量）X6 |              时间（年份）              | continuous variable | $\\mathbb{R}^+$ |\n",
    "| （因变量）Y  |               总就业人数               | continuous variable | $\\mathbb{R}^+$ |"
   ]
  },
  {
   "cell_type": "markdown",
   "metadata": {},
   "source": [
    "## 问题 \n",
    "注：这里使用 $\\alpha=0.05$ 的显著性水平\n",
    "\n",
    "1. 判断所给数据是否具有多重共线性.\n",
    "2. 若具有多重共线性, 选择适当的主成分.\n",
    "3. 对降维后的数据进行回归分析."
   ]
  },
  {
   "cell_type": "code",
   "execution_count": 1,
   "metadata": {},
   "outputs": [],
   "source": [
    "# Import standard packages\n",
    "import numpy as np\n",
    "import pandas as pd\n",
    "import scipy.stats as stats\n",
    "import matplotlib.pyplot as plt\n",
    "import math"
   ]
  },
  {
   "cell_type": "markdown",
   "metadata": {},
   "source": [
    "本次实验中我们直接调用sklearn包中的PCA模组进行主成分分析"
   ]
  },
  {
   "cell_type": "code",
   "execution_count": 2,
   "metadata": {},
   "outputs": [],
   "source": [
    "# add stats libs\n",
    "from itertools import combinations\n",
    "import statsmodels.api as sm\n",
    "from statsmodels.stats.outliers_influence import variance_inflation_factor\n",
    "from sklearn.decomposition import PCA  "
   ]
  },
  {
   "cell_type": "code",
   "execution_count": 56,
   "metadata": {},
   "outputs": [],
   "source": [
    "alpha = 0.05\n",
    "p = 6\n",
    "n = 16"
   ]
  },
  {
   "cell_type": "code",
   "execution_count": 57,
   "metadata": {},
   "outputs": [
    {
     "name": "stdout",
     "output_type": "stream",
     "text": [
      "     0       1         2       3       4         5       6        7\n",
      "0  1.0   830.0  234289.0  2356.0  1590.0  107608.0  1947.0  60323.0\n",
      "1  1.0   885.0  259426.0  2325.0  1456.0  108632.0  1948.0  61122.0\n",
      "2  1.0   882.0  258054.0  3682.0  1616.0  109773.0  1949.0  60171.0\n",
      "3  1.0   895.0  284599.0  3351.0  1650.0  110929.0  1950.0  61187.0\n",
      "4  1.0   962.0  328975.0  2099.0  3099.0  112075.0  1951.0  63221.0\n",
      "5  1.0   981.0  346999.0  1932.0  3594.0  113270.0  1952.0  63639.0\n",
      "6  1.0   990.0  365385.0  1870.0  3547.0  115094.0  1953.0  64989.0\n",
      "7  1.0  1000.0  363112.0  3578.0  3350.0  116219.0  1954.0  63761.0\n",
      "8  1.0  1012.0  397469.0  2904.0  3048.0  117388.0  1955.0  66019.0\n",
      "9  1.0  1046.0  419180.0  2822.0  2857.0  118734.0  1956.0  67857.0\n"
     ]
    }
   ],
   "source": [
    "x = pd.read_csv('Project8.csv')\n",
    "x.insert(0, 'intercept', np.ones(len(x))) \n",
    "data = x.values * 1.0\n",
    "df = pd.DataFrame(data)\n",
    "print(df.head(10))"
   ]
  },
  {
   "cell_type": "code",
   "execution_count": 58,
   "metadata": {},
   "outputs": [],
   "source": [
    "# 对数据进行分割\n",
    "X = data[:,0:p+1]\n",
    "Y = data[:,-1]"
   ]
  },
  {
   "cell_type": "markdown",
   "metadata": {},
   "source": [
    "对原始数据进行多元线性回归"
   ]
  },
  {
   "cell_type": "code",
   "execution_count": 47,
   "metadata": {},
   "outputs": [
    {
     "name": "stderr",
     "output_type": "stream",
     "text": [
      "/Users/sunqiushi/opt/anaconda3/lib/python3.8/site-packages/scipy/stats/stats.py:1603: UserWarning: kurtosistest only valid for n>=20 ... continuing anyway, n=16\n",
      "  warnings.warn(\"kurtosistest only valid for n>=20 ... continuing \"\n"
     ]
    },
    {
     "data": {
      "text/html": [
       "<table class=\"simpletable\">\n",
       "<caption>OLS Regression Results</caption>\n",
       "<tr>\n",
       "  <th>Dep. Variable:</th>            <td>y</td>        <th>  R-squared:         </th> <td>   0.995</td>\n",
       "</tr>\n",
       "<tr>\n",
       "  <th>Model:</th>                   <td>OLS</td>       <th>  Adj. R-squared:    </th> <td>   0.992</td>\n",
       "</tr>\n",
       "<tr>\n",
       "  <th>Method:</th>             <td>Least Squares</td>  <th>  F-statistic:       </th> <td>   330.3</td>\n",
       "</tr>\n",
       "<tr>\n",
       "  <th>Date:</th>             <td>Tue, 20 Apr 2021</td> <th>  Prob (F-statistic):</th> <td>4.98e-10</td>\n",
       "</tr>\n",
       "<tr>\n",
       "  <th>Time:</th>                 <td>19:20:23</td>     <th>  Log-Likelihood:    </th> <td> -109.62</td>\n",
       "</tr>\n",
       "<tr>\n",
       "  <th>No. Observations:</th>      <td>    16</td>      <th>  AIC:               </th> <td>   233.2</td>\n",
       "</tr>\n",
       "<tr>\n",
       "  <th>Df Residuals:</th>          <td>     9</td>      <th>  BIC:               </th> <td>   238.6</td>\n",
       "</tr>\n",
       "<tr>\n",
       "  <th>Df Model:</th>              <td>     6</td>      <th>                     </th>     <td> </td>   \n",
       "</tr>\n",
       "<tr>\n",
       "  <th>Covariance Type:</th>      <td>nonrobust</td>    <th>                     </th>     <td> </td>   \n",
       "</tr>\n",
       "</table>\n",
       "<table class=\"simpletable\">\n",
       "<tr>\n",
       "    <td></td>       <th>coef</th>     <th>std err</th>      <th>t</th>      <th>P>|t|</th>  <th>[0.025</th>    <th>0.975]</th>  \n",
       "</tr>\n",
       "<tr>\n",
       "  <th>const</th> <td>-3.482e+06</td> <td>  8.9e+05</td> <td>   -3.911</td> <td> 0.004</td> <td> -5.5e+06</td> <td>-1.47e+06</td>\n",
       "</tr>\n",
       "<tr>\n",
       "  <th>x1</th>    <td>    1.5062</td> <td>    8.491</td> <td>    0.177</td> <td> 0.863</td> <td>  -17.703</td> <td>   20.715</td>\n",
       "</tr>\n",
       "<tr>\n",
       "  <th>x2</th>    <td>   -0.0358</td> <td>    0.033</td> <td>   -1.070</td> <td> 0.313</td> <td>   -0.112</td> <td>    0.040</td>\n",
       "</tr>\n",
       "<tr>\n",
       "  <th>x3</th>    <td>   -2.0202</td> <td>    0.488</td> <td>   -4.136</td> <td> 0.003</td> <td>   -3.125</td> <td>   -0.915</td>\n",
       "</tr>\n",
       "<tr>\n",
       "  <th>x4</th>    <td>   -1.0332</td> <td>    0.214</td> <td>   -4.822</td> <td> 0.001</td> <td>   -1.518</td> <td>   -0.549</td>\n",
       "</tr>\n",
       "<tr>\n",
       "  <th>x5</th>    <td>   -0.0511</td> <td>    0.226</td> <td>   -0.226</td> <td> 0.826</td> <td>   -0.563</td> <td>    0.460</td>\n",
       "</tr>\n",
       "<tr>\n",
       "  <th>x6</th>    <td> 1829.1515</td> <td>  455.478</td> <td>    4.016</td> <td> 0.003</td> <td>  798.788</td> <td> 2859.515</td>\n",
       "</tr>\n",
       "</table>\n",
       "<table class=\"simpletable\">\n",
       "<tr>\n",
       "  <th>Omnibus:</th>       <td> 0.749</td> <th>  Durbin-Watson:     </th> <td>   2.559</td>\n",
       "</tr>\n",
       "<tr>\n",
       "  <th>Prob(Omnibus):</th> <td> 0.688</td> <th>  Jarque-Bera (JB):  </th> <td>   0.684</td>\n",
       "</tr>\n",
       "<tr>\n",
       "  <th>Skew:</th>          <td> 0.420</td> <th>  Prob(JB):          </th> <td>   0.710</td>\n",
       "</tr>\n",
       "<tr>\n",
       "  <th>Kurtosis:</th>      <td> 2.434</td> <th>  Cond. No.          </th> <td>4.86e+09</td>\n",
       "</tr>\n",
       "</table><br/><br/>Notes:<br/>[1] Standard Errors assume that the covariance matrix of the errors is correctly specified.<br/>[2] The condition number is large, 4.86e+09. This might indicate that there are<br/>strong multicollinearity or other numerical problems."
      ],
      "text/plain": [
       "<class 'statsmodels.iolib.summary.Summary'>\n",
       "\"\"\"\n",
       "                            OLS Regression Results                            \n",
       "==============================================================================\n",
       "Dep. Variable:                      y   R-squared:                       0.995\n",
       "Model:                            OLS   Adj. R-squared:                  0.992\n",
       "Method:                 Least Squares   F-statistic:                     330.3\n",
       "Date:                Tue, 20 Apr 2021   Prob (F-statistic):           4.98e-10\n",
       "Time:                        19:20:23   Log-Likelihood:                -109.62\n",
       "No. Observations:                  16   AIC:                             233.2\n",
       "Df Residuals:                       9   BIC:                             238.6\n",
       "Df Model:                           6                                         \n",
       "Covariance Type:            nonrobust                                         \n",
       "==============================================================================\n",
       "                 coef    std err          t      P>|t|      [0.025      0.975]\n",
       "------------------------------------------------------------------------------\n",
       "const      -3.482e+06    8.9e+05     -3.911      0.004    -5.5e+06   -1.47e+06\n",
       "x1             1.5062      8.491      0.177      0.863     -17.703      20.715\n",
       "x2            -0.0358      0.033     -1.070      0.313      -0.112       0.040\n",
       "x3            -2.0202      0.488     -4.136      0.003      -3.125      -0.915\n",
       "x4            -1.0332      0.214     -4.822      0.001      -1.518      -0.549\n",
       "x5            -0.0511      0.226     -0.226      0.826      -0.563       0.460\n",
       "x6          1829.1515    455.478      4.016      0.003     798.788    2859.515\n",
       "==============================================================================\n",
       "Omnibus:                        0.749   Durbin-Watson:                   2.559\n",
       "Prob(Omnibus):                  0.688   Jarque-Bera (JB):                0.684\n",
       "Skew:                           0.420   Prob(JB):                        0.710\n",
       "Kurtosis:                       2.434   Cond. No.                     4.86e+09\n",
       "==============================================================================\n",
       "\n",
       "Notes:\n",
       "[1] Standard Errors assume that the covariance matrix of the errors is correctly specified.\n",
       "[2] The condition number is large, 4.86e+09. This might indicate that there are\n",
       "strong multicollinearity or other numerical problems.\n",
       "\"\"\""
      ]
     },
     "execution_count": 47,
     "metadata": {},
     "output_type": "execute_result"
    }
   ],
   "source": [
    "# OLS（endog,exog=None,missing='none',hasconst=None) (endog:因变量，exog=自变量）\n",
    "model = sm.OLS(Y, X).fit()\n",
    "beta = model.params\n",
    "model.summary()"
   ]
  },
  {
   "cell_type": "markdown",
   "metadata": {},
   "source": [
    "**数据预处理：**"
   ]
  },
  {
   "cell_type": "markdown",
   "metadata": {},
   "source": [
    "先对数据进行标准化处理"
   ]
  },
  {
   "cell_type": "code",
   "execution_count": 48,
   "metadata": {},
   "outputs": [
    {
     "name": "stdout",
     "output_type": "stream",
     "text": [
      "     0         1         2         3         4         5         6         Y\n",
      "0  1.0 -0.446968 -0.398513 -0.231355 -0.377210 -0.364354 -0.406745 -0.367157\n",
      "1  1.0 -0.315375 -0.333214 -0.239921 -0.426926 -0.326344 -0.352512 -0.308415\n",
      "2  1.0 -0.322553 -0.336778  0.135028 -0.367563 -0.283992 -0.298279 -0.378332\n",
      "3  1.0 -0.291449 -0.267822  0.043570 -0.354949 -0.241084 -0.244047 -0.303636\n",
      "4  1.0 -0.131144 -0.152546 -0.302366  0.182657 -0.198546 -0.189814 -0.154097\n"
     ]
    }
   ],
   "source": [
    "# 自变量 X 的均值\n",
    "X_mean = []\n",
    "for i in range(p):\n",
    "    X_mean.append(np.mean(X[:, i+1])) \n",
    "\n",
    "# 自变量 X 的标准差\n",
    "X_L = []\n",
    "for i in range(p):\n",
    "    X_L.append(sum((X[:, i+1] - X_mean[i]) ** 2))  \n",
    "\n",
    "# 对自变量 X 标准化，截距不用标准化\n",
    "X_std = X * 1.0\n",
    "X_std[:,1:p+1] = (X[:,1:p+1] - X_mean) / np.sqrt(X_L)\n",
    "\n",
    "# 对因变量 Y 标准化\n",
    "Y_std = (Y - np.mean(Y)) / np.sqrt(sum((Y - np.mean(Y))**2))\n",
    "\n",
    "df_std = pd.DataFrame(X_std)\n",
    "df_std['Y'] = Y_std\n",
    "print(df_std.head())"
   ]
  },
  {
   "cell_type": "markdown",
   "metadata": {},
   "source": [
    "**做多元线性回归分析:**"
   ]
  },
  {
   "cell_type": "code",
   "execution_count": 49,
   "metadata": {},
   "outputs": [
    {
     "name": "stderr",
     "output_type": "stream",
     "text": [
      "/Users/sunqiushi/opt/anaconda3/lib/python3.8/site-packages/scipy/stats/stats.py:1603: UserWarning: kurtosistest only valid for n>=20 ... continuing anyway, n=16\n",
      "  warnings.warn(\"kurtosistest only valid for n>=20 ... continuing \"\n"
     ]
    },
    {
     "data": {
      "text/html": [
       "<table class=\"simpletable\">\n",
       "<caption>OLS Regression Results</caption>\n",
       "<tr>\n",
       "  <th>Dep. Variable:</th>            <td>y</td>        <th>  R-squared:         </th> <td>   0.995</td>\n",
       "</tr>\n",
       "<tr>\n",
       "  <th>Model:</th>                   <td>OLS</td>       <th>  Adj. R-squared:    </th> <td>   0.992</td>\n",
       "</tr>\n",
       "<tr>\n",
       "  <th>Method:</th>             <td>Least Squares</td>  <th>  F-statistic:       </th> <td>   330.3</td>\n",
       "</tr>\n",
       "<tr>\n",
       "  <th>Date:</th>             <td>Tue, 20 Apr 2021</td> <th>  Prob (F-statistic):</th> <td>4.98e-10</td>\n",
       "</tr>\n",
       "<tr>\n",
       "  <th>Time:</th>                 <td>19:21:51</td>     <th>  Log-Likelihood:    </th> <td>  42.670</td>\n",
       "</tr>\n",
       "<tr>\n",
       "  <th>No. Observations:</th>      <td>    16</td>      <th>  AIC:               </th> <td>  -71.34</td>\n",
       "</tr>\n",
       "<tr>\n",
       "  <th>Df Residuals:</th>          <td>     9</td>      <th>  BIC:               </th> <td>  -65.93</td>\n",
       "</tr>\n",
       "<tr>\n",
       "  <th>Df Model:</th>              <td>     6</td>      <th>                     </th>     <td> </td>   \n",
       "</tr>\n",
       "<tr>\n",
       "  <th>Covariance Type:</th>      <td>nonrobust</td>    <th>                     </th>     <td> </td>   \n",
       "</tr>\n",
       "</table>\n",
       "<table class=\"simpletable\">\n",
       "<tr>\n",
       "    <td></td>       <th>coef</th>     <th>std err</th>      <th>t</th>      <th>P>|t|</th>  <th>[0.025</th>    <th>0.975]</th>  \n",
       "</tr>\n",
       "<tr>\n",
       "  <th>const</th> <td>-1.388e-17</td> <td>    0.006</td> <td>-2.48e-15</td> <td> 1.000</td> <td>   -0.013</td> <td>    0.013</td>\n",
       "</tr>\n",
       "<tr>\n",
       "  <th>x1</th>    <td>    0.0463</td> <td>    0.261</td> <td>    0.177</td> <td> 0.863</td> <td>   -0.544</td> <td>    0.637</td>\n",
       "</tr>\n",
       "<tr>\n",
       "  <th>x2</th>    <td>   -1.0137</td> <td>    0.948</td> <td>   -1.070</td> <td> 0.313</td> <td>   -3.158</td> <td>    1.130</td>\n",
       "</tr>\n",
       "<tr>\n",
       "  <th>x3</th>    <td>   -0.5375</td> <td>    0.130</td> <td>   -4.136</td> <td> 0.003</td> <td>   -0.832</td> <td>   -0.244</td>\n",
       "</tr>\n",
       "<tr>\n",
       "  <th>x4</th>    <td>   -0.2047</td> <td>    0.042</td> <td>   -4.822</td> <td> 0.001</td> <td>   -0.301</td> <td>   -0.109</td>\n",
       "</tr>\n",
       "<tr>\n",
       "  <th>x5</th>    <td>   -0.1012</td> <td>    0.448</td> <td>   -0.226</td> <td> 0.826</td> <td>   -1.114</td> <td>    0.912</td>\n",
       "</tr>\n",
       "<tr>\n",
       "  <th>x6</th>    <td>    2.4797</td> <td>    0.617</td> <td>    4.016</td> <td> 0.003</td> <td>    1.083</td> <td>    3.876</td>\n",
       "</tr>\n",
       "</table>\n",
       "<table class=\"simpletable\">\n",
       "<tr>\n",
       "  <th>Omnibus:</th>       <td> 0.749</td> <th>  Durbin-Watson:     </th> <td>   2.559</td>\n",
       "</tr>\n",
       "<tr>\n",
       "  <th>Prob(Omnibus):</th> <td> 0.688</td> <th>  Jarque-Bera (JB):  </th> <td>   0.684</td>\n",
       "</tr>\n",
       "<tr>\n",
       "  <th>Skew:</th>          <td> 0.420</td> <th>  Prob(JB):          </th> <td>   0.710</td>\n",
       "</tr>\n",
       "<tr>\n",
       "  <th>Kurtosis:</th>      <td> 2.434</td> <th>  Cond. No.          </th> <td>    206.</td>\n",
       "</tr>\n",
       "</table><br/><br/>Notes:<br/>[1] Standard Errors assume that the covariance matrix of the errors is correctly specified."
      ],
      "text/plain": [
       "<class 'statsmodels.iolib.summary.Summary'>\n",
       "\"\"\"\n",
       "                            OLS Regression Results                            \n",
       "==============================================================================\n",
       "Dep. Variable:                      y   R-squared:                       0.995\n",
       "Model:                            OLS   Adj. R-squared:                  0.992\n",
       "Method:                 Least Squares   F-statistic:                     330.3\n",
       "Date:                Tue, 20 Apr 2021   Prob (F-statistic):           4.98e-10\n",
       "Time:                        19:21:51   Log-Likelihood:                 42.670\n",
       "No. Observations:                  16   AIC:                            -71.34\n",
       "Df Residuals:                       9   BIC:                            -65.93\n",
       "Df Model:                           6                                         \n",
       "Covariance Type:            nonrobust                                         \n",
       "==============================================================================\n",
       "                 coef    std err          t      P>|t|      [0.025      0.975]\n",
       "------------------------------------------------------------------------------\n",
       "const      -1.388e-17      0.006  -2.48e-15      1.000      -0.013       0.013\n",
       "x1             0.0463      0.261      0.177      0.863      -0.544       0.637\n",
       "x2            -1.0137      0.948     -1.070      0.313      -3.158       1.130\n",
       "x3            -0.5375      0.130     -4.136      0.003      -0.832      -0.244\n",
       "x4            -0.2047      0.042     -4.822      0.001      -0.301      -0.109\n",
       "x5            -0.1012      0.448     -0.226      0.826      -1.114       0.912\n",
       "x6             2.4797      0.617      4.016      0.003       1.083       3.876\n",
       "==============================================================================\n",
       "Omnibus:                        0.749   Durbin-Watson:                   2.559\n",
       "Prob(Omnibus):                  0.688   Jarque-Bera (JB):                0.684\n",
       "Skew:                           0.420   Prob(JB):                        0.710\n",
       "Kurtosis:                       2.434   Cond. No.                         206.\n",
       "==============================================================================\n",
       "\n",
       "Notes:\n",
       "[1] Standard Errors assume that the covariance matrix of the errors is correctly specified.\n",
       "\"\"\""
      ]
     },
     "execution_count": 49,
     "metadata": {},
     "output_type": "execute_result"
    }
   ],
   "source": [
    "# Do the multiple linear regression——对标准化后的数据\n",
    "model_std = sm.OLS(Y_std, X_std).fit()\n",
    "beta_std = model_std.params\n",
    "model_std.summary()"
   ]
  },
  {
   "cell_type": "markdown",
   "metadata": {},
   "source": [
    "**求 $(X^*)^{'}(X^*)$ 矩阵的特征值和特征向量:**\n",
    "\n",
    "使用iloc是为了把NaN去掉"
   ]
  },
  {
   "cell_type": "code",
   "execution_count": 52,
   "metadata": {},
   "outputs": [
    {
     "name": "stdout",
     "output_type": "stream",
     "text": [
      "    0         1         2         3         4         5         6         7\n",
      "0 NaN       NaN       NaN       NaN       NaN       NaN       NaN       NaN\n",
      "1 NaN  1.000000  0.991589  0.620633  0.464744  0.979163  0.991149  0.970899\n",
      "2 NaN  0.991589  1.000000  0.604261  0.446437  0.991090  0.995273  0.983552\n",
      "3 NaN  0.620633  0.604261  1.000000 -0.177421  0.686552  0.668257  0.502498\n",
      "4 NaN  0.464744  0.446437 -0.177421  1.000000  0.364416  0.417245  0.457307\n",
      "5 NaN  0.979163  0.991090  0.686552  0.364416  1.000000  0.993953  0.960391\n",
      "6 NaN  0.991149  0.995273  0.668257  0.417245  0.993953  1.000000  0.971329\n",
      "7 NaN  0.970899  0.983552  0.502498  0.457307  0.960391  0.971329  1.000000\n"
     ]
    },
    {
     "data": {
      "text/html": [
       "<div>\n",
       "<style scoped>\n",
       "    .dataframe tbody tr th:only-of-type {\n",
       "        vertical-align: middle;\n",
       "    }\n",
       "\n",
       "    .dataframe tbody tr th {\n",
       "        vertical-align: top;\n",
       "    }\n",
       "\n",
       "    .dataframe thead th {\n",
       "        text-align: right;\n",
       "    }\n",
       "</style>\n",
       "<table border=\"1\" class=\"dataframe\">\n",
       "  <thead>\n",
       "    <tr style=\"text-align: right;\">\n",
       "      <th></th>\n",
       "      <th>1</th>\n",
       "      <th>2</th>\n",
       "      <th>3</th>\n",
       "      <th>4</th>\n",
       "      <th>5</th>\n",
       "      <th>6</th>\n",
       "    </tr>\n",
       "  </thead>\n",
       "  <tbody>\n",
       "    <tr>\n",
       "      <th>1</th>\n",
       "      <td>1.000000</td>\n",
       "      <td>0.991589</td>\n",
       "      <td>0.620633</td>\n",
       "      <td>0.464744</td>\n",
       "      <td>0.979163</td>\n",
       "      <td>0.991149</td>\n",
       "    </tr>\n",
       "    <tr>\n",
       "      <th>2</th>\n",
       "      <td>0.991589</td>\n",
       "      <td>1.000000</td>\n",
       "      <td>0.604261</td>\n",
       "      <td>0.446437</td>\n",
       "      <td>0.991090</td>\n",
       "      <td>0.995273</td>\n",
       "    </tr>\n",
       "    <tr>\n",
       "      <th>3</th>\n",
       "      <td>0.620633</td>\n",
       "      <td>0.604261</td>\n",
       "      <td>1.000000</td>\n",
       "      <td>-0.177421</td>\n",
       "      <td>0.686552</td>\n",
       "      <td>0.668257</td>\n",
       "    </tr>\n",
       "    <tr>\n",
       "      <th>4</th>\n",
       "      <td>0.464744</td>\n",
       "      <td>0.446437</td>\n",
       "      <td>-0.177421</td>\n",
       "      <td>1.000000</td>\n",
       "      <td>0.364416</td>\n",
       "      <td>0.417245</td>\n",
       "    </tr>\n",
       "    <tr>\n",
       "      <th>5</th>\n",
       "      <td>0.979163</td>\n",
       "      <td>0.991090</td>\n",
       "      <td>0.686552</td>\n",
       "      <td>0.364416</td>\n",
       "      <td>1.000000</td>\n",
       "      <td>0.993953</td>\n",
       "    </tr>\n",
       "    <tr>\n",
       "      <th>6</th>\n",
       "      <td>0.991149</td>\n",
       "      <td>0.995273</td>\n",
       "      <td>0.668257</td>\n",
       "      <td>0.417245</td>\n",
       "      <td>0.993953</td>\n",
       "      <td>1.000000</td>\n",
       "    </tr>\n",
       "  </tbody>\n",
       "</table>\n",
       "</div>"
      ],
      "text/plain": [
       "          1         2         3         4         5         6\n",
       "1  1.000000  0.991589  0.620633  0.464744  0.979163  0.991149\n",
       "2  0.991589  1.000000  0.604261  0.446437  0.991090  0.995273\n",
       "3  0.620633  0.604261  1.000000 -0.177421  0.686552  0.668257\n",
       "4  0.464744  0.446437 -0.177421  1.000000  0.364416  0.417245\n",
       "5  0.979163  0.991090  0.686552  0.364416  1.000000  0.993953\n",
       "6  0.991149  0.995273  0.668257  0.417245  0.993953  1.000000"
      ]
     },
     "execution_count": 52,
     "metadata": {},
     "output_type": "execute_result"
    }
   ],
   "source": [
    "# (X*)'(X*) 矩阵等价于原始矩阵 X 样本相关矩阵\n",
    "R = df.corr()\n",
    "\n",
    "print(R)\n",
    "R = R.iloc[1:-1,1:-1]\n",
    "\n",
    "R"
   ]
  },
  {
   "cell_type": "code",
   "execution_count": 51,
   "metadata": {},
   "outputs": [
    {
     "data": {
      "text/html": [
       "<div>\n",
       "<style scoped>\n",
       "    .dataframe tbody tr th:only-of-type {\n",
       "        vertical-align: middle;\n",
       "    }\n",
       "\n",
       "    .dataframe tbody tr th {\n",
       "        vertical-align: top;\n",
       "    }\n",
       "\n",
       "    .dataframe thead th {\n",
       "        text-align: right;\n",
       "    }\n",
       "</style>\n",
       "<table border=\"1\" class=\"dataframe\">\n",
       "  <thead>\n",
       "    <tr style=\"text-align: right;\">\n",
       "      <th></th>\n",
       "      <th>0</th>\n",
       "      <th>1</th>\n",
       "      <th>2</th>\n",
       "      <th>3</th>\n",
       "      <th>4</th>\n",
       "      <th>5</th>\n",
       "    </tr>\n",
       "  </thead>\n",
       "  <tbody>\n",
       "    <tr>\n",
       "      <th>0</th>\n",
       "      <td>1.000000</td>\n",
       "      <td>0.991589</td>\n",
       "      <td>0.620633</td>\n",
       "      <td>0.464744</td>\n",
       "      <td>0.979163</td>\n",
       "      <td>0.991149</td>\n",
       "    </tr>\n",
       "    <tr>\n",
       "      <th>1</th>\n",
       "      <td>0.991589</td>\n",
       "      <td>1.000000</td>\n",
       "      <td>0.604261</td>\n",
       "      <td>0.446437</td>\n",
       "      <td>0.991090</td>\n",
       "      <td>0.995273</td>\n",
       "    </tr>\n",
       "    <tr>\n",
       "      <th>2</th>\n",
       "      <td>0.620633</td>\n",
       "      <td>0.604261</td>\n",
       "      <td>1.000000</td>\n",
       "      <td>-0.177421</td>\n",
       "      <td>0.686552</td>\n",
       "      <td>0.668257</td>\n",
       "    </tr>\n",
       "    <tr>\n",
       "      <th>3</th>\n",
       "      <td>0.464744</td>\n",
       "      <td>0.446437</td>\n",
       "      <td>-0.177421</td>\n",
       "      <td>1.000000</td>\n",
       "      <td>0.364416</td>\n",
       "      <td>0.417245</td>\n",
       "    </tr>\n",
       "    <tr>\n",
       "      <th>4</th>\n",
       "      <td>0.979163</td>\n",
       "      <td>0.991090</td>\n",
       "      <td>0.686552</td>\n",
       "      <td>0.364416</td>\n",
       "      <td>1.000000</td>\n",
       "      <td>0.993953</td>\n",
       "    </tr>\n",
       "    <tr>\n",
       "      <th>5</th>\n",
       "      <td>0.991149</td>\n",
       "      <td>0.995273</td>\n",
       "      <td>0.668257</td>\n",
       "      <td>0.417245</td>\n",
       "      <td>0.993953</td>\n",
       "      <td>1.000000</td>\n",
       "    </tr>\n",
       "  </tbody>\n",
       "</table>\n",
       "</div>"
      ],
      "text/plain": [
       "          0         1         2         3         4         5\n",
       "0  1.000000  0.991589  0.620633  0.464744  0.979163  0.991149\n",
       "1  0.991589  1.000000  0.604261  0.446437  0.991090  0.995273\n",
       "2  0.620633  0.604261  1.000000 -0.177421  0.686552  0.668257\n",
       "3  0.464744  0.446437 -0.177421  1.000000  0.364416  0.417245\n",
       "4  0.979163  0.991090  0.686552  0.364416  1.000000  0.993953\n",
       "5  0.991149  0.995273  0.668257  0.417245  0.993953  1.000000"
      ]
     },
     "execution_count": 51,
     "metadata": {},
     "output_type": "execute_result"
    }
   ],
   "source": [
    "#求 (X*)'(X*) 矩阵，结果与样本相关矩阵一致\n",
    "R1 = np.dot(X_std.T,X_std) \n",
    "R1 = pd.DataFrame(R1[1:,1:])\n",
    "\n",
    "R1"
   ]
  },
  {
   "cell_type": "code",
   "execution_count": 16,
   "metadata": {},
   "outputs": [
    {
     "name": "stdout",
     "output_type": "stream",
     "text": [
      "特征值: [4.60337710e+00 1.17534050e+00 2.03425372e-01 1.49282587e-02\n",
      " 2.55206576e-03 3.76708133e-04]\n"
     ]
    }
   ],
   "source": [
    "# 求特征值 & 特征向量\n",
    "W, V = np.linalg.eig(R)\n",
    "W_diag = np.diag(W)\n",
    "V = V.T # 这里需要转置\n",
    "print('特征值:', W)"
   ]
  },
  {
   "cell_type": "code",
   "execution_count": 54,
   "metadata": {},
   "outputs": [],
   "source": [
    "# print(W_diag)\n",
    "# print(sum(W)) # 验证特征值求和值为 p\n",
    "# VV = np.dot(V,V.T)\n",
    "# VV = pd.DataFrame(VV)\n",
    "# print(VV) # 验证矩阵 V'V 结果为单位阵"
   ]
  },
  {
   "cell_type": "markdown",
   "metadata": {},
   "source": [
    "**判断 X 矩阵是否具有多重共线性:**"
   ]
  },
  {
   "cell_type": "code",
   "execution_count": 33,
   "metadata": {},
   "outputs": [
    {
     "name": "stdout",
     "output_type": "stream",
     "text": [
      "VIF方法判断结果(阈值为 5): \n",
      "设计矩阵 X 存在多重共线性.\n",
      "\n",
      "特征值判定法判断结果(阈值为 10): \n",
      "设计矩阵 X 存在多重共线性，其中kappa值为：110.5442\n"
     ]
    }
   ],
   "source": [
    "# 定义\"判断多重共线性\"的函数\n",
    "# 参数: (X_list: 设计矩阵 X, thres_vif: VIF 方法判断多重共线性的阈值, thres_kappa: 特征值方法判断多重共线性的阈值)\n",
    "\n",
    "def judge_col(X_list, thres_vif, thres_kappa): \n",
    "    var_num = X_list.shape[1]\n",
    "    print('VIF方法判断结果(阈值为 %d): '% thres_vif)\n",
    "    vif = [variance_inflation_factor(X_list, i) for i in range(var_num)]\n",
    "    for i in range(var_num):\n",
    "        if vif[i] >= thres_vif:\n",
    "            print('设计矩阵 X 存在多重共线性.')\n",
    "            break\n",
    "        elif i == var_num-1:\n",
    "            print('设计矩阵 X 不存在多重共线性.')\n",
    "\n",
    "    print('\\n特征值判定法判断结果(阈值为 %d): '% thres_kappa)\n",
    "    kappa = []\n",
    "    for i in range(var_num):\n",
    "        kappa.append(np.sqrt(max(W) / W[i]))\n",
    "    if np.max(kappa) >= thres_kappa:\n",
    "        print('设计矩阵 X 存在多重共线性，其中kappa值为：%.4f'% np.max(kappa))\n",
    "    else:\n",
    "        print('设计矩阵 X 不存在多重共线性，其中kappa值为：%.4f'% np.max(kappa))\n",
    "\n",
    "# 判断多重共线性\n",
    "judge_col(X_std[:,1:p+1], 5, 10)"
   ]
  },
  {
   "cell_type": "markdown",
   "metadata": {},
   "source": [
    "Q2 **构造主成分矩阵 Z:**"
   ]
  },
  {
   "cell_type": "code",
   "execution_count": 34,
   "metadata": {},
   "outputs": [],
   "source": [
    "# 构造主成分矩阵 Z\n",
    "Z = np.dot(X_std[:,1:p+1],V.T)"
   ]
  },
  {
   "cell_type": "code",
   "execution_count": 55,
   "metadata": {},
   "outputs": [
    {
     "name": "stdout",
     "output_type": "stream",
     "text": [
      "              0             1             2             3             4  \\\n",
      "0  4.603377e+00  3.348016e-16  6.175616e-16 -1.394718e-15  7.158484e-16   \n",
      "1  3.348016e-16  1.175340e+00  1.665335e-16  3.018419e-16  8.056639e-17   \n",
      "2  6.175616e-16  1.665335e-16  2.034254e-01  1.110223e-16  7.504068e-17   \n",
      "3 -1.394718e-15  3.018419e-16  1.110223e-16  1.492826e-02 -4.828912e-17   \n",
      "4  7.158484e-16  8.056639e-17  7.504068e-17 -4.828912e-17  2.552066e-03   \n",
      "5  8.801120e-16  1.645427e-16 -7.522021e-17 -1.051376e-16  1.114197e-16   \n",
      "\n",
      "              5  \n",
      "0  8.801120e-16  \n",
      "1  1.645427e-16  \n",
      "2 -7.522021e-17  \n",
      "3 -1.051376e-16  \n",
      "4  1.114197e-16  \n",
      "5  3.767081e-04  \n"
     ]
    }
   ],
   "source": [
    "ZZ = np.dot(Z.T,Z)\n",
    "ZZ = pd.DataFrame(ZZ)\n",
    "print(ZZ)  # 验证主成分矩阵 Z 各列之间正交，主对角线元素对应的是特征值"
   ]
  },
  {
   "cell_type": "code",
   "execution_count": 35,
   "metadata": {},
   "outputs": [
    {
     "name": "stdout",
     "output_type": "stream",
     "text": [
      "(X*)'X*的行列式:  1.5796154862476483e-08\n"
     ]
    }
   ],
   "source": [
    "D = np.linalg.det(R)\n",
    "print('(X*)\\'X*的行列式: ', D)"
   ]
  },
  {
   "cell_type": "markdown",
   "metadata": {},
   "source": [
    "由于 $|(X^*)^{'}(X^*)| \\approx 0$, 则存在一个 k, 使得 $\\lambda_{k+1},\\cdots,\\lambda_p$ 均近似为 0. 因此 $\\mathbf{z}_{k+1},\\cdots,\\mathbf{z}_p$ 近似为 $\\mathbf{0}$ "
   ]
  },
  {
   "cell_type": "markdown",
   "metadata": {},
   "source": [
    "**选主成分:**"
   ]
  },
  {
   "cell_type": "code",
   "execution_count": 36,
   "metadata": {},
   "outputs": [
    {
     "name": "stdout",
     "output_type": "stream",
     "text": [
      "特征值为:  [4.603377095768392, 1.175340499257147, 0.20342537240143485, 0.014928258677276977, 0.0025520657630747927, 0.00037670813267750826]\n",
      "排序后特征值对应的原索引值:  [0 1 2 3 4 5]\n"
     ]
    }
   ],
   "source": [
    "# 对特征值按降序排序\n",
    "W_srt = W.tolist()\n",
    "W_srt.sort(reverse=True)\n",
    "W_idx = np.argsort(-W) # 返回的是元素值降序排序后的索引值的数组\n",
    "print('特征值为: ', W_srt)\n",
    "print('排序后特征值对应的原索引值: ', W_idx)"
   ]
  },
  {
   "cell_type": "markdown",
   "metadata": {},
   "source": [
    "**我们使用一张碎石图来辅助变量选择**"
   ]
  },
  {
   "cell_type": "code",
   "execution_count": 37,
   "metadata": {},
   "outputs": [
    {
     "data": {
      "image/png": "[encoded data removed]",
      "text/plain": [
       "<Figure size 432x288 with 1 Axes>"
      ]
     },
     "metadata": {
      "needs_background": "light"
     },
     "output_type": "display_data"
    }
   ],
   "source": [
    "# 绘制主成分的累计贡献率(响应变量中解释的方差百分比)与组件数量的碎石图\n",
    "comp = range(0, p+1)\n",
    "# 主成分的累计贡献率(计算方差百分比)\n",
    "summ = 0\n",
    "W_sum = [0]\n",
    "for i in range(p):\n",
    "    summ += W_srt[i]\n",
    "    W_sum.append(summ / p)\n",
    "plt.plot(comp, W_sum)\n",
    "plt.xlabel('Number of PCR components')\n",
    "plt.ylabel('Percent Variance Explained in Y')\n",
    "for i,j in zip(comp, W_sum):\n",
    "    plt.text(i, j, '%.4f' % float(j))"
   ]
  },
  {
   "cell_type": "markdown",
   "metadata": {},
   "source": [
    "**观察，寻找碎石图从陡峭逐渐变平坦前的变量，保留累计贡献率比重大的主成分**"
   ]
  },
  {
   "cell_type": "code",
   "execution_count": 59,
   "metadata": {},
   "outputs": [
    {
     "name": "stdout",
     "output_type": "stream",
     "text": [
      "保留变量个数为:  2\n"
     ]
    }
   ],
   "source": [
    "c_pc = 0.8\n",
    "cnt = True\n",
    "thres = p * c_pc\n",
    "\n",
    "while cnt:\n",
    "    W_sum = 0\n",
    "    W_summ = W_srt[0] \n",
    "    for i in range(p-1):\n",
    "        k1 = i + 1 \n",
    "        W_sum += W_srt[i]\n",
    "        W_summ += W_srt[i+1]\n",
    "        # print(i,W_sum,W_summ,thres)\n",
    "        if (W_sum < thres) & (W_summ >= thres):\n",
    "            cnt = False\n",
    "            break\n",
    "        elif i == p - 2:\n",
    "            cnt = False\n",
    "            k1 = i + 1\n",
    "            break\n",
    "k1 = k1 + 1\n",
    "print('保留变量个数为: ', k1) "
   ]
  },
  {
   "cell_type": "markdown",
   "metadata": {},
   "source": [
    "删除特征值接近于零的主成分"
   ]
  },
  {
   "cell_type": "code",
   "execution_count": 39,
   "metadata": {},
   "outputs": [
    {
     "name": "stdout",
     "output_type": "stream",
     "text": [
      "保留变量个数为:  2\n"
     ]
    }
   ],
   "source": [
    "for i in range(p):\n",
    "    if W_srt[i] < 1:\n",
    "        k2 = i\n",
    "        break\n",
    "print('保留变量个数为: ', k2)   "
   ]
  },
  {
   "cell_type": "code",
   "execution_count": 40,
   "metadata": {},
   "outputs": [
    {
     "name": "stdout",
     "output_type": "stream",
     "text": [
      "5 0.21723182333231833\n",
      "10 1.0680490976728454\n",
      "15 5.9838567385536665\n",
      "20 72.9709060400337\n",
      "保留变量个数 <= 3\n"
     ]
    }
   ],
   "source": [
    "# 均方误差确定 k\n",
    "mse = 0\n",
    "for i in range(p):\n",
    "    k3 = p\n",
    "    mse += 1 / W_srt[i]\n",
    "    print(5 * (i + 1), mse)\n",
    "    if mse > 5 * (i + 1):\n",
    "        k3 = i\n",
    "        break\n",
    "    elif i == p-1:\n",
    "        k3 = p\n",
    "        break\n",
    "print('保留变量个数 <=', k3) "
   ]
  },
  {
   "cell_type": "markdown",
   "metadata": {},
   "source": [
    "在变量选择上，我们主要还是参考特征值的贡献度，所以所以我们选择保留变量的个数为 2 个。"
   ]
  },
  {
   "cell_type": "markdown",
   "metadata": {},
   "source": [
    "**Q3:对降维后的数据进行回归分析**"
   ]
  },
  {
   "cell_type": "code",
   "execution_count": 41,
   "metadata": {},
   "outputs": [
    {
     "name": "stdout",
     "output_type": "stream",
     "text": [
      "系数: [0.44565109 0.11156928]\n"
     ]
    }
   ],
   "source": [
    "# 矩阵拆分\n",
    "k = k1\n",
    "list_var1 = W_idx[0:k] # 记录降序排序后的前 k 个主成分\n",
    "list_var2 = W_idx[k:]\n",
    "# list_var1 = [0,2] \n",
    "# list_var2 = [1,3]\n",
    "\n",
    "Z_1 = Z[:,list_var1]\n",
    "Z_2 = Z[:,list_var2]\n",
    "\n",
    "W_diag_1 = np.diag(W_diag[list_var1,list_var1])\n",
    "W_diag_2 = np.diag(W_diag[list_var2,list_var2])\n",
    "\n",
    "# 按行进行拆分\n",
    "V_1 = V[list_var1,:]\n",
    "V_2 = V[list_var2,:]\n",
    "\n",
    "# α的估计\n",
    "# alpha_hat = np.linalg.inv(W_diag) @ Z.T @ Y_std\n",
    "alpha1_hat = np.linalg.inv(W_diag_1) @ Z_1.T @ Y_std\n",
    "print('系数:', alpha1_hat)\n",
    "\n",
    "# 主成分估计\n",
    "# beta_pc = np.dot(V_1.T,alpha1_hat)\n",
    "# print(beta_pc)\n",
    "# print(V_1.T @ V_1 @ beta_std[1:]) # 验证PPT 99页的性质1"
   ]
  },
  {
   "cell_type": "code",
   "execution_count": 42,
   "metadata": {},
   "outputs": [
    {
     "name": "stderr",
     "output_type": "stream",
     "text": [
      "/Users/sunqiushi/opt/anaconda3/lib/python3.8/site-packages/scipy/stats/stats.py:1603: UserWarning: kurtosistest only valid for n>=20 ... continuing anyway, n=16\n",
      "  warnings.warn(\"kurtosistest only valid for n>=20 ... continuing \"\n"
     ]
    },
    {
     "data": {
      "text/html": [
       "<table class=\"simpletable\">\n",
       "<caption>OLS Regression Results</caption>\n",
       "<tr>\n",
       "  <th>Dep. Variable:</th>            <td>y</td>        <th>  R-squared (uncentered):</th>      <td>   0.929</td>\n",
       "</tr>\n",
       "<tr>\n",
       "  <th>Model:</th>                   <td>OLS</td>       <th>  Adj. R-squared (uncentered):</th> <td>   0.919</td>\n",
       "</tr>\n",
       "<tr>\n",
       "  <th>Method:</th>             <td>Least Squares</td>  <th>  F-statistic:       </th>          <td>   91.43</td>\n",
       "</tr>\n",
       "<tr>\n",
       "  <th>Date:</th>             <td>Tue, 20 Apr 2021</td> <th>  Prob (F-statistic):</th>          <td>9.20e-09</td>\n",
       "</tr>\n",
       "<tr>\n",
       "  <th>Time:</th>                 <td>19:07:14</td>     <th>  Log-Likelihood:    </th>          <td>  20.625</td>\n",
       "</tr>\n",
       "<tr>\n",
       "  <th>No. Observations:</th>      <td>    16</td>      <th>  AIC:               </th>          <td>  -37.25</td>\n",
       "</tr>\n",
       "<tr>\n",
       "  <th>Df Residuals:</th>          <td>    14</td>      <th>  BIC:               </th>          <td>  -35.71</td>\n",
       "</tr>\n",
       "<tr>\n",
       "  <th>Df Model:</th>              <td>     2</td>      <th>                     </th>              <td> </td>   \n",
       "</tr>\n",
       "<tr>\n",
       "  <th>Covariance Type:</th>      <td>nonrobust</td>    <th>                     </th>              <td> </td>   \n",
       "</tr>\n",
       "</table>\n",
       "<table class=\"simpletable\">\n",
       "<tr>\n",
       "   <td></td>     <th>coef</th>     <th>std err</th>      <th>t</th>      <th>P>|t|</th>  <th>[0.025</th>    <th>0.975]</th>  \n",
       "</tr>\n",
       "<tr>\n",
       "  <th>x1</th> <td>    0.4457</td> <td>    0.033</td> <td>   13.416</td> <td> 0.000</td> <td>    0.374</td> <td>    0.517</td>\n",
       "</tr>\n",
       "<tr>\n",
       "  <th>x2</th> <td>    0.1116</td> <td>    0.066</td> <td>    1.697</td> <td> 0.112</td> <td>   -0.029</td> <td>    0.253</td>\n",
       "</tr>\n",
       "</table>\n",
       "<table class=\"simpletable\">\n",
       "<tr>\n",
       "  <th>Omnibus:</th>       <td> 0.210</td> <th>  Durbin-Watson:     </th> <td>   1.919</td>\n",
       "</tr>\n",
       "<tr>\n",
       "  <th>Prob(Omnibus):</th> <td> 0.900</td> <th>  Jarque-Bera (JB):  </th> <td>   0.371</td>\n",
       "</tr>\n",
       "<tr>\n",
       "  <th>Skew:</th>          <td>-0.201</td> <th>  Prob(JB):          </th> <td>   0.831</td>\n",
       "</tr>\n",
       "<tr>\n",
       "  <th>Kurtosis:</th>      <td> 2.371</td> <th>  Cond. No.          </th> <td>    1.98</td>\n",
       "</tr>\n",
       "</table><br/><br/>Notes:<br/>[1] R² is computed without centering (uncentered) since the model does not contain a constant.<br/>[2] Standard Errors assume that the covariance matrix of the errors is correctly specified."
      ],
      "text/plain": [
       "<class 'statsmodels.iolib.summary.Summary'>\n",
       "\"\"\"\n",
       "                                 OLS Regression Results                                \n",
       "=======================================================================================\n",
       "Dep. Variable:                      y   R-squared (uncentered):                   0.929\n",
       "Model:                            OLS   Adj. R-squared (uncentered):              0.919\n",
       "Method:                 Least Squares   F-statistic:                              91.43\n",
       "Date:                Tue, 20 Apr 2021   Prob (F-statistic):                    9.20e-09\n",
       "Time:                        19:07:14   Log-Likelihood:                          20.625\n",
       "No. Observations:                  16   AIC:                                     -37.25\n",
       "Df Residuals:                      14   BIC:                                     -35.71\n",
       "Df Model:                           2                                                  \n",
       "Covariance Type:            nonrobust                                                  \n",
       "==============================================================================\n",
       "                 coef    std err          t      P>|t|      [0.025      0.975]\n",
       "------------------------------------------------------------------------------\n",
       "x1             0.4457      0.033     13.416      0.000       0.374       0.517\n",
       "x2             0.1116      0.066      1.697      0.112      -0.029       0.253\n",
       "==============================================================================\n",
       "Omnibus:                        0.210   Durbin-Watson:                   1.919\n",
       "Prob(Omnibus):                  0.900   Jarque-Bera (JB):                0.371\n",
       "Skew:                          -0.201   Prob(JB):                        0.831\n",
       "Kurtosis:                       2.371   Cond. No.                         1.98\n",
       "==============================================================================\n",
       "\n",
       "Notes:\n",
       "[1] R² is computed without centering (uncentered) since the model does not contain a constant.\n",
       "[2] Standard Errors assume that the covariance matrix of the errors is correctly specified.\n",
       "\"\"\""
      ]
     },
     "execution_count": 42,
     "metadata": {},
     "output_type": "execute_result"
    }
   ],
   "source": [
    "# 使用拆分后的数据用线性回归模型进行建模\n",
    "X_pc = Z_1\n",
    "model_pc = sm.OLS(Y_std, X_pc).fit()\n",
    "model_pc.summary()"
   ]
  },
  {
   "cell_type": "markdown",
   "metadata": {},
   "source": [
    "**判断多重共线性 (k > 1 时才可能存在多重共线性问题)**"
   ]
  },
  {
   "cell_type": "code",
   "execution_count": 60,
   "metadata": {},
   "outputs": [
    {
     "name": "stdout",
     "output_type": "stream",
     "text": [
      "VIF方法判断结果(阈值为 5): \n",
      "设计矩阵 X 不存在多重共线性.\n",
      "\n",
      "特征值判定法判断结果(阈值为 10): \n",
      "设计矩阵 X 不存在多重共线性，其中kappa值为：1.9790\n"
     ]
    }
   ],
   "source": [
    "judge_col(X_pc, thres_vif=5, thres_kappa=10)"
   ]
  },
  {
   "cell_type": "code",
   "execution_count": 61,
   "metadata": {},
   "outputs": [
    {
     "name": "stderr",
     "output_type": "stream",
     "text": [
      "/Users/sunqiushi/opt/anaconda3/lib/python3.8/site-packages/scipy/stats/stats.py:1603: UserWarning: kurtosistest only valid for n>=20 ... continuing anyway, n=16\n",
      "  warnings.warn(\"kurtosistest only valid for n>=20 ... continuing \"\n"
     ]
    },
    {
     "data": {
      "text/html": [
       "<table class=\"simpletable\">\n",
       "<caption>OLS Regression Results</caption>\n",
       "<tr>\n",
       "  <th>Dep. Variable:</th>            <td>y</td>        <th>  R-squared (uncentered):</th>      <td>   0.929</td>\n",
       "</tr>\n",
       "<tr>\n",
       "  <th>Model:</th>                   <td>OLS</td>       <th>  Adj. R-squared (uncentered):</th> <td>   0.919</td>\n",
       "</tr>\n",
       "<tr>\n",
       "  <th>Method:</th>             <td>Least Squares</td>  <th>  F-statistic:       </th>          <td>   91.43</td>\n",
       "</tr>\n",
       "<tr>\n",
       "  <th>Date:</th>             <td>Tue, 20 Apr 2021</td> <th>  Prob (F-statistic):</th>          <td>9.20e-09</td>\n",
       "</tr>\n",
       "<tr>\n",
       "  <th>Time:</th>                 <td>22:59:18</td>     <th>  Log-Likelihood:    </th>          <td>  20.625</td>\n",
       "</tr>\n",
       "<tr>\n",
       "  <th>No. Observations:</th>      <td>    16</td>      <th>  AIC:               </th>          <td>  -37.25</td>\n",
       "</tr>\n",
       "<tr>\n",
       "  <th>Df Residuals:</th>          <td>    14</td>      <th>  BIC:               </th>          <td>  -35.71</td>\n",
       "</tr>\n",
       "<tr>\n",
       "  <th>Df Model:</th>              <td>     2</td>      <th>                     </th>              <td> </td>   \n",
       "</tr>\n",
       "<tr>\n",
       "  <th>Covariance Type:</th>      <td>nonrobust</td>    <th>                     </th>              <td> </td>   \n",
       "</tr>\n",
       "</table>\n",
       "<table class=\"simpletable\">\n",
       "<tr>\n",
       "   <td></td>     <th>coef</th>     <th>std err</th>      <th>t</th>      <th>P>|t|</th>  <th>[0.025</th>    <th>0.975]</th>  \n",
       "</tr>\n",
       "<tr>\n",
       "  <th>x1</th> <td>   -0.4457</td> <td>    0.033</td> <td>  -13.416</td> <td> 0.000</td> <td>   -0.517</td> <td>   -0.374</td>\n",
       "</tr>\n",
       "<tr>\n",
       "  <th>x2</th> <td>    0.1116</td> <td>    0.066</td> <td>    1.697</td> <td> 0.112</td> <td>   -0.029</td> <td>    0.253</td>\n",
       "</tr>\n",
       "</table>\n",
       "<table class=\"simpletable\">\n",
       "<tr>\n",
       "  <th>Omnibus:</th>       <td> 0.210</td> <th>  Durbin-Watson:     </th> <td>   1.919</td>\n",
       "</tr>\n",
       "<tr>\n",
       "  <th>Prob(Omnibus):</th> <td> 0.900</td> <th>  Jarque-Bera (JB):  </th> <td>   0.371</td>\n",
       "</tr>\n",
       "<tr>\n",
       "  <th>Skew:</th>          <td>-0.201</td> <th>  Prob(JB):          </th> <td>   0.831</td>\n",
       "</tr>\n",
       "<tr>\n",
       "  <th>Kurtosis:</th>      <td> 2.371</td> <th>  Cond. No.          </th> <td>    1.98</td>\n",
       "</tr>\n",
       "</table><br/><br/>Notes:<br/>[1] R² is computed without centering (uncentered) since the model does not contain a constant.<br/>[2] Standard Errors assume that the covariance matrix of the errors is correctly specified."
      ],
      "text/plain": [
       "<class 'statsmodels.iolib.summary.Summary'>\n",
       "\"\"\"\n",
       "                                 OLS Regression Results                                \n",
       "=======================================================================================\n",
       "Dep. Variable:                      y   R-squared (uncentered):                   0.929\n",
       "Model:                            OLS   Adj. R-squared (uncentered):              0.919\n",
       "Method:                 Least Squares   F-statistic:                              91.43\n",
       "Date:                Tue, 20 Apr 2021   Prob (F-statistic):                    9.20e-09\n",
       "Time:                        22:59:18   Log-Likelihood:                          20.625\n",
       "No. Observations:                  16   AIC:                                     -37.25\n",
       "Df Residuals:                      14   BIC:                                     -35.71\n",
       "Df Model:                           2                                                  \n",
       "Covariance Type:            nonrobust                                                  \n",
       "==============================================================================\n",
       "                 coef    std err          t      P>|t|      [0.025      0.975]\n",
       "------------------------------------------------------------------------------\n",
       "x1            -0.4457      0.033    -13.416      0.000      -0.517      -0.374\n",
       "x2             0.1116      0.066      1.697      0.112      -0.029       0.253\n",
       "==============================================================================\n",
       "Omnibus:                        0.210   Durbin-Watson:                   1.919\n",
       "Prob(Omnibus):                  0.900   Jarque-Bera (JB):                0.371\n",
       "Skew:                          -0.201   Prob(JB):                        0.831\n",
       "Kurtosis:                       2.371   Cond. No.                         1.98\n",
       "==============================================================================\n",
       "\n",
       "Notes:\n",
       "[1] R² is computed without centering (uncentered) since the model does not contain a constant.\n",
       "[2] Standard Errors assume that the covariance matrix of the errors is correctly specified.\n",
       "\"\"\""
      ]
     },
     "execution_count": 61,
     "metadata": {},
     "output_type": "execute_result"
    }
   ],
   "source": [
    "# 创建pca模型\n",
    "pca = PCA(n_components=2)\n",
    "\n",
    "# 对模型进行训练\n",
    "X_pc_ = X_std * 1.0\n",
    "pca.fit(X_pc_)\n",
    "\n",
    "# 返回降维后数据\n",
    "X_pc_ = pca.transform(X_pc_)\n",
    "\n",
    "# 使用返回后的数据用线性回归模型进行建模\n",
    "model_pc_ = sm.OLS(Y_std, X_pc_).fit()\n",
    "model_pc_.summary()"
   ]
  },
  {
   "cell_type": "markdown",
   "metadata": {},
   "source": [
    "判断多重共线性\n",
    "\n",
    "k 值大于 1 时才可能存在多重共线性问题"
   ]
  },
  {
   "cell_type": "code",
   "execution_count": 45,
   "metadata": {},
   "outputs": [
    {
     "name": "stdout",
     "output_type": "stream",
     "text": [
      "VIF方法判断结果(阈值为 5): \n",
      "设计矩阵 X 不存在多重共线性.\n",
      "\n",
      "特征值判定法判断结果(阈值为 10): \n",
      "设计矩阵 X 不存在多重共线性，其中kappa值为：1.9790\n"
     ]
    }
   ],
   "source": [
    "judge_col(X_pc_, thres_vif=5, thres_kappa=10)"
   ]
  },
  {
   "cell_type": "markdown",
   "metadata": {},
   "source": [
    "Remark\n",
    "\n",
    "**碎石图** : 碎石图是显示降序的与分量或因子关联的特征值以及分量或因子的数量。用在主分量分析和因子分析中，以直观地评估哪些分量或因子占数据中变异性的大部分。 碎石图中的理想模式是一条陡曲线，接着是一段弯曲，然后是一条平坦或水平的线。保留陡曲线中在开始平坦线趋势的第一个点之前的那些分量或因子。我们使用碎石图来寻找贡献主成分的变量。"
   ]
  },
  {
   "cell_type": "markdown",
   "metadata": {},
   "source": [
    "**End of Homework8**"
   ]
  }
 ],
 "metadata": {
  "kernelspec": {
   "display_name": "Python 3",
   "language": "python",
   "name": "python3"
  },
  "language_info": {
   "codemirror_mode": {
    "name": "ipython",
    "version": 3
   },
   "file_extension": ".py",
   "mimetype": "text/x-python",
   "name": "python",
   "nbconvert_exporter": "python",
   "pygments_lexer": "ipython3",
   "version": "3.8.5"
  }
 },
 "nbformat": 4,
 "nbformat_minor": 4
}