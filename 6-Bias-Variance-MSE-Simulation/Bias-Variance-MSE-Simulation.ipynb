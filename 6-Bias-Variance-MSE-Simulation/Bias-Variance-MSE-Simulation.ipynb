{
 "cells": [
  {
   "cell_type": "markdown",
   "metadata": {},
   "source": [
    "# Statistical-Methods Homework6: Bias, Variance, MSE值随选择变量数的变化\n",
    "\n",
    "https://github.com/QiushiSun\n",
    "\n",
    "为了研究线性回归模型中出现过拟合和欠拟合时偏差、方差和均方误差的关系，我们通过随机模拟进行变量选择，模拟线性回归模型的过拟合和欠拟合时Bias、Var、MSE的相对关系。\n",
    "\n",
    "理论依据：\n",
    "$$\n",
    "\\operatorname{MSE}\\left(\\hat{y}_{0}\\right)=E\\left(\\hat{y}_{0}-E\\left(y_{0}\\right)\\right)^{2}=\\operatorname{Bias}^{2}\\left(\\hat{y}_{0}\\right)+\\operatorname{Var}\\left(\\hat{y}_{0}\\right)\n",
    "$$"
   ]
  },
  {
   "cell_type": "markdown",
   "metadata": {},
   "source": [
    "在模拟中，我们定义\n",
    "\n",
    "$$\n",
    "\\begin{aligned}\n",
    "\\operatorname{Bias}_{k}^{2} &=\\left(\\frac{1}{M} \\sum_{m=1}^{M} \\hat{y}_{0, m}^{(k)}-\\boldsymbol{x}_{0}^{\\prime} \\boldsymbol{\\beta}\\right)^{2} \\\\\n",
    "\\operatorname{Var}_{k} &=\\frac{1}{M} \\sum_{m=1}^{M}\\left(\\hat{y}_{0, m}^{(k)}-\\frac{1}{M} \\sum_{m=1}^{M} \\hat{y}_{0, m}^{(k)}\\right)^{2} \\\\\n",
    "\\mathrm{MSE}_{k} &=\\frac{1}{M} \\sum_{m=1}^{M}\\left(\\hat{y}_{0, m}^{(k)}-\\boldsymbol{x}_{0}^{\\prime} \\boldsymbol{\\beta}\\right)^{2}\n",
    "\\end{aligned}\n",
    "$$"
   ]
  },
  {
   "cell_type": "code",
   "execution_count": 120,
   "metadata": {},
   "outputs": [],
   "source": [
    "# load some packages\n",
    "import math\n",
    "import numpy as np\n",
    "import random\n",
    "import pandas as pd\n",
    "from sklearn.linear_model import LinearRegression\n",
    "import matplotlib.pyplot as plt"
   ]
  },
  {
   "cell_type": "code",
   "execution_count": 121,
   "metadata": {},
   "outputs": [],
   "source": [
    "model = LinearRegression() #使用sklearn的线性回归\n",
    "\n",
    "def LinReg(x, y):\n",
    "    model = LinearRegression() #调用线性回归\n",
    "    model.fit(x, y) #开始拟合\n",
    "    return [model.intercept_] + list(model.coef_) #返回intercept和系数，连接在一起"
   ]
  },
  {
   "cell_type": "code",
   "execution_count": 122,
   "metadata": {},
   "outputs": [],
   "source": [
    "# 初始化 偏差，方差，MSE\n",
    "Bias_square = []\n",
    "Variance = []\n",
    "MSE = []\n",
    "\n",
    "Sim_time = 5000\n",
    "N = 500\n",
    "\n",
    "Factor_start = 2 #最少选择两个自变量\n",
    "Factor_finish = 18 #最多选择十八个自变量\n",
    "Total_Factor = 20 #总共有二十个自变量\n",
    "\n",
    "Simulation_Range = range(Factor_start, Factor_finish + 1)\n",
    "cov = np.zeros((20,20))\n",
    "pivot = 0\n",
    "\n",
    "# 初始化一个协方差矩阵，对角线初始化为1，其余部分全部初始化为0.02\n",
    "\n",
    "# 这里其实可以用np.array()写在一行里，但是可读性很差\n",
    "for i in range(0,20):\n",
    "    cov[i][pivot] = 1\n",
    "    pivot = pivot + 1 # pivot 初始化为1\n",
    "    for left in range(0,pivot-1):\n",
    "        cov[i][left]=0.02\n",
    "    for right in range(pivot,20):\n",
    "        cov[i][right]=0.02\n",
    "        \n",
    "        \n",
    "# 待预测样本\n",
    "x0 = np.zeros(Total_Factor+1)\n",
    "x0[0]=1\n",
    "for i in range(1,Total_Factor+1):\n",
    "    x0[i]=0.5\n",
    "\n",
    "# 初始化权重向量\n",
    "W = np.array([1] + [((Total_Factor - num + 2)/((Total_Factor+5) * Total_Factor/2)) for num in range(Total_Factor)])\n",
    "\n",
    "# 真实值\n",
    "y0 = (W * x0).sum()"
   ]
  },
  {
   "cell_type": "code",
   "execution_count": 124,
   "metadata": {},
   "outputs": [],
   "source": [
    "for R in Simulation_Range:\n",
    "    # 每个参数选择情况选择一次，然后模拟5000次\n",
    "    y_hat = []\n",
    "    for M in range(Sim_time): \n",
    "        x = np.random.multivariate_normal(np.zeros((Total_Factor)), Cov, (N,),'raise') #raise是用来限制正定\n",
    "        # 初始化多元正态分布\n",
    "        y = [((W * ([1.0] + list(x[n1]))).sum()) for n1 in range(N)] + np.random.normal(size=N, scale=2) #scale是标准差\n",
    "        # 初始化y\n",
    "        beta = np.array(LinReg([x[n2][:R] for n2 in range(N)], y))\n",
    "        # 线性回归获得beta\n",
    "        y_hat.append((beta * x0[:R+1]).sum())\n",
    "    y_hat = np.array(y_hat) #y的估计y_hat\n",
    "   \n",
    "    Bias_square.append((y_hat.mean() - y0) ** 2) # 注意mean的是y_hat\n",
    "    Variance.append(((y_hat - y_hat.mean()) ** 2).mean())\n",
    "    MSE.append(((y_hat - y0) ** 2).mean())"
   ]
  },
  {
   "cell_type": "code",
   "execution_count": 125,
   "metadata": {},
   "outputs": [
    {
     "name": "stdout",
     "output_type": "stream",
     "text": [
      "[ 0.97810422  0.09613969  0.26383144  0.05278557  0.08086797 -0.10062772\n",
      "  0.24326254  0.1158927  -0.03561202  0.23314127 -0.0220613   0.10878291\n",
      "  0.19346671  0.00434821  0.0404468  -0.01714273 -0.04755277  0.15061277\n",
      " -0.1346967 ]\n"
     ]
    }
   ],
   "source": [
    "print(beta) #可以看到第一项为截距项，后面为权重系数"
   ]
  },
  {
   "cell_type": "code",
   "execution_count": 126,
   "metadata": {},
   "outputs": [
    {
     "name": "stdout",
     "output_type": "stream",
     "text": [
      "MSE: 0.1674676366536075 Factor numbers: 2\n",
      "MSE: 0.137038417554567 Factor numbers: 3\n",
      "MSE: 0.11298119724582298 Factor numbers: 4\n",
      "MSE: 0.09096536685858551 Factor numbers: 5\n",
      "MSE: 0.07490716501100197 Factor numbers: 6\n",
      "MSE: 0.06386094307047534 Factor numbers: 7\n",
      "MSE: 0.05149981755576409 Factor numbers: 8\n",
      "MSE: 0.047396526654873795 Factor numbers: 9\n",
      "MSE: 0.04113563560809879 Factor numbers: 10\n",
      "MSE: 0.03742899585979551 Factor numbers: 11\n",
      "MSE: 0.03514483496373823 Factor numbers: 12\n",
      "MSE: 0.034671599255687996 Factor numbers: 13\n",
      "MSE: 0.03348681787779672 Factor numbers: 14\n",
      "MSE: 0.033317726943218356 Factor numbers: 15\n",
      "MSE: 0.035063654457755174 Factor numbers: 16\n",
      "MSE: 0.033646899259027155 Factor numbers: 17\n",
      "MSE: 0.03612940775577505 Factor numbers: 18\n",
      "MSE 最⼩所对应的⾃变量个数: 15 MSE: 0.033317726943218356\n"
     ]
    },
    {
     "data": {
      "image/png": "[encoded data removed]",
      "text/plain": [
       "<Figure size 432x288 with 1 Axes>"
      ]
     },
     "metadata": {
      "needs_background": "light"
     },
     "output_type": "display_data"
    }
   ],
   "source": [
    "for i in range(0,len(MSE)):\n",
    "    print('MSE:',MSE[i],'Factor numbers:',i+2)\n",
    "    \n",
    "plt.plot(Simulation_Range, MSE, linewidth=2, label=\"MSE\", color=\"coral\")\n",
    "plt.plot(Simulation_Range, Bias_square, linewidth=1, label=\"Bias\")\n",
    "plt.plot(Simulation_Range, Variance, linewidth=1, label=\"Variance\")\n",
    "plt.grid(True, linestyle = \"-.\", linewidth = \"0.25\")\n",
    "\n",
    "min_mse_factor = np.argmin(MSE) \n",
    "min_mse = np.min(MSE)\n",
    "\n",
    "print('MSE 最⼩所对应的⾃变量个数:',min_mse_factor+2,'MSE:',min_mse)\n",
    "plt.text(min_mse_factor, min_mse, \n",
    "         'min_mse:%f'%float(min_mse), \n",
    "         ha='center', va='baseline', \n",
    "         fontsize=10)\n",
    "\n",
    "plt.legend()\n",
    "plt.show()"
   ]
  },
  {
   "cell_type": "markdown",
   "metadata": {},
   "source": [
    "**End of Homework6**"
   ]
  }
 ],
 "metadata": {
  "kernelspec": {
   "display_name": "Python 3",
   "language": "python",
   "name": "python3"
  },
  "language_info": {
   "codemirror_mode": {
    "name": "ipython",
    "version": 3
   },
   "file_extension": ".py",
   "mimetype": "text/x-python",
   "name": "python",
   "nbconvert_exporter": "python",
   "pygments_lexer": "ipython3",
   "version": "3.8.5"
  }
 },
 "nbformat": 4,
 "nbformat_minor": 4
}
