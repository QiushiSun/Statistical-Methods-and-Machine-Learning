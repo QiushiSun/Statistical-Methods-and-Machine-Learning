{
 "cells": [
  {
   "cell_type": "markdown",
   "metadata": {},
   "source": [
    "# Homework2: One-way ANOVA with Variance-Stabilizing Transformations\n",
    "**单因子方差分析：方差稳定化变换**"
   ]
  },
  {
   "cell_type": "markdown",
   "metadata": {},
   "source": [
    "姓名：孙秋实\n",
    "\n",
    "学号：10185501402\n",
    "\n",
    "年级：2018"
   ]
  },
  {
   "cell_type": "markdown",
   "metadata": {},
   "source": [
    "### 背景描述\n",
    "\n",
    "#### 本次实验主要探究残差不满足齐性（具有方差异性）时该如何进行方差分析\n",
    "这里对五种绝缘材料的性能进行实验研究。我们在升高电压的情况下对每种材料的四个样本进行测试，以加速失效时间。\n",
    "这是一个因子水平数 𝑎 = 5 和重复次数 𝑛 = 4 的单因子实验。"
   ]
  },
  {
   "cell_type": "markdown",
   "metadata": {},
   "source": [
    "### 数据描述\n",
    "| 变量名 | 变量含义 | 变量类型 | 变量取值范围 |\n",
    "| :----------: | :--------: | :----------: | :----------: |\n",
    "| （自变量）Material | 绝缘材料类型 | categorical variable | [1, 2, 3, 4, 5] |\n",
    "| （因变量）Failure Time | 失效时间 | continuous variable（单位：分钟） | $\\mathbb{R}$ |"
   ]
  },
  {
   "cell_type": "markdown",
   "metadata": {},
   "source": [
    "### Questions \n",
    "注：这里使用 $\\alpha=0.05$ 的显著性水平\n",
    "\n",
    "1. 试判断 5 种绝缘材料的性能是否存在差异.\n",
    "2. 试判断该实验残差是否具有异方差性.\n",
    "3. 若实验中的残差具有异方差性，试判断失效时间如何进行方差稳定化变换.\n",
    "5. 如果需要变换，基于变换后的数据，试判断 5 种绝缘材料的性能是否存在差异."
   ]
  },
  {
   "cell_type": "markdown",
   "metadata": {},
   "source": [
    "在实验开始前，先导入一下必要的python库"
   ]
  },
  {
   "cell_type": "code",
   "execution_count": 141,
   "metadata": {},
   "outputs": [],
   "source": [
    "# 导入一些库\n",
    "import numpy as np\n",
    "import pandas as pd\n",
    "import matplotlib.pyplot as plt\n",
    "import math"
   ]
  },
  {
   "cell_type": "code",
   "execution_count": 142,
   "metadata": {},
   "outputs": [],
   "source": [
    "# 导入统计学库\n",
    "import statsmodels.formula.api as sm\n",
    "# from statsmodels.formula.api import ols\n",
    "from statsmodels.stats.anova import anova_lm\n",
    "from scipy.stats import f\n",
    "import scipy.stats as stats\n",
    "from scipy import special"
   ]
  },
  {
   "cell_type": "code",
   "execution_count": 143,
   "metadata": {},
   "outputs": [
    {
     "data": {
      "text/html": [
       "<div>\n",
       "<style scoped>\n",
       "    .dataframe tbody tr th:only-of-type {\n",
       "        vertical-align: middle;\n",
       "    }\n",
       "\n",
       "    .dataframe tbody tr th {\n",
       "        vertical-align: top;\n",
       "    }\n",
       "\n",
       "    .dataframe thead th {\n",
       "        text-align: right;\n",
       "    }\n",
       "</style>\n",
       "<table border=\"1\" class=\"dataframe\">\n",
       "  <thead>\n",
       "    <tr style=\"text-align: right;\">\n",
       "      <th></th>\n",
       "      <th>Unnamed: 0</th>\n",
       "      <th>Material</th>\n",
       "      <th>Failure Time</th>\n",
       "    </tr>\n",
       "  </thead>\n",
       "  <tbody>\n",
       "    <tr>\n",
       "      <th>0</th>\n",
       "      <td>1</td>\n",
       "      <td>1</td>\n",
       "      <td>110</td>\n",
       "    </tr>\n",
       "    <tr>\n",
       "      <th>1</th>\n",
       "      <td>2</td>\n",
       "      <td>1</td>\n",
       "      <td>157</td>\n",
       "    </tr>\n",
       "    <tr>\n",
       "      <th>2</th>\n",
       "      <td>3</td>\n",
       "      <td>1</td>\n",
       "      <td>194</td>\n",
       "    </tr>\n",
       "    <tr>\n",
       "      <th>3</th>\n",
       "      <td>4</td>\n",
       "      <td>1</td>\n",
       "      <td>178</td>\n",
       "    </tr>\n",
       "    <tr>\n",
       "      <th>4</th>\n",
       "      <td>5</td>\n",
       "      <td>2</td>\n",
       "      <td>1</td>\n",
       "    </tr>\n",
       "  </tbody>\n",
       "</table>\n",
       "</div>"
      ],
      "text/plain": [
       "   Unnamed: 0  Material  Failure Time\n",
       "0           1         1           110\n",
       "1           2         1           157\n",
       "2           3         1           194\n",
       "3           4         1           178\n",
       "4           5         2             1"
      ]
     },
     "execution_count": 143,
     "metadata": {},
     "output_type": "execute_result"
    }
   ],
   "source": [
    "alpha = 0.05\n",
    "a = 5 #水平\n",
    "n = 4 #重复次数\n",
    "an = 20\n",
    "x = pd.read_csv(\"Project2.csv\")\n",
    "x.head(5) #看一下这次试验数据的格式"
   ]
  },
  {
   "cell_type": "markdown",
   "metadata": {},
   "source": [
    "#### Q1:试判断 5 种绝缘材料的性能是否存在差异\n",
    "\n",
    "$\\color{blue}{{Q1 \\; Solution}}$ "
   ]
  },
  {
   "cell_type": "markdown",
   "metadata": {},
   "source": [
    "假设检验：\n",
    "\n",
    "$H_{0}:\\mu_{1}=\\mu_{2}=\\mu_{3}=\\mu_{4}=\\mu_{5} \\; vs \\; H_{1}:\\mu_1,\\mu_2,\\mu_3,\\mu_4,\\mu_5$不全相等"
   ]
  },
  {
   "cell_type": "code",
   "execution_count": 144,
   "metadata": {},
   "outputs": [],
   "source": [
    "# 索引找到相应水平的数据\n",
    "data = x.values[:,1:3]\n",
    "data_group1 = data[data[:,0] == 1,1]\n",
    "data_group2 = data[data[:,0] == 2,1]\n",
    "data_group3 = data[data[:,0] == 3,1]\n",
    "data_group4 = data[data[:,0] == 4,1]\n",
    "data_group5 = data[data[:,0] == 5,1]"
   ]
  },
  {
   "cell_type": "code",
   "execution_count": 145,
   "metadata": {},
   "outputs": [
    {
     "name": "stdout",
     "output_type": "stream",
     "text": [
      "[110 157 194 178]\n"
     ]
    }
   ],
   "source": [
    "print(data_group1) #检查下索引到的数据是不是正确"
   ]
  },
  {
   "cell_type": "markdown",
   "metadata": {},
   "source": [
    "使用单因子方差分析方法（One-way ANOVA），首先计算ANOVA Table，再计算检验统计量F值，用于判别原假设是否成立"
   ]
  },
  {
   "cell_type": "markdown",
   "metadata": {},
   "source": [
    "**Remark:Ols指的是Ordinary Least Square(普通最小二乘法)**"
   ]
  },
  {
   "cell_type": "code",
   "execution_count": 146,
   "metadata": {},
   "outputs": [
    {
     "name": "stdout",
     "output_type": "stream",
     "text": [
      "Intercept          159.75\n",
      "C(method)[T.2]    -153.50\n",
      "C(method)[T.3]    2782.00\n",
      "C(method)[T.4]    5563.25\n",
      "C(method)[T.5]    -149.00\n",
      "dtype: float64\n",
      "------------------------- \n",
      "The ANOVA table: \n",
      "              df       sum_sq     mean_sq     F  PR(>F)\n",
      "C(method)   4.0  103191489.2  25797872.3  6.19     0.0\n",
      "Residual   15.0   62505657.0   4167043.8   NaN     NaN\n"
     ]
    }
   ],
   "source": [
    "# One-way ANOVA\n",
    "df = pd.DataFrame(data, columns = ['method', 'value'])   \n",
    "model = sm.ols('value ~ C(method)', df).fit()\n",
    "print(model.params)\n",
    "anovaResults = round(anova_lm(model), 2)\n",
    "print('------------------------- ')\n",
    "print('The ANOVA table: \\n', anovaResults)"
   ]
  },
  {
   "cell_type": "code",
   "execution_count": 147,
   "metadata": {},
   "outputs": [
    {
     "name": "stdout",
     "output_type": "stream",
     "text": [
      "p-value = 0.0037859562963802845\n",
      "\n",
      "Since p-value < 0.05, reject H0.\n"
     ]
    }
   ],
   "source": [
    "F0Value, pValue1 = stats.f_oneway(data_group1, data_group2, \n",
    "                           data_group3, data_group4, data_group5)\n",
    "\n",
    "print('p-value =',pValue1)\n",
    "\n",
    "if pValue1 < alpha:\n",
    "    print('\\nSince p-value < 0.05, reject H0.')\n",
    "else:\n",
    "    print('\\nAccept H0.') "
   ]
  },
  {
   "cell_type": "code",
   "execution_count": 148,
   "metadata": {},
   "outputs": [
    {
     "name": "stdout",
     "output_type": "stream",
     "text": [
      "F0 = 6.190928998634478\n",
      "Since F0 > F(0.05, 4, 15) = 3.05557 , reject H0.\n"
     ]
    }
   ],
   "source": [
    "# a=5 n=4 an=20 F(a-1,an-a)->F(4,15)\n",
    "\n",
    "FValue = round(f.ppf(0.95,dfn = 4,dfd = 15), 5)\n",
    "print('F0 =',F0Value)\n",
    "if F0Value > FValue:\n",
    "    print('Since F0 > F(0.05, 4, 15) =', FValue, ', reject H0.')\n",
    "else:\n",
    "    print('Accept H0.') "
   ]
  },
  {
   "cell_type": "markdown",
   "metadata": {},
   "source": [
    "观察Anova-Table可知，P值小于0.05 且F值大于F0值3.06，故拒绝原假设，即认为5种绝缘材料的性能存在差异"
   ]
  },
  {
   "cell_type": "markdown",
   "metadata": {},
   "source": [
    "#### Q2:试判断该实验残差是否具有异方差性（试判断该实验数据是否满足方差齐性）\n",
    "\n",
    "$\\color{blue}{{Q2 \\; Solution}}$ "
   ]
  },
  {
   "cell_type": "markdown",
   "metadata": {},
   "source": [
    "ANOVA模型： \n",
    "$y_{ij} = \\mu + \\tau_i + \\epsilon_{ij}$ 的误差服从正态独立分布，其均值为零，方差为未知的常数$\\sigma^2$。 \n",
    "想要判断ANOVA模型是否恰当，可以利用残差检测来进行分析。  \n",
    "\n",
    "处理 $i$ 的观测值 $j$ 的残差定义为：$e_{ij} = y_{ij} - \\hat{y}_{ij}$  \n",
    "\n",
    "其中$\\hat{y}_{ij}$是对应于$y_{ij}$的一个估计， \n",
    "$\\hat{y}_{ij} = \\hat{\\mu} + \\hat{\\tau}_i = \\overline{y}_{··} + (\\overline{y}_{i·} - \\overline{y}_{··}) = \\overline{y}_{i·}$  "
   ]
  },
  {
   "cell_type": "markdown",
   "metadata": {},
   "source": [
    "检验假设：$𝐻_0:\\sigma_1^2 = \\sigma_2^2 = ⋯ = \\sigma_a^2$  vs  $𝐻_1:\\sigma_i^2 \\neq \\sigma_j^2, ∃ i \\neq j$  \n"
   ]
  },
  {
   "cell_type": "markdown",
   "metadata": {},
   "source": [
    "不满足方差齐性检验即证明数据具有**方差异性**，主要使用：\n",
    "1. 残差-拟合值关系图\n",
    "2. Levene检验\n",
    "3. Bartlett检验"
   ]
  },
  {
   "cell_type": "code",
   "execution_count": 149,
   "metadata": {},
   "outputs": [],
   "source": [
    "residual = data.astype(float) * 1\n",
    "\n",
    "for k in range(a):\n",
    "    cnt = residual[residual[:,0] == k + 1,1]\n",
    "    residual[residual[:,0] == k + 1,1] = cnt - np.mean(cnt)"
   ]
  },
  {
   "cell_type": "markdown",
   "metadata": {},
   "source": [
    "先画残差与拟合值的关系图"
   ]
  },
  {
   "cell_type": "code",
   "execution_count": 150,
   "metadata": {},
   "outputs": [
    {
     "data": {
      "text/plain": [
       "Text(0, 0.5, '$e_{ij}$')"
      ]
     },
     "execution_count": 150,
     "metadata": {},
     "output_type": "execute_result"
    },
    {
     "data": {
      "image/png": "[encoded data removed]",
      "text/plain": [
       "<Figure size 550x400 with 1 Axes>"
      ]
     },
     "metadata": {
      "needs_background": "light"
     },
     "output_type": "display_data"
    }
   ],
   "source": [
    "res = residual[:,1]\n",
    "y = []\n",
    "for i in range(a):\n",
    "    for j in range(n):\n",
    "        y.append(np.mean(data[(data[:,0] == i + 1),1]))\n",
    "\n",
    "plt.figure(figsize=(5.5, 4), dpi=100)\n",
    "plt.scatter(y, res, c = \"blue\")\n",
    "\n",
    "plt.title('Plot of residuals versus $y_{ij}$')\n",
    "# 残差与拟合值\n",
    "\n",
    "plt.xlabel('$y_{ij}$')\n",
    "plt.ylabel('$e_{ij}$')"
   ]
  },
  {
   "cell_type": "markdown",
   "metadata": {},
   "source": [
    "观察上图可知，残差-拟合值关系图呈现向外开口的漏斗形"
   ]
  },
  {
   "cell_type": "code",
   "execution_count": 151,
   "metadata": {},
   "outputs": [
    {
     "name": "stdout",
     "output_type": "stream",
     "text": [
      "Bartlett's test P-value: 4e-15\n",
      "Since p-value < 0.05, reject H0.\n"
     ]
    }
   ],
   "source": [
    "# 法2：用Bartlett检验进行方差齐性检验\n",
    "Bartlett, pValue2 = stats.bartlett(data_group1, data_group2, \n",
    "                             data_group3, data_group4, data_group5)\n",
    "\n",
    "bart_stat = stats.chi2.isf(alpha, a-1)\n",
    "\n",
    "print('Bartlett\\'s test P-value:', round(pValue2, 15))\n",
    "\n",
    "if pValue2 < alpha:\n",
    "    print('Since p-value < 0.05, reject H0.')\n",
    "else:\n",
    "    print('Accept H0')  "
   ]
  },
  {
   "cell_type": "code",
   "execution_count": 152,
   "metadata": {},
   "outputs": [
    {
     "name": "stdout",
     "output_type": "stream",
     "text": [
      "\n",
      "Levene's test P-value: 0.00434385\n",
      "Since p-value < 0.05, reject H0.\n",
      "\n"
     ]
    }
   ],
   "source": [
    "# 法3：用Levene检验进行方差齐性检验\n",
    "lene, pValue3 = stats.levene(data_group1, data_group2, \n",
    "                           data_group3, data_group4, data_group5)\n",
    "print('\\nLevene\\'s test P-value:', round(pValue3, 8))\n",
    "if pValue3 < alpha:\n",
    "    print('Since p-value < 0.05, reject H0.\\n')\n",
    "else:\n",
    "    print('Accept H0\\n')  "
   ]
  },
  {
   "cell_type": "markdown",
   "metadata": {},
   "source": [
    "由上述分析可知:  \n",
    "1. 残差与拟合值的关系图：呈现开口向外的漏斗型；\n",
    "2. Bartlett's test P-value: 4e-15 < 0.05；\n",
    "3. Levene's test P-value: 0.00434385 < 0.05.  \n",
    "\n",
    "**结论：**由上述三种检验方法可拒绝原假设，认为方差具有异方差性。"
   ]
  },
  {
   "cell_type": "markdown",
   "metadata": {},
   "source": [
    "#### Q3:若实验中的数据满足方差齐性，试判断失效时间如何进行方差稳定化变换。\n",
    "\n",
    "$\\color{blue}{{Q3 \\; Solution}}$ "
   ]
  },
  {
   "cell_type": "code",
   "execution_count": 153,
   "metadata": {},
   "outputs": [],
   "source": [
    "# 求出各估计方法的标准差sigma_i和均值mu_i的对数\n",
    "# 通常用样本的标准差std_i和均值y_i代替总体的标准差sigma_i和均值mu_i\n",
    "\n",
    "log_y_1 = math.log(np.mean(data_group1))\n",
    "log_y_2 = math.log(np.mean(data_group2))\n",
    "log_y_3 = math.log(np.mean(data_group3))\n",
    "log_y_4 = math.log(np.mean(data_group4))\n",
    "log_y_5 = math.log(np.mean(data_group5))\n",
    "\n",
    "log_y = [log_y_1, log_y_2, log_y_3, log_y_4, log_y_5]\n",
    "\n",
    "log_std_1 = math.log(np.std(data_group1, ddof = 1))\n",
    "log_std_2 = math.log(np.std(data_group2, ddof = 1))\n",
    "log_std_3 = math.log(np.std(data_group3, ddof = 1))\n",
    "log_std_4 = math.log(np.std(data_group4, ddof = 1))\n",
    "log_std_5 = math.log(np.std(data_group5, ddof = 1))\n",
    "\n",
    "log_std = [log_std_1, log_std_2, log_std_3, log_std_4, log_std_5]"
   ]
  },
  {
   "cell_type": "markdown",
   "metadata": {},
   "source": [
    "画出关系图以对方差稳定化变换做进一步研究，由于组间方差和均值在数量级上有差异，所以对横坐标取对数便于作图"
   ]
  },
  {
   "cell_type": "code",
   "execution_count": 154,
   "metadata": {},
   "outputs": [
    {
     "name": "stdout",
     "output_type": "stream",
     "text": [
      "slope: 0.9211\n"
     ]
    },
    {
     "data": {
      "text/plain": [
       "Text(0, 0.5, '$log_{Si}$')"
      ]
     },
     "execution_count": 154,
     "metadata": {},
     "output_type": "execute_result"
    },
    {
     "data": {
      "image/png": "[encoded data removed]",
      "text/plain": [
       "<Figure size 550x400 with 1 Axes>"
      ]
     },
     "metadata": {
      "needs_background": "light"
     },
     "output_type": "display_data"
    }
   ],
   "source": [
    "# linregress(x,y)为线性回归函数，如果用sklearn的话也可以直接调包\n",
    "\n",
    "slope, intercept, r_value, p_value, std_err = stats.linregress(log_y, log_std)\n",
    "print('slope:', round(slope, 4))\n",
    "\n",
    "# 作图\n",
    "plt.figure(figsize=(5.5, 4), dpi=100)\n",
    "plt.scatter(log_y, log_std)\n",
    "plt.title('Plot of log $S_{i}$ versus log $y_{i}$· material')\n",
    "plt.xlabel('$log_{yi·}$')\n",
    "plt.ylabel('$log_{Si}$')"
   ]
  },
  {
   "cell_type": "code",
   "execution_count": 155,
   "metadata": {},
   "outputs": [
    {
     "name": "stdout",
     "output_type": "stream",
     "text": [
      "          0         1         2         3\n",
      "0  1.456503  1.498553  1.524137  1.513678\n",
      "1  1.000000  1.057018  1.117287  1.260149\n",
      "2  1.720119  1.769780  1.985109  1.954875\n",
      "3  1.642738  2.031448  1.986040  2.090130\n",
      "4  1.168444  1.137411  1.309157  1.057018\n"
     ]
    }
   ],
   "source": [
    "# 对y值做幂变换，即通过开根号进行方差稳定化变换\n",
    "# math.pow\n",
    "trans_group1 = data_group1 ** 0.08\n",
    "trans_group2 = data_group2 ** 0.08\n",
    "trans_group3 = data_group3 ** 0.08\n",
    "trans_group4 = data_group4 ** 0.08\n",
    "trans_group5 = data_group5 ** 0.08\n",
    "\n",
    "trans_groups = [trans_group1, trans_group2, trans_group3, trans_group4, trans_group5]\n",
    "trans_groups1 = pd.DataFrame(trans_groups)\n",
    "print(trans_groups1)"
   ]
  },
  {
   "cell_type": "code",
   "execution_count": 156,
   "metadata": {},
   "outputs": [],
   "source": [
    "# 计算变换后残差\n",
    "df = np.array(trans_groups)\n",
    "trans_data = [data[:,0], df.reshape(1, 20).tolist()[0]] #检查数据维度和样本量\n",
    "trans_data = np.array(trans_data * 1).T\n",
    "trans_data_res = trans_data * 1\n",
    "for k in range(a):\n",
    "    trans_cnt = trans_data_res[trans_data_res[:,0] == k + 1,1]\n",
    "    trans_data_res[trans_data_res[:,0] == k + 1,1] = trans_cnt - np.mean(trans_cnt)"
   ]
  },
  {
   "cell_type": "code",
   "execution_count": 157,
   "metadata": {},
   "outputs": [
    {
     "data": {
      "text/plain": [
       "Text(0, 0.5, 'e_ij*')"
      ]
     },
     "execution_count": 157,
     "metadata": {},
     "output_type": "execute_result"
    },
    {
     "data": {
      "image/png": "[encoded data removed]",
      "text/plain": [
       "<Figure size 432x288 with 1 Axes>"
      ]
     },
     "metadata": {
      "needs_background": "light"
     },
     "output_type": "display_data"
    }
   ],
   "source": [
    "# 变换后的残差与拟合值的关系图\n",
    "trans_res = trans_data_res[:,1]\n",
    "trans_y = []\n",
    "for i in range(a):\n",
    "    for j in range(n):\n",
    "        trans_y.append(np.mean(trans_data[(trans_data[:,0] == i + 1),1]))\n",
    "plt.scatter(trans_y, trans_res, c = \"red\")\n",
    "plt.title('Plot of residuals versus y_ij*')\n",
    "plt.xlabel('y_ij*')\n",
    "plt.ylabel('e_ij*')"
   ]
  },
  {
   "cell_type": "markdown",
   "metadata": {},
   "source": [
    "Box-Cox变换的一般形式为：  \n",
    "$$ y(\\lambda)=\\left\\{\n",
    "\\begin{aligned}\n",
    "\\frac{(y+c)^{\\lambda}-1}{\\lambda} & ,&\\lambda \\neq 0 \\\\\n",
    "\\ln (y+c) & ,& \\lambda = 0 \n",
    "\\end{aligned}\n",
    "\\right.\n",
    "$$\n",
    "式中$y(\\lambda)$为经Box-Cox变换后得到的新变量，$y$ 为原始连续因变量，其中 $y+c$ 的 $+c$ 是为了确保 $(y+c)>0$,因为在Box-Cox变换中要求 $y>0$，$\\lambda$ 为变换参数。  "
   ]
  },
  {
   "cell_type": "markdown",
   "metadata": {},
   "source": [
    "可见，斜率约为0.92，可取$\\lambda=1-\\alpha=0.08$，并对数据做方差稳定化变换\n",
    "\n",
    "随后我们检验变换后的数据是否依然存在方差异性"
   ]
  },
  {
   "cell_type": "code",
   "execution_count": 158,
   "metadata": {},
   "outputs": [
    {
     "name": "stdout",
     "output_type": "stream",
     "text": [
      "lmax_mle:  0.016756747738272192\n",
      "lmax_pearsonr:  0.014405180057034986\n"
     ]
    },
    {
     "data": {
      "image/png": "[encoded data removed]",
      "text/plain": [
       "<Figure size 432x288 with 1 Axes>"
      ]
     },
     "metadata": {
      "needs_background": "light"
     },
     "output_type": "display_data"
    },
    {
     "data": {
      "text/plain": [
       "Text(0, 0.5, 'e_ij*')"
      ]
     },
     "execution_count": 158,
     "metadata": {},
     "output_type": "execute_result"
    },
    {
     "data": {
      "image/png": "[encoded data removed]",
      "text/plain": [
       "<Figure size 432x288 with 1 Axes>"
      ]
     },
     "metadata": {
      "needs_background": "light"
     },
     "output_type": "display_data"
    }
   ],
   "source": [
    "# 作Box-Cox变换\n",
    "bc, lmax_mle = stats.boxcox(data[:,1])\n",
    "lmax_pearsonr = stats.boxcox_normmax(data[:,1])\n",
    "print('lmax_mle: ', lmax_mle)\n",
    "print('lmax_pearsonr: ', lmax_pearsonr)\n",
    "\n",
    "fig = plt.figure()\n",
    "ax = fig.add_subplot(111)\n",
    "prob = stats.boxcox_normplot(data[:,1], -10, 10, plot = ax)\n",
    "\n",
    "#似然函数！对应y轴，我们要对应似然最大\n",
    "ax.axvline(lmax_mle, color='r')\n",
    "ax.axvline(lmax_pearsonr, color='g', ls='--')\n",
    "plt.show()\n",
    "\n",
    "# 计算变换后残差\n",
    "bc_group1 = bc[0:4]\n",
    "bc_group2 = bc[4:8]\n",
    "bc_group3 = bc[8:12]\n",
    "bc_group4 = bc[12:16]\n",
    "bc_group5 = bc[16:20]\n",
    "bc_groups = [bc_group1, bc_group2, bc_group3, bc_group4, bc_group5]\n",
    "bc_groups1 = pd.DataFrame(bc_groups)\n",
    "# print(bc_groups1)\n",
    "df = np.array(bc_groups)\n",
    "bc_data = [data[:,0], df.reshape(1, 20).tolist()[0]]\n",
    "bc_data = np.array(bc_data * 1).T\n",
    "bc_data_res = bc_data * 1\n",
    "for k in range(a):\n",
    "    bc_cnt = bc_data_res[bc_data_res[:,0] == k + 1,1]\n",
    "    bc_data_res[bc_data_res[:,0] == k + 1,1] = bc_cnt - np.mean(bc_cnt)\n",
    "\n",
    "# 变换后的残差与拟合值的关系图\n",
    "bc_res = bc_data_res[:,1]\n",
    "bc_y = []\n",
    "for i in range(a):\n",
    "    for j in range(n):\n",
    "        bc_y.append(np.mean(bc_data[(bc_data[:,0] == i + 1),1]))\n",
    "plt.scatter(bc_y, bc_res, c = \"red\")\n",
    "plt.title('Plot of residuals versus y_ij*')\n",
    "plt.xlabel('y_ij*')\n",
    "plt.ylabel('e_ij*')\n",
    "\n"
   ]
  },
  {
   "cell_type": "markdown",
   "metadata": {},
   "source": [
    "观察上图可发现：残差-拟合值关系不再呈现漏斗形，我们暂时认为其不再具有方差异性，在Q4中给出定量的检验"
   ]
  },
  {
   "cell_type": "markdown",
   "metadata": {},
   "source": [
    "#### Q4:基于变换后的数据，试判断 5 种绝缘材料的性能是否存在差异\n",
    "\n",
    "$\\color{blue}{{Q4 \\; Solution}}$ "
   ]
  },
  {
   "cell_type": "code",
   "execution_count": 159,
   "metadata": {},
   "outputs": [
    {
     "name": "stdout",
     "output_type": "stream",
     "text": [
      "Levene Test:\n",
      "pValue= 0.501324709478838 Accept H0\n",
      "\n"
     ]
    }
   ],
   "source": [
    "# 变换后，再用Levene检验进行方差齐性检验\n",
    "transformed_lene, pVal4 = stats.levene(transformed_group1, transformed_group2, transformed_group3, transformed_group4, transformed_group5)\n",
    "print('Levene Test:')\n",
    "if pVal4 < alpha:\n",
    "    print('Since p-value < 0.05, reject H0.\\n')\n",
    "else:\n",
    "    print('pValue=',pVal4,'Accept H0\\n')  "
   ]
  },
  {
   "cell_type": "code",
   "execution_count": 160,
   "metadata": {},
   "outputs": [
    {
     "name": "stdout",
     "output_type": "stream",
     "text": [
      "             df  sum_sq    mean_sq         F    PR(>F)\n",
      "C(method)   4.0  235.20  58.800000  1.877594  0.166789\n",
      "Residual   15.0  469.75  31.316667       NaN       NaN\n",
      "Levene Test after Box-Cox:\n",
      "pValue= 0.6072523787997315 Accept H0\n",
      "\n"
     ]
    }
   ],
   "source": [
    "# Box-Cox变换后，再用Levene检验进行方差齐性检验 \n",
    "bc_lene, pVal5 = stats.levene(bc_group1, bc_group2, bc_group3, bc_group4, bc_group5)\n",
    "\n",
    "bc_groups = [bc_group1, bc_group2, bc_group3, bc_group4, bc_group5]\n",
    "for i in range(4):\n",
    "    data[0 + 4 * i:4 * (i + 1), 1] = list(bc_groups[i])\n",
    "df = pd.DataFrame(data, columns = ['method', 'Y'])   \n",
    "\n",
    "model = sm.ols('Y ~ C(method)', df).fit()\n",
    "anovaResults = anova_lm(model)\n",
    "print(anovaResults)\n",
    "\n",
    "print('Levene Test after Box-Cox:')\n",
    "if pVal5 < alpha:\n",
    "    print('Since p-value < 0.05, reject H0.\\n')\n",
    "else:\n",
    "    print('pValue=',pVal5,'Accept H0\\n') "
   ]
  },
  {
   "cell_type": "code",
   "execution_count": 161,
   "metadata": {},
   "outputs": [
    {
     "name": "stdout",
     "output_type": "stream",
     "text": [
      "A more elegant way:\n",
      "             df  sum_sq    mean_sq         F    PR(>F)\n",
      "C(method)   4.0  297.20  74.300000  2.434735  0.092726\n",
      "Residual   15.0  457.75  30.516667       NaN       NaN\n",
      "One-way ANOVA:\n",
      "Since p-value < 0.05, reject H0.\n",
      "\n"
     ]
    }
   ],
   "source": [
    "# 变换后，进行单因子方差分析\n",
    "tranformed_F0, pVal6 = stats.f_oneway(transformed_group1, transformed_group2, transformed_group3, transformed_group4, transformed_group5)\n",
    "transformed_groups = [transformed_group1,transformed_group2, transformed_group3, transformed_group4,transformed_group5]\n",
    "for i in range(4):\n",
    "    data[0 + 4 * i:4 * (i + 1), 1] = list(transformed_groups[i])\n",
    "df = pd.DataFrame(data, columns = ['method', 'Y'])   \n",
    "print('A more elegant way:')\n",
    "model = sm.ols('Y ~ C(method)', df).fit()\n",
    "anovaResults = anova_lm(model)\n",
    "print(anovaResults)\n",
    "\n",
    "print('One-way ANOVA:')\n",
    "if pVal6 < alpha:\n",
    "    print('Since p-value < 0.05, reject H0.\\n')\n",
    "else:\n",
    "    print('pValue=',pVal6,'Accept H0\\n') "
   ]
  },
  {
   "cell_type": "code",
   "execution_count": 162,
   "metadata": {},
   "outputs": [
    {
     "name": "stdout",
     "output_type": "stream",
     "text": [
      "             df  sum_sq    mean_sq         F    PR(>F)\n",
      "C(method)   4.0  235.20  58.800000  1.877594  0.166789\n",
      "Residual   15.0  469.75  31.316667       NaN       NaN\n",
      "One-way ANOVA after Box-Cox:\n",
      "Since p-value < 0.05, reject H0.\n",
      "\n"
     ]
    }
   ],
   "source": [
    "# Box-Cox变换后\n",
    "bc_F0, pVal7 = stats.f_oneway(bc_group1, bc_group2, bc_group3, bc_group4, bc_group5)\n",
    "\n",
    "bc_groups = [bc_group1, bc_group2, bc_group3, bc_group4, bc_group5]\n",
    "for i in range(4):\n",
    "    data[0 + 4 * i:4 * (i + 1), 1] = list(bc_groups[i])\n",
    "df = pd.DataFrame(data, columns = ['method', 'Y'])   \n",
    "\n",
    "model = sm.ols('Y ~ C(method)', df).fit()\n",
    "anovaResults = anova_lm(model)\n",
    "print(anovaResults)\n",
    "\n",
    "print('One-way ANOVA after Box-Cox:')\n",
    "if pVal7 < alpha:\n",
    "    print('Since p-value < 0.05, reject H0.\\n')\n",
    "else:\n",
    "    print('Accept H0\\n')"
   ]
  },
  {
   "cell_type": "code",
   "execution_count": 163,
   "metadata": {},
   "outputs": [
    {
     "name": "stdout",
     "output_type": "stream",
     "text": [
      "A more elegant way:\n",
      "             df  sum_sq    mean_sq         F    PR(>F)\n",
      "C(method)   4.0  297.20  74.300000  2.434735  0.092726\n",
      "Residual   15.0  457.75  30.516667       NaN       NaN\n"
     ]
    }
   ],
   "source": [
    "transformed_groups = [transformed_group1,transformed_group2, transformed_group3, transformed_group4,transformed_group5]\n",
    "for i in range(4):\n",
    "    data[0 + 4 * i:4 * (i + 1), 1] = list(transformed_groups[i])\n",
    "df = pd.DataFrame(data, columns = ['method', 'Y'])   \n",
    "print('A more elegant way:')\n",
    "model = sm.ols('Y ~ C(method)', df).fit()\n",
    "anovaResults = anova_lm(model)\n",
    "print(anovaResults)"
   ]
  },
  {
   "cell_type": "markdown",
   "metadata": {},
   "source": [
    "对三种变换进行检验得到的结果大体上是相同的。由第一个结论可知，稳定化变换后的残差具有方差齐性(不再具有方差异性)。再进行单因素方差分析，由方差分析表知，P 值均小于 0.05故拒绝原假设， 即认为5种绝缘材料的性能存在差异。\n",
    "\n",
    "观察可以发现，不同的变换方法对ANOVA Table中各统计量的大小有影响，所以应该对不同变换方法产生的数据都进行检验。"
   ]
  },
  {
   "cell_type": "markdown",
   "metadata": {},
   "source": [
    "总结：本次实验主要探究残差不满足齐性（具有方差异性）时该如何进行方差分析。经过本次实验，对方差齐性和方差异性的概念有了更深入的理解，同时对单因子方差分析有了更好的掌握。对一些常用统计方法进行了探索，并且观察其运用于变换前和变换后的数据时的差异性。除此之外，对课堂上讲解的Box-Cox变换有了更深入的理解。"
   ]
  },
  {
   "cell_type": "markdown",
   "metadata": {},
   "source": [
    "**End of Homework2**"
   ]
  },
  {
   "cell_type": "markdown",
   "metadata": {},
   "source": [
    "助教老师幸苦了～"
   ]
  },
  {
   "cell_type": "code",
   "execution_count": null,
   "metadata": {},
   "outputs": [],
   "source": []
  }
 ],
 "metadata": {
  "kernelspec": {
   "display_name": "Python 3",
   "language": "python",
   "name": "python3"
  },
  "language_info": {
   "codemirror_mode": {
    "name": "ipython",
    "version": 3
   },
   "file_extension": ".py",
   "mimetype": "text/x-python",
   "name": "python",
   "nbconvert_exporter": "python",
   "pygments_lexer": "ipython3",
   "version": "3.8.5"
  }
 },
 "nbformat": 4,
 "nbformat_minor": 4
}