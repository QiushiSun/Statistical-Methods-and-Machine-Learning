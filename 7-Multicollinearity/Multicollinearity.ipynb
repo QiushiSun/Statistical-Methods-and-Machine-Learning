{
 "cells": [
  {
   "cell_type": "markdown",
   "metadata": {},
   "source": [
    "# Statistical-Methods Homework7 Multicollinearity (多重共线性)\n",
    "https://github.com/QiushiSun"
   ]
  },
  {
   "cell_type": "markdown",
   "metadata": {},
   "source": [
    "## 背景描述\n",
    "\n",
    "资产评估：科学的大众评估是将线性回归方法应用于资产评估问题的一种技术。科学大规模评估的目的是根据选定的建筑物的物理特性和对建筑物支付的税费(地方、学校、县)预测房屋的销售价格。这些数据最初是由Narula和Wellington(1977)提出的，我们观察 24 个观测值。\n",
    "\n",
    "由此我们构造了 24 个观测的 9 个变量，具体请见下表："
   ]
  },
  {
   "cell_type": "markdown",
   "metadata": {},
   "source": [
    "## 数据描述\n",
    "|    变量名    |           变量含义           |      变量类型       |  变量取值范围  |\n",
    "| :----------: | :--------------------------: | :-----------------: | :------------: |\n",
    "| （自变量）X1 | 数千美元税收(当地，县，学校) | continuous variable | $\\mathbb{R}^+$ |\n",
    "| （自变量）X2 |          浴室的数量          | continuous variable | $\\mathbb{R}^+$ |\n",
    "| （自变量）X3 |       批量(千平方英尺)       | continuous variable | $\\mathbb{R}^+$ |\n",
    "| （自变量）X4 |     居住面积(千平方英尺)     | continuous variable | $\\mathbb{R}^+$ |\n",
    "| （自变量）X5 |         车库档位数量         | continuous variable | $\\mathbb{R}^+$ |\n",
    "| （自变量）X6 |          房间的数量          | continuous variable | $\\mathbb{R}^+$ |\n",
    "| （自变量）X7 |          卧室的数量          | continuous variable | $\\mathbb{R}^+$ |\n",
    "| （自变量）X8 |         住宅年龄(年)         | continuous variable | $\\mathbb{R}^+$ |\n",
    "| （自变量）X9 |          壁炉的数量          | continuous variable | $\\mathbb{R}^+$ |\n",
    "| （因变量）Y  |      数千美元房子的售价      | continuous variable | $\\mathbb{R}^+$ |"
   ]
  },
  {
   "cell_type": "markdown",
   "metadata": {},
   "source": [
    "## 问题 \n",
    "注：这里使用 $\\alpha=0.05$ 的显著性水平\n",
    "\n",
    "1. 判断变量间是否具有多重共线性.\n",
    "2. 如果存在多重共线性，如何消除多重共线性/选择变量."
   ]
  },
  {
   "cell_type": "code",
   "execution_count": 1,
   "metadata": {},
   "outputs": [],
   "source": [
    "# Import standard packages\n",
    "import numpy as np\n",
    "import pandas as pd\n",
    "import scipy.stats as stats\n",
    "import matplotlib.pyplot as plt\n",
    "import math\n",
    "\n",
    "# Import additional packages\n",
    "from itertools import combinations\n",
    "import statsmodels.api as sm\n",
    "from statsmodels.stats.outliers_influence import variance_inflation_factor"
   ]
  },
  {
   "cell_type": "markdown",
   "metadata": {},
   "source": [
    "Remark：\n",
    "1. itertools的combinations模块可以获取一个列表的所有子集\n",
    "2. variance_inflation_factor即用于计算VIF，方差扩大因子"
   ]
  },
  {
   "cell_type": "code",
   "execution_count": 3,
   "metadata": {},
   "outputs": [
    {
     "name": "stdout",
     "output_type": "stream",
     "text": [
      "    0      1    2      3      4    5    6    7     8    9     10\n",
      "0  1.0  4.918  1.0  3.472  0.998  1.0  7.0  4.0  42.0  0.0  25.9\n",
      "1  1.0  5.021  1.0  3.531  1.500  2.0  7.0  4.0  62.0  0.0  29.5\n",
      "2  1.0  4.543  1.0  2.275  1.175  1.0  6.0  3.0  40.0  0.0  27.9\n",
      "3  1.0  4.557  1.0  4.050  1.232  1.0  6.0  3.0  54.0  0.0  25.9\n",
      "4  1.0  5.060  1.0  4.455  1.121  1.0  6.0  3.0  42.0  0.0  29.9\n",
      "5  1.0  3.891  1.0  4.455  0.988  1.0  6.0  3.0  56.0  0.0  29.9\n",
      "6  1.0  5.898  1.0  5.850  1.240  1.0  7.0  3.0  51.0  1.0  30.9\n",
      "7  1.0  5.604  1.0  9.520  1.501  0.0  6.0  3.0  32.0  0.0  28.9\n",
      "8  1.0  5.828  1.0  6.435  1.225  2.0  6.0  3.0  32.0  0.0  35.9\n",
      "9  1.0  5.300  1.0  4.988  1.552  1.0  6.0  3.0  30.0  0.0  31.5\n"
     ]
    }
   ],
   "source": [
    "alpha = 0.05\n",
    "p = 9\n",
    "n = 24\n",
    "\n",
    "x = pd.read_csv('Project7.csv')\n",
    "x.insert(0, 'intercept', np.ones(len(x))) \n",
    "data = x.values * 1\n",
    "df = pd.DataFrame(data)\n",
    "print(df.head(10))\n",
    "\n",
    "X = data[:,0:p+1]\n",
    "Y = data[:,-1]"
   ]
  },
  {
   "cell_type": "code",
   "execution_count": 4,
   "metadata": {},
   "outputs": [],
   "source": [
    "# 对自变量 X 进行标准化\n",
    "# 自变量 X 的均值\n",
    "X_mean = []\n",
    "for i in range(p):\n",
    "    X_mean.append(np.mean(X[:, i+1])) \n",
    "\n",
    "# 自变量 X 的标准差\n",
    "X_L = []\n",
    "for i in range(p):\n",
    "    X_L.append(sum((X[:, i+1] - X_mean[i]) ** 2))  \n",
    "\n",
    "# 对自变量 X 标准化(截距项不用标准化)\n",
    "X_std = X * 1.0\n",
    "X_std[:,1:p+1] = (X[:,1:p+1] - X_mean) / np.sqrt(X_L)"
   ]
  },
  {
   "cell_type": "code",
   "execution_count": 5,
   "metadata": {},
   "outputs": [
    {
     "data": {
      "text/html": [
       "<table class=\"simpletable\">\n",
       "<caption>OLS Regression Results</caption>\n",
       "<tr>\n",
       "  <th>Dep. Variable:</th>            <td>y</td>        <th>  R-squared:         </th> <td>   0.851</td>\n",
       "</tr>\n",
       "<tr>\n",
       "  <th>Model:</th>                   <td>OLS</td>       <th>  Adj. R-squared:    </th> <td>   0.756</td>\n",
       "</tr>\n",
       "<tr>\n",
       "  <th>Method:</th>             <td>Least Squares</td>  <th>  F-statistic:       </th> <td>   8.898</td>\n",
       "</tr>\n",
       "<tr>\n",
       "  <th>Date:</th>             <td>Tue, 13 Apr 2021</td> <th>  Prob (F-statistic):</th> <td>0.000202</td>\n",
       "</tr>\n",
       "<tr>\n",
       "  <th>Time:</th>                 <td>18:30:02</td>     <th>  Log-Likelihood:    </th> <td> -53.735</td>\n",
       "</tr>\n",
       "<tr>\n",
       "  <th>No. Observations:</th>      <td>    24</td>      <th>  AIC:               </th> <td>   127.5</td>\n",
       "</tr>\n",
       "<tr>\n",
       "  <th>Df Residuals:</th>          <td>    14</td>      <th>  BIC:               </th> <td>   139.3</td>\n",
       "</tr>\n",
       "<tr>\n",
       "  <th>Df Model:</th>              <td>     9</td>      <th>                     </th>     <td> </td>   \n",
       "</tr>\n",
       "<tr>\n",
       "  <th>Covariance Type:</th>      <td>nonrobust</td>    <th>                     </th>     <td> </td>   \n",
       "</tr>\n",
       "</table>\n",
       "<table class=\"simpletable\">\n",
       "<tr>\n",
       "    <td></td>       <th>coef</th>     <th>std err</th>      <th>t</th>      <th>P>|t|</th>  <th>[0.025</th>    <th>0.975]</th>  \n",
       "</tr>\n",
       "<tr>\n",
       "  <th>const</th> <td>   15.3104</td> <td>    5.961</td> <td>    2.568</td> <td> 0.022</td> <td>    2.526</td> <td>   28.095</td>\n",
       "</tr>\n",
       "<tr>\n",
       "  <th>x1</th>    <td>    1.9541</td> <td>    1.038</td> <td>    1.882</td> <td> 0.081</td> <td>   -0.273</td> <td>    4.181</td>\n",
       "</tr>\n",
       "<tr>\n",
       "  <th>x2</th>    <td>    6.8455</td> <td>    4.335</td> <td>    1.579</td> <td> 0.137</td> <td>   -2.453</td> <td>   16.144</td>\n",
       "</tr>\n",
       "<tr>\n",
       "  <th>x3</th>    <td>    0.1376</td> <td>    0.494</td> <td>    0.278</td> <td> 0.785</td> <td>   -0.923</td> <td>    1.198</td>\n",
       "</tr>\n",
       "<tr>\n",
       "  <th>x4</th>    <td>    2.7814</td> <td>    4.395</td> <td>    0.633</td> <td> 0.537</td> <td>   -6.645</td> <td>   12.207</td>\n",
       "</tr>\n",
       "<tr>\n",
       "  <th>x5</th>    <td>    2.0508</td> <td>    1.385</td> <td>    1.481</td> <td> 0.161</td> <td>   -0.919</td> <td>    5.020</td>\n",
       "</tr>\n",
       "<tr>\n",
       "  <th>x6</th>    <td>   -0.5559</td> <td>    2.398</td> <td>   -0.232</td> <td> 0.820</td> <td>   -5.699</td> <td>    4.587</td>\n",
       "</tr>\n",
       "<tr>\n",
       "  <th>x7</th>    <td>   -1.2452</td> <td>    3.423</td> <td>   -0.364</td> <td> 0.721</td> <td>   -8.587</td> <td>    6.096</td>\n",
       "</tr>\n",
       "<tr>\n",
       "  <th>x8</th>    <td>   -0.0380</td> <td>    0.067</td> <td>   -0.565</td> <td> 0.581</td> <td>   -0.182</td> <td>    0.106</td>\n",
       "</tr>\n",
       "<tr>\n",
       "  <th>x9</th>    <td>    1.7045</td> <td>    1.953</td> <td>    0.873</td> <td> 0.398</td> <td>   -2.485</td> <td>    5.894</td>\n",
       "</tr>\n",
       "</table>\n",
       "<table class=\"simpletable\">\n",
       "<tr>\n",
       "  <th>Omnibus:</th>       <td> 1.516</td> <th>  Durbin-Watson:     </th> <td>   1.857</td>\n",
       "</tr>\n",
       "<tr>\n",
       "  <th>Prob(Omnibus):</th> <td> 0.469</td> <th>  Jarque-Bera (JB):  </th> <td>   1.100</td>\n",
       "</tr>\n",
       "<tr>\n",
       "  <th>Skew:</th>          <td> 0.262</td> <th>  Prob(JB):          </th> <td>   0.577</td>\n",
       "</tr>\n",
       "<tr>\n",
       "  <th>Kurtosis:</th>      <td> 2.091</td> <th>  Cond. No.          </th> <td>    470.</td>\n",
       "</tr>\n",
       "</table><br/><br/>Notes:<br/>[1] Standard Errors assume that the covariance matrix of the errors is correctly specified."
      ],
      "text/plain": [
       "<class 'statsmodels.iolib.summary.Summary'>\n",
       "\"\"\"\n",
       "                            OLS Regression Results                            \n",
       "==============================================================================\n",
       "Dep. Variable:                      y   R-squared:                       0.851\n",
       "Model:                            OLS   Adj. R-squared:                  0.756\n",
       "Method:                 Least Squares   F-statistic:                     8.898\n",
       "Date:                Tue, 13 Apr 2021   Prob (F-statistic):           0.000202\n",
       "Time:                        18:30:02   Log-Likelihood:                -53.735\n",
       "No. Observations:                  24   AIC:                             127.5\n",
       "Df Residuals:                      14   BIC:                             139.3\n",
       "Df Model:                           9                                         \n",
       "Covariance Type:            nonrobust                                         \n",
       "==============================================================================\n",
       "                 coef    std err          t      P>|t|      [0.025      0.975]\n",
       "------------------------------------------------------------------------------\n",
       "const         15.3104      5.961      2.568      0.022       2.526      28.095\n",
       "x1             1.9541      1.038      1.882      0.081      -0.273       4.181\n",
       "x2             6.8455      4.335      1.579      0.137      -2.453      16.144\n",
       "x3             0.1376      0.494      0.278      0.785      -0.923       1.198\n",
       "x4             2.7814      4.395      0.633      0.537      -6.645      12.207\n",
       "x5             2.0508      1.385      1.481      0.161      -0.919       5.020\n",
       "x6            -0.5559      2.398     -0.232      0.820      -5.699       4.587\n",
       "x7            -1.2452      3.423     -0.364      0.721      -8.587       6.096\n",
       "x8            -0.0380      0.067     -0.565      0.581      -0.182       0.106\n",
       "x9             1.7045      1.953      0.873      0.398      -2.485       5.894\n",
       "==============================================================================\n",
       "Omnibus:                        1.516   Durbin-Watson:                   1.857\n",
       "Prob(Omnibus):                  0.469   Jarque-Bera (JB):                1.100\n",
       "Skew:                           0.262   Prob(JB):                        0.577\n",
       "Kurtosis:                       2.091   Cond. No.                         470.\n",
       "==============================================================================\n",
       "\n",
       "Notes:\n",
       "[1] Standard Errors assume that the covariance matrix of the errors is correctly specified.\n",
       "\"\"\""
      ]
     },
     "execution_count": 5,
     "metadata": {},
     "output_type": "execute_result"
    }
   ],
   "source": [
    "# Do the multiple linear regression\n",
    "# OLS（endog,exog=None,missing='none',hasconst=None) (endog:因变量，exog=自变量）\n",
    "model = sm.OLS(Y, X).fit()\n",
    "Y_hat = model.fittedvalues\n",
    "model.summary()"
   ]
  },
  {
   "cell_type": "code",
   "execution_count": 6,
   "metadata": {},
   "outputs": [
    {
     "data": {
      "text/html": [
       "<table class=\"simpletable\">\n",
       "<caption>OLS Regression Results</caption>\n",
       "<tr>\n",
       "  <th>Dep. Variable:</th>            <td>y</td>        <th>  R-squared:         </th> <td>   0.851</td>\n",
       "</tr>\n",
       "<tr>\n",
       "  <th>Model:</th>                   <td>OLS</td>       <th>  Adj. R-squared:    </th> <td>   0.756</td>\n",
       "</tr>\n",
       "<tr>\n",
       "  <th>Method:</th>             <td>Least Squares</td>  <th>  F-statistic:       </th> <td>   8.898</td>\n",
       "</tr>\n",
       "<tr>\n",
       "  <th>Date:</th>             <td>Tue, 13 Apr 2021</td> <th>  Prob (F-statistic):</th> <td>0.000202</td>\n",
       "</tr>\n",
       "<tr>\n",
       "  <th>Time:</th>                 <td>18:30:50</td>     <th>  Log-Likelihood:    </th> <td> -53.735</td>\n",
       "</tr>\n",
       "<tr>\n",
       "  <th>No. Observations:</th>      <td>    24</td>      <th>  AIC:               </th> <td>   127.5</td>\n",
       "</tr>\n",
       "<tr>\n",
       "  <th>Df Residuals:</th>          <td>    14</td>      <th>  BIC:               </th> <td>   139.3</td>\n",
       "</tr>\n",
       "<tr>\n",
       "  <th>Df Model:</th>              <td>     9</td>      <th>                     </th>     <td> </td>   \n",
       "</tr>\n",
       "<tr>\n",
       "  <th>Covariance Type:</th>      <td>nonrobust</td>    <th>                     </th>     <td> </td>   \n",
       "</tr>\n",
       "</table>\n",
       "<table class=\"simpletable\">\n",
       "<tr>\n",
       "    <td></td>       <th>coef</th>     <th>std err</th>      <th>t</th>      <th>P>|t|</th>  <th>[0.025</th>    <th>0.975]</th>  \n",
       "</tr>\n",
       "<tr>\n",
       "  <th>const</th> <td>   34.6292</td> <td>    0.607</td> <td>   57.065</td> <td> 0.000</td> <td>   33.328</td> <td>   35.931</td>\n",
       "</tr>\n",
       "<tr>\n",
       "  <th>x1</th>    <td>   14.8258</td> <td>    7.878</td> <td>    1.882</td> <td> 0.081</td> <td>   -2.070</td> <td>   31.722</td>\n",
       "</tr>\n",
       "<tr>\n",
       "  <th>x2</th>    <td>    7.9045</td> <td>    5.006</td> <td>    1.579</td> <td> 0.137</td> <td>   -2.832</td> <td>   18.641</td>\n",
       "</tr>\n",
       "<tr>\n",
       "  <th>x3</th>    <td>    1.2966</td> <td>    4.658</td> <td>    0.278</td> <td> 0.785</td> <td>   -8.694</td> <td>   11.287</td>\n",
       "</tr>\n",
       "<tr>\n",
       "  <th>x4</th>    <td>    3.6852</td> <td>    5.823</td> <td>    0.633</td> <td> 0.537</td> <td>   -8.803</td> <td>   16.174</td>\n",
       "</tr>\n",
       "<tr>\n",
       "  <th>x5</th>    <td>    5.9459</td> <td>    4.014</td> <td>    1.481</td> <td> 0.161</td> <td>   -2.664</td> <td>   14.556</td>\n",
       "</tr>\n",
       "<tr>\n",
       "  <th>x6</th>    <td>   -2.3585</td> <td>   10.173</td> <td>   -0.232</td> <td> 0.820</td> <td>  -24.178</td> <td>   19.461</td>\n",
       "</tr>\n",
       "<tr>\n",
       "  <th>x7</th>    <td>   -3.3719</td> <td>    9.269</td> <td>   -0.364</td> <td> 0.721</td> <td>  -23.253</td> <td>   16.509</td>\n",
       "</tr>\n",
       "<tr>\n",
       "  <th>x8</th>    <td>   -2.5590</td> <td>    4.529</td> <td>   -0.565</td> <td> 0.581</td> <td>  -12.273</td> <td>    7.155</td>\n",
       "</tr>\n",
       "<tr>\n",
       "  <th>x9</th>    <td>    3.6157</td> <td>    4.143</td> <td>    0.873</td> <td> 0.398</td> <td>   -5.271</td> <td>   12.502</td>\n",
       "</tr>\n",
       "</table>\n",
       "<table class=\"simpletable\">\n",
       "<tr>\n",
       "  <th>Omnibus:</th>       <td> 1.516</td> <th>  Durbin-Watson:     </th> <td>   1.857</td>\n",
       "</tr>\n",
       "<tr>\n",
       "  <th>Prob(Omnibus):</th> <td> 0.469</td> <th>  Jarque-Bera (JB):  </th> <td>   1.100</td>\n",
       "</tr>\n",
       "<tr>\n",
       "  <th>Skew:</th>          <td> 0.262</td> <th>  Prob(JB):          </th> <td>   0.577</td>\n",
       "</tr>\n",
       "<tr>\n",
       "  <th>Kurtosis:</th>      <td> 2.091</td> <th>  Cond. No.          </th> <td>    23.7</td>\n",
       "</tr>\n",
       "</table><br/><br/>Notes:<br/>[1] Standard Errors assume that the covariance matrix of the errors is correctly specified."
      ],
      "text/plain": [
       "<class 'statsmodels.iolib.summary.Summary'>\n",
       "\"\"\"\n",
       "                            OLS Regression Results                            \n",
       "==============================================================================\n",
       "Dep. Variable:                      y   R-squared:                       0.851\n",
       "Model:                            OLS   Adj. R-squared:                  0.756\n",
       "Method:                 Least Squares   F-statistic:                     8.898\n",
       "Date:                Tue, 13 Apr 2021   Prob (F-statistic):           0.000202\n",
       "Time:                        18:30:50   Log-Likelihood:                -53.735\n",
       "No. Observations:                  24   AIC:                             127.5\n",
       "Df Residuals:                      14   BIC:                             139.3\n",
       "Df Model:                           9                                         \n",
       "Covariance Type:            nonrobust                                         \n",
       "==============================================================================\n",
       "                 coef    std err          t      P>|t|      [0.025      0.975]\n",
       "------------------------------------------------------------------------------\n",
       "const         34.6292      0.607     57.065      0.000      33.328      35.931\n",
       "x1            14.8258      7.878      1.882      0.081      -2.070      31.722\n",
       "x2             7.9045      5.006      1.579      0.137      -2.832      18.641\n",
       "x3             1.2966      4.658      0.278      0.785      -8.694      11.287\n",
       "x4             3.6852      5.823      0.633      0.537      -8.803      16.174\n",
       "x5             5.9459      4.014      1.481      0.161      -2.664      14.556\n",
       "x6            -2.3585     10.173     -0.232      0.820     -24.178      19.461\n",
       "x7            -3.3719      9.269     -0.364      0.721     -23.253      16.509\n",
       "x8            -2.5590      4.529     -0.565      0.581     -12.273       7.155\n",
       "x9             3.6157      4.143      0.873      0.398      -5.271      12.502\n",
       "==============================================================================\n",
       "Omnibus:                        1.516   Durbin-Watson:                   1.857\n",
       "Prob(Omnibus):                  0.469   Jarque-Bera (JB):                1.100\n",
       "Skew:                           0.262   Prob(JB):                        0.577\n",
       "Kurtosis:                       2.091   Cond. No.                         23.7\n",
       "==============================================================================\n",
       "\n",
       "Notes:\n",
       "[1] Standard Errors assume that the covariance matrix of the errors is correctly specified.\n",
       "\"\"\""
      ]
     },
     "execution_count": 6,
     "metadata": {},
     "output_type": "execute_result"
    }
   ],
   "source": [
    "# Do the multiple linear regression\n",
    "# OLS（endog,exog=None,missing='none',hasconst=None) (endog:因变量，exog=自变量）\n",
    "model_std = sm.OLS(Y, X_std).fit()\n",
    "Y_std_hat = model_std.fittedvalues\n",
    "model_std.summary()"
   ]
  },
  {
   "cell_type": "markdown",
   "metadata": {},
   "source": [
    "**预判变量间是否存在多重共线性** \n",
    "\n",
    "**方法1： 直观判定法**"
   ]
  },
  {
   "cell_type": "code",
   "execution_count": 7,
   "metadata": {},
   "outputs": [
    {
     "data": {
      "text/html": [
       "<div>\n",
       "<style scoped>\n",
       "    .dataframe tbody tr th:only-of-type {\n",
       "        vertical-align: middle;\n",
       "    }\n",
       "\n",
       "    .dataframe tbody tr th {\n",
       "        vertical-align: top;\n",
       "    }\n",
       "\n",
       "    .dataframe thead th {\n",
       "        text-align: right;\n",
       "    }\n",
       "</style>\n",
       "<table border=\"1\" class=\"dataframe\">\n",
       "  <thead>\n",
       "    <tr style=\"text-align: right;\">\n",
       "      <th></th>\n",
       "      <th>0</th>\n",
       "      <th>1</th>\n",
       "      <th>2</th>\n",
       "      <th>3</th>\n",
       "      <th>4</th>\n",
       "      <th>5</th>\n",
       "      <th>6</th>\n",
       "      <th>7</th>\n",
       "      <th>8</th>\n",
       "      <th>9</th>\n",
       "      <th>10</th>\n",
       "    </tr>\n",
       "  </thead>\n",
       "  <tbody>\n",
       "    <tr>\n",
       "      <th>0</th>\n",
       "      <td>NaN</td>\n",
       "      <td>NaN</td>\n",
       "      <td>NaN</td>\n",
       "      <td>NaN</td>\n",
       "      <td>NaN</td>\n",
       "      <td>NaN</td>\n",
       "      <td>NaN</td>\n",
       "      <td>NaN</td>\n",
       "      <td>NaN</td>\n",
       "      <td>NaN</td>\n",
       "      <td>NaN</td>\n",
       "    </tr>\n",
       "    <tr>\n",
       "      <th>1</th>\n",
       "      <td>NaN</td>\n",
       "      <td>1.000000</td>\n",
       "      <td>0.651267</td>\n",
       "      <td>0.689212</td>\n",
       "      <td>0.734274</td>\n",
       "      <td>0.458556</td>\n",
       "      <td>0.640616</td>\n",
       "      <td>3.671126e-01</td>\n",
       "      <td>-0.437101</td>\n",
       "      <td>1.466825e-01</td>\n",
       "      <td>0.873912</td>\n",
       "    </tr>\n",
       "    <tr>\n",
       "      <th>2</th>\n",
       "      <td>NaN</td>\n",
       "      <td>0.651267</td>\n",
       "      <td>1.000000</td>\n",
       "      <td>0.412956</td>\n",
       "      <td>0.728592</td>\n",
       "      <td>0.224022</td>\n",
       "      <td>0.510310</td>\n",
       "      <td>4.264014e-01</td>\n",
       "      <td>-0.100748</td>\n",
       "      <td>2.041241e-01</td>\n",
       "      <td>0.709777</td>\n",
       "    </tr>\n",
       "    <tr>\n",
       "      <th>3</th>\n",
       "      <td>NaN</td>\n",
       "      <td>0.689212</td>\n",
       "      <td>0.412956</td>\n",
       "      <td>1.000000</td>\n",
       "      <td>0.571552</td>\n",
       "      <td>0.204664</td>\n",
       "      <td>0.392124</td>\n",
       "      <td>1.516093e-01</td>\n",
       "      <td>-0.352751</td>\n",
       "      <td>3.059946e-01</td>\n",
       "      <td>0.647636</td>\n",
       "    </tr>\n",
       "    <tr>\n",
       "      <th>4</th>\n",
       "      <td>NaN</td>\n",
       "      <td>0.734274</td>\n",
       "      <td>0.728592</td>\n",
       "      <td>0.571552</td>\n",
       "      <td>1.000000</td>\n",
       "      <td>0.358884</td>\n",
       "      <td>0.678861</td>\n",
       "      <td>5.743353e-01</td>\n",
       "      <td>-0.139087</td>\n",
       "      <td>1.065612e-01</td>\n",
       "      <td>0.707766</td>\n",
       "    </tr>\n",
       "    <tr>\n",
       "      <th>5</th>\n",
       "      <td>NaN</td>\n",
       "      <td>0.458556</td>\n",
       "      <td>0.224022</td>\n",
       "      <td>0.204664</td>\n",
       "      <td>0.358884</td>\n",
       "      <td>1.000000</td>\n",
       "      <td>0.589387</td>\n",
       "      <td>5.412988e-01</td>\n",
       "      <td>-0.020169</td>\n",
       "      <td>1.016185e-01</td>\n",
       "      <td>0.461468</td>\n",
       "    </tr>\n",
       "    <tr>\n",
       "      <th>6</th>\n",
       "      <td>NaN</td>\n",
       "      <td>0.640616</td>\n",
       "      <td>0.510310</td>\n",
       "      <td>0.392124</td>\n",
       "      <td>0.678861</td>\n",
       "      <td>0.589387</td>\n",
       "      <td>1.000000</td>\n",
       "      <td>8.703883e-01</td>\n",
       "      <td>0.124266</td>\n",
       "      <td>2.222222e-01</td>\n",
       "      <td>0.528444</td>\n",
       "    </tr>\n",
       "    <tr>\n",
       "      <th>7</th>\n",
       "      <td>NaN</td>\n",
       "      <td>0.367113</td>\n",
       "      <td>0.426401</td>\n",
       "      <td>0.151609</td>\n",
       "      <td>0.574335</td>\n",
       "      <td>0.541299</td>\n",
       "      <td>0.870388</td>\n",
       "      <td>1.000000e+00</td>\n",
       "      <td>0.313511</td>\n",
       "      <td>-5.797951e-17</td>\n",
       "      <td>0.281520</td>\n",
       "    </tr>\n",
       "    <tr>\n",
       "      <th>8</th>\n",
       "      <td>NaN</td>\n",
       "      <td>-0.437101</td>\n",
       "      <td>-0.100748</td>\n",
       "      <td>-0.352751</td>\n",
       "      <td>-0.139087</td>\n",
       "      <td>-0.020169</td>\n",
       "      <td>0.124266</td>\n",
       "      <td>3.135114e-01</td>\n",
       "      <td>1.000000</td>\n",
       "      <td>2.257796e-01</td>\n",
       "      <td>-0.397403</td>\n",
       "    </tr>\n",
       "    <tr>\n",
       "      <th>9</th>\n",
       "      <td>NaN</td>\n",
       "      <td>0.146683</td>\n",
       "      <td>0.204124</td>\n",
       "      <td>0.305995</td>\n",
       "      <td>0.106561</td>\n",
       "      <td>0.101618</td>\n",
       "      <td>0.222222</td>\n",
       "      <td>-5.797951e-17</td>\n",
       "      <td>0.225780</td>\n",
       "      <td>1.000000e+00</td>\n",
       "      <td>0.266878</td>\n",
       "    </tr>\n",
       "    <tr>\n",
       "      <th>10</th>\n",
       "      <td>NaN</td>\n",
       "      <td>0.873912</td>\n",
       "      <td>0.709777</td>\n",
       "      <td>0.647636</td>\n",
       "      <td>0.707766</td>\n",
       "      <td>0.461468</td>\n",
       "      <td>0.528444</td>\n",
       "      <td>2.815200e-01</td>\n",
       "      <td>-0.397403</td>\n",
       "      <td>2.668783e-01</td>\n",
       "      <td>1.000000</td>\n",
       "    </tr>\n",
       "  </tbody>\n",
       "</table>\n",
       "</div>"
      ],
      "text/plain": [
       "    0         1         2         3         4         5         6   \\\n",
       "0  NaN       NaN       NaN       NaN       NaN       NaN       NaN   \n",
       "1  NaN  1.000000  0.651267  0.689212  0.734274  0.458556  0.640616   \n",
       "2  NaN  0.651267  1.000000  0.412956  0.728592  0.224022  0.510310   \n",
       "3  NaN  0.689212  0.412956  1.000000  0.571552  0.204664  0.392124   \n",
       "4  NaN  0.734274  0.728592  0.571552  1.000000  0.358884  0.678861   \n",
       "5  NaN  0.458556  0.224022  0.204664  0.358884  1.000000  0.589387   \n",
       "6  NaN  0.640616  0.510310  0.392124  0.678861  0.589387  1.000000   \n",
       "7  NaN  0.367113  0.426401  0.151609  0.574335  0.541299  0.870388   \n",
       "8  NaN -0.437101 -0.100748 -0.352751 -0.139087 -0.020169  0.124266   \n",
       "9  NaN  0.146683  0.204124  0.305995  0.106561  0.101618  0.222222   \n",
       "10 NaN  0.873912  0.709777  0.647636  0.707766  0.461468  0.528444   \n",
       "\n",
       "              7         8             9         10  \n",
       "0            NaN       NaN           NaN       NaN  \n",
       "1   3.671126e-01 -0.437101  1.466825e-01  0.873912  \n",
       "2   4.264014e-01 -0.100748  2.041241e-01  0.709777  \n",
       "3   1.516093e-01 -0.352751  3.059946e-01  0.647636  \n",
       "4   5.743353e-01 -0.139087  1.065612e-01  0.707766  \n",
       "5   5.412988e-01 -0.020169  1.016185e-01  0.461468  \n",
       "6   8.703883e-01  0.124266  2.222222e-01  0.528444  \n",
       "7   1.000000e+00  0.313511 -5.797951e-17  0.281520  \n",
       "8   3.135114e-01  1.000000  2.257796e-01 -0.397403  \n",
       "9  -5.797951e-17  0.225780  1.000000e+00  0.266878  \n",
       "10  2.815200e-01 -0.397403  2.668783e-01  1.000000  "
      ]
     },
     "execution_count": 7,
     "metadata": {},
     "output_type": "execute_result"
    }
   ],
   "source": [
    "# 相关系数\n",
    "r = df.corr()\n",
    "r"
   ]
  },
  {
   "cell_type": "markdown",
   "metadata": {},
   "source": [
    "当与因变量之间的简单相关系数绝对值很大的自变量在回归方程中没有通过显著性检验时，可初步判断存在严重的多重共线性。"
   ]
  },
  {
   "cell_type": "code",
   "execution_count": 8,
   "metadata": {},
   "outputs": [
    {
     "name": "stdout",
     "output_type": "stream",
     "text": [
      "因变量和每个自变量之间的相关系数: \n",
      " [ 0.87391169  0.7097771   0.64763642  0.70776562  0.46146792  0.52844361\n",
      "  0.28151997 -0.39740338  0.26687833]\n",
      "自变量 1 与因变量之间的简单相关系数为: 0.8739, tPal: 0.0808.\n",
      "自变量 2 与因变量之间的简单相关系数为: 0.7098, tPal: 0.1367.\n",
      "自变量 3 与因变量之间的简单相关系数为: 0.6476, tPal: 0.7848.\n",
      "自变量 4 与因变量之间的简单相关系数为: 0.7078, tPal: 0.5370.\n",
      "自变量 6 与因变量之间的简单相关系数为: 0.5284, tPal: 0.8200.\n",
      "\n",
      "自变量之间存在多重共线性。\n"
     ]
    }
   ],
   "source": [
    "r_xy = np.array(r.iloc[1:p+1][p+1])\n",
    "print('因变量和每个自变量之间的相关系数: \\n', r_xy)\n",
    "\n",
    "judge_xy = True\n",
    "for i in range(p):\n",
    "    if (abs(r_xy[i]) >= 0.5) & (model_std.pvalues[i+1] >= alpha):\n",
    "        judge_xy = False\n",
    "        print('自变量 %d 与因变量之间的简单相关系数为: %.4f, tPal: %.4f.' % (i+1, r_xy[i], model_std.pvalues[i+1]))\n",
    "        \n",
    "if judge_xy:\n",
    "    print('\\n自变量之间不存在多重共线性。')\n",
    "else:\n",
    "    print('\\n自变量之间存在多重共线性。')"
   ]
  },
  {
   "cell_type": "markdown",
   "metadata": {},
   "source": [
    "**没有通过显著性检验，存在多重共线性**"
   ]
  },
  {
   "cell_type": "markdown",
   "metadata": {},
   "source": [
    "在自变量的相关矩阵中，当自变量间的相关系数较大时会出现多重共线性的问题。"
   ]
  },
  {
   "cell_type": "code",
   "execution_count": 11,
   "metadata": {},
   "outputs": [
    {
     "name": "stdout",
     "output_type": "stream",
     "text": [
      "变量(1,4)之间相关系数较大，为：0.7343\n",
      "变量(2,4)之间相关系数较大，为：0.7286\n",
      "变量(6,7)之间相关系数较大，为：0.8704\n",
      "\n",
      "自变量之间存在多重共线性。\n"
     ]
    }
   ],
   "source": [
    "judge_xx = True\n",
    "for (i, j) in combinations(range(1, p+1), 2):\n",
    "    if(r.iloc[i][j] >= 0.7):\n",
    "        judge_xx = False\n",
    "        print('变量(%d,%d)之间相关系数较大，为：%.4f'% (i, j, r.iloc[i][j]))\n",
    "        \n",
    "if judge_xx:\n",
    "    print('\\n自变量之间不存在多重共线性。')\n",
    "else:\n",
    "    print('\\n自变量之间存在多重共线性。')"
   ]
  },
  {
   "cell_type": "markdown",
   "metadata": {},
   "source": [
    "**方法2：方差扩大因子法**  \n",
    "首先计算自变量 $x_j$ 的方差扩大因子 $\\mathsf{VIF_j}$，$j=1,\\cdots,p$.\n",
    "\n",
    "使用方差扩大因子法，我们实现$(X^{T}X)^{-1}$"
   ]
  },
  {
   "cell_type": "code",
   "execution_count": 13,
   "metadata": {},
   "outputs": [
    {
     "name": "stdout",
     "output_type": "stream",
     "text": [
      "C主对角线元素  方差扩大因子：\n",
      "1. 7.0219      7.0219\n",
      "2. 2.8355      2.8355\n",
      "3. 2.4549      2.4549\n",
      "4. 3.8363      3.8363\n",
      "5. 1.8234      1.8234\n",
      "6. 11.7109      11.7109\n",
      "7. 9.7218      9.7218\n",
      "8. 2.3211      2.3211\n",
      "9. 1.9424      1.9424\n"
     ]
    }
   ],
   "source": [
    "# 法1：\n",
    "c = np.dot(X_std.T, X_std)\n",
    "C = np.linalg.inv(c)  # 求逆\n",
    "C_list = []\n",
    "for i in range(p):\n",
    "    C_list.append(C[i + 1][i + 1])\n",
    "\n",
    "# 法2：\n",
    "vif = [variance_inflation_factor(X_std[:,1:p + 1], i) for i in range(p)]\n",
    "\n",
    "print('C主对角线元素  方差扩大因子：')\n",
    "for i in range(p):\n",
    "    print('%d. %.4f      %.4f' % (i+1, C_list[i], vif[i]))"
   ]
  },
  {
   "cell_type": "markdown",
   "metadata": {},
   "source": [
    "通过 $\\mathsf{VIF_j}$ 的大小判断自变量之间是否存在多重共线性.  \n",
    "如果VIF值大于10说明共线性很严重，这种情况需要处理，如果VIF值在5以下不需要处理，如果VIF介于5~10之间视情况而定。"
   ]
  },
  {
   "cell_type": "code",
   "execution_count": 14,
   "metadata": {},
   "outputs": [
    {
     "name": "stdout",
     "output_type": "stream",
     "text": [
      "自变量 x1 与其余自变量之间存在多重共线性，其中VIF值为：7.0219\n",
      "自变量 x6 与其余自变量之间存在多重共线性，其中VIF值为：11.7109\n",
      "自变量 x7 与其余自变量之间存在多重共线性，其中VIF值为：9.7218\n"
     ]
    }
   ],
   "source": [
    "thres_vif = 5\n",
    "for i in range(p):\n",
    "    if vif[i] >= thres_vif:\n",
    "        print('自变量 x%d 与其余自变量之间存在多重共线性，其中VIF值为：%.4f' % (i + 1, vif[i]))"
   ]
  },
  {
   "cell_type": "markdown",
   "metadata": {},
   "source": [
    "**方法3：特征值判定法**  \n",
    "1. 计算自变量 $x_j$ 的条件数 $\\kappa_j = \\sqrt{\\frac{\\lambda_1}{\\lambda_j}}$，$j=1,\\cdots,p$."
   ]
  },
  {
   "cell_type": "code",
   "execution_count": 15,
   "metadata": {},
   "outputs": [
    {
     "name": "stdout",
     "output_type": "stream",
     "text": [
      "特征值1: 4.2142, kappa1: 1.0000\n",
      "特征值2: 1.7062, kappa2: 1.5716\n",
      "特征值3: 1.1450, kappa3: 1.9185\n",
      "特征值4: 0.7997, kappa4: 2.2955\n",
      "特征值5: 0.4616, kappa5: 3.0216\n",
      "特征值6: 0.0426, kappa6: 9.9503\n",
      "特征值7: 0.2805, kappa7: 3.8760\n",
      "特征值8: 0.1610, kappa8: 5.1156\n",
      "特征值9: 0.1892, kappa9: 4.7198\n"
     ]
    }
   ],
   "source": [
    "corr = np.corrcoef(X_std[:,1:p+1], rowvar = 0) # 相关系数矩阵\n",
    "w, v = np.linalg.eig(corr) # 特征值 & 特征向量\n",
    "\n",
    "kappa = []\n",
    "for i in range(p):\n",
    "    kappa.append(np.sqrt(max(w) / w[i]))\n",
    "    print('特征值%d: %.4f, kappa%d: %.4f' %(i + 1, w[i], i + 1, kappa[i]))"
   ]
  },
  {
   "cell_type": "markdown",
   "metadata": {},
   "source": [
    "2. 通过 $\\kappa_p$ 的大小判断自变量之间是否存在多重共线性以及多重共线性的严重程度.  \n",
    "记 $\\kappa=\\lambda_{max}/ \\lambda_{min}$，从实际应用的角度,一般若 $\\kappa<100$，则认为多重共线性的程度很小，若是 $100<=\\kappa<=1000$，则认为存在一般程度上的多重共线性，若是 $\\kappa>1000$，则就认为存在严重的多重共线性.  \n",
    "$\\kappa >= c_{\\kappa}$时，自变量之间存在多重共线性，$c_{\\kappa}$常见取值为10，100，1000."
   ]
  },
  {
   "cell_type": "code",
   "execution_count": 16,
   "metadata": {},
   "outputs": [
    {
     "name": "stdout",
     "output_type": "stream",
     "text": [
      "设计矩阵 X 不存在多重共线性，其中kappa值为：9.9503\n"
     ]
    }
   ],
   "source": [
    "thres_kappa = 10\n",
    "if np.max(kappa) >= thres_kappa:\n",
    "    print('设计矩阵 X 存在多重共线性，其中kappa值为：%.4f' % np.max(kappa))\n",
    "else:\n",
    "    print('设计矩阵 X 不存在多重共线性，其中kappa值为：%.4f' % np.max(kappa))"
   ]
  },
  {
   "cell_type": "markdown",
   "metadata": {},
   "source": [
    "**Q2：**  \n",
    "消除多重共线性：\n",
    "\n",
    "主要使用剔除不重要的解释变量的方法"
   ]
  },
  {
   "cell_type": "code",
   "execution_count": 27,
   "metadata": {},
   "outputs": [
    {
     "name": "stdout",
     "output_type": "stream",
     "text": [
      "剔除剩余变量中第 6 列变量： 剩余变量： [0, 1, 2, 3, 4, 5, 7, 8, 9]\n",
      "此时模型的AIC值为：125.5623\n"
     ]
    }
   ],
   "source": [
    "# 利用VIF删除导致高共线性的变量\n",
    "col = list(range(X_std.shape[1]))\n",
    "dropped = True\n",
    "while dropped:\n",
    "    dropped = False\n",
    "    vif_drop = [variance_inflation_factor(X_std[:,col], i) for i in range(X_std[:,col].shape[1])]\n",
    "    maxvif = max(vif_drop)\n",
    "    maxix = vif_drop.index(maxvif)\n",
    "    if maxvif > thres_vif:\n",
    "        del col[maxix]\n",
    "        dropped = True\n",
    "    \n",
    "    if dropped:\n",
    "        print('剔除剩余变量中第 %d 列变量：' % maxix, '剩余变量：', col)\n",
    "        \n",
    "        # 利用 AIC、BIC 准则做变量选择的一个参考\n",
    "        X_std_vif = X_std[:, col]\n",
    "        model_vif = sm.OLS(Y, X_std_vif).fit()\n",
    "        print('此时模型的AIC值为：%.4f'% model_vif.aic)"
   ]
  },
  {
   "cell_type": "code",
   "execution_count": 28,
   "metadata": {},
   "outputs": [
    {
     "data": {
      "text/html": [
       "<table class=\"simpletable\">\n",
       "<caption>OLS Regression Results</caption>\n",
       "<tr>\n",
       "  <th>Dep. Variable:</th>            <td>y</td>        <th>  R-squared:         </th> <td>   0.851</td>\n",
       "</tr>\n",
       "<tr>\n",
       "  <th>Model:</th>                   <td>OLS</td>       <th>  Adj. R-squared:    </th> <td>   0.771</td>\n",
       "</tr>\n",
       "<tr>\n",
       "  <th>Method:</th>             <td>Least Squares</td>  <th>  F-statistic:       </th> <td>   10.68</td>\n",
       "</tr>\n",
       "<tr>\n",
       "  <th>Date:</th>             <td>Tue, 13 Apr 2021</td> <th>  Prob (F-statistic):</th> <td>5.94e-05</td>\n",
       "</tr>\n",
       "<tr>\n",
       "  <th>Time:</th>                 <td>19:04:26</td>     <th>  Log-Likelihood:    </th> <td> -53.781</td>\n",
       "</tr>\n",
       "<tr>\n",
       "  <th>No. Observations:</th>      <td>    24</td>      <th>  AIC:               </th> <td>   125.6</td>\n",
       "</tr>\n",
       "<tr>\n",
       "  <th>Df Residuals:</th>          <td>    15</td>      <th>  BIC:               </th> <td>   136.2</td>\n",
       "</tr>\n",
       "<tr>\n",
       "  <th>Df Model:</th>              <td>     8</td>      <th>                     </th>     <td> </td>   \n",
       "</tr>\n",
       "<tr>\n",
       "  <th>Covariance Type:</th>      <td>nonrobust</td>    <th>                     </th>     <td> </td>   \n",
       "</tr>\n",
       "</table>\n",
       "<table class=\"simpletable\">\n",
       "<tr>\n",
       "    <td></td>       <th>coef</th>     <th>std err</th>      <th>t</th>      <th>P>|t|</th>  <th>[0.025</th>    <th>0.975]</th>  \n",
       "</tr>\n",
       "<tr>\n",
       "  <th>const</th> <td>   34.6292</td> <td>    0.587</td> <td>   58.955</td> <td> 0.000</td> <td>   33.377</td> <td>   35.881</td>\n",
       "</tr>\n",
       "<tr>\n",
       "  <th>x1</th>    <td>   13.7810</td> <td>    6.254</td> <td>    2.204</td> <td> 0.044</td> <td>    0.451</td> <td>   27.111</td>\n",
       "</tr>\n",
       "<tr>\n",
       "  <th>x2</th>    <td>    8.2433</td> <td>    4.634</td> <td>    1.779</td> <td> 0.096</td> <td>   -1.635</td> <td>   18.121</td>\n",
       "</tr>\n",
       "<tr>\n",
       "  <th>x3</th>    <td>    1.3870</td> <td>    4.493</td> <td>    0.309</td> <td> 0.762</td> <td>   -8.189</td> <td>   10.963</td>\n",
       "</tr>\n",
       "<tr>\n",
       "  <th>x4</th>    <td>    3.6215</td> <td>    5.630</td> <td>    0.643</td> <td> 0.530</td> <td>   -8.378</td> <td>   15.621</td>\n",
       "</tr>\n",
       "<tr>\n",
       "  <th>x5</th>    <td>    5.9877</td> <td>    3.882</td> <td>    1.543</td> <td> 0.144</td> <td>   -2.286</td> <td>   14.262</td>\n",
       "</tr>\n",
       "<tr>\n",
       "  <th>x6</th>    <td>   -5.1787</td> <td>    4.857</td> <td>   -1.066</td> <td> 0.303</td> <td>  -15.531</td> <td>    5.174</td>\n",
       "</tr>\n",
       "<tr>\n",
       "  <th>x7</th>    <td>   -2.5804</td> <td>    4.383</td> <td>   -0.589</td> <td> 0.565</td> <td>  -11.923</td> <td>    6.762</td>\n",
       "</tr>\n",
       "<tr>\n",
       "  <th>x8</th>    <td>    3.1554</td> <td>    3.520</td> <td>    0.896</td> <td> 0.384</td> <td>   -4.347</td> <td>   10.658</td>\n",
       "</tr>\n",
       "</table>\n",
       "<table class=\"simpletable\">\n",
       "<tr>\n",
       "  <th>Omnibus:</th>       <td> 1.705</td> <th>  Durbin-Watson:     </th> <td>   1.835</td>\n",
       "</tr>\n",
       "<tr>\n",
       "  <th>Prob(Omnibus):</th> <td> 0.426</td> <th>  Jarque-Bera (JB):  </th> <td>   1.110</td>\n",
       "</tr>\n",
       "<tr>\n",
       "  <th>Skew:</th>          <td> 0.217</td> <th>  Prob(JB):          </th> <td>   0.574</td>\n",
       "</tr>\n",
       "<tr>\n",
       "  <th>Kurtosis:</th>      <td> 2.039</td> <th>  Cond. No.          </th> <td>    12.5</td>\n",
       "</tr>\n",
       "</table><br/><br/>Notes:<br/>[1] Standard Errors assume that the covariance matrix of the errors is correctly specified."
      ],
      "text/plain": [
       "<class 'statsmodels.iolib.summary.Summary'>\n",
       "\"\"\"\n",
       "                            OLS Regression Results                            \n",
       "==============================================================================\n",
       "Dep. Variable:                      y   R-squared:                       0.851\n",
       "Model:                            OLS   Adj. R-squared:                  0.771\n",
       "Method:                 Least Squares   F-statistic:                     10.68\n",
       "Date:                Tue, 13 Apr 2021   Prob (F-statistic):           5.94e-05\n",
       "Time:                        19:04:26   Log-Likelihood:                -53.781\n",
       "No. Observations:                  24   AIC:                             125.6\n",
       "Df Residuals:                      15   BIC:                             136.2\n",
       "Df Model:                           8                                         \n",
       "Covariance Type:            nonrobust                                         \n",
       "==============================================================================\n",
       "                 coef    std err          t      P>|t|      [0.025      0.975]\n",
       "------------------------------------------------------------------------------\n",
       "const         34.6292      0.587     58.955      0.000      33.377      35.881\n",
       "x1            13.7810      6.254      2.204      0.044       0.451      27.111\n",
       "x2             8.2433      4.634      1.779      0.096      -1.635      18.121\n",
       "x3             1.3870      4.493      0.309      0.762      -8.189      10.963\n",
       "x4             3.6215      5.630      0.643      0.530      -8.378      15.621\n",
       "x5             5.9877      3.882      1.543      0.144      -2.286      14.262\n",
       "x6            -5.1787      4.857     -1.066      0.303     -15.531       5.174\n",
       "x7            -2.5804      4.383     -0.589      0.565     -11.923       6.762\n",
       "x8             3.1554      3.520      0.896      0.384      -4.347      10.658\n",
       "==============================================================================\n",
       "Omnibus:                        1.705   Durbin-Watson:                   1.835\n",
       "Prob(Omnibus):                  0.426   Jarque-Bera (JB):                1.110\n",
       "Skew:                           0.217   Prob(JB):                        0.574\n",
       "Kurtosis:                       2.039   Cond. No.                         12.5\n",
       "==============================================================================\n",
       "\n",
       "Notes:\n",
       "[1] Standard Errors assume that the covariance matrix of the errors is correctly specified.\n",
       "\"\"\""
      ]
     },
     "execution_count": 28,
     "metadata": {},
     "output_type": "execute_result"
    }
   ],
   "source": [
    "# Do the multiple linear regression\n",
    "X_std_vif = X_std[:, col]\n",
    "model_vif = sm.OLS(Y, X_std_vif).fit()\n",
    "model_vif.summary()"
   ]
  },
  {
   "cell_type": "code",
   "execution_count": 38,
   "metadata": {},
   "outputs": [
    {
     "name": "stdout",
     "output_type": "stream",
     "text": [
      "剔除剩余变量中第 6 列变量： 剩余变量： [0, 1, 2, 3, 4, 5, 7, 8, 9]\n",
      "此时模型的AIC值为：125.5623\n",
      "剔除剩余变量中第 3 列变量： 剩余变量： [0, 1, 2, 4, 5, 7, 8, 9]\n",
      "此时模型的AIC值为：123.7143\n",
      "剔除剩余变量中第 8 列变量： 剩余变量： [0, 1, 2, 4, 5, 7, 9]\n",
      "此时模型的AIC值为：122.3525\n",
      "剔除剩余变量中第 4 列变量： 剩余变量： [0, 1, 2, 5, 7, 9]\n",
      "此时模型的AIC值为：121.2717\n",
      "剔除剩余变量中第 9 列变量： 剩余变量： [0, 1, 2, 5, 7]\n",
      "此时模型的AIC值为：120.3662\n"
     ]
    }
   ],
   "source": [
    "# 后退法\n",
    "col0 = list(range(X_std.shape[1]))\n",
    "col1 = col0 * 1\n",
    "dropped1 = True\n",
    "aic_model = sm.OLS(Y, X_std).fit().aic\n",
    "while dropped1:\n",
    "    X_std_aic = X_std[:, col1]\n",
    "    model_aic = sm.OLS(Y, X_std_aic).fit().aic\n",
    "    aic = []\n",
    "    for i in range(len(col1)):\n",
    "        col2 = col1 * 1\n",
    "        del col2[i]\n",
    "        aic.append(sm.OLS(Y, X_std[:, col2]).fit().aic)\n",
    "        \n",
    "    minaic = min(aic[1:len(aic)])\n",
    "    minaic_rank = aic.index(minaic)\n",
    "    minaic_ix = col1[minaic_rank]\n",
    "    \n",
    "    if minaic < model_aic:\n",
    "        del col1[minaic_rank]\n",
    "    else:\n",
    "        dropped1 = False\n",
    "    \n",
    "    if dropped1:\n",
    "        print('剔除剩余变量中第 %d 列变量：' % minaic_ix, '剩余变量：', col1)\n",
    "        print('此时模型的AIC值为：%.4f'% minaic)"
   ]
  },
  {
   "cell_type": "code",
   "execution_count": 39,
   "metadata": {},
   "outputs": [
    {
     "data": {
      "text/html": [
       "<table class=\"simpletable\">\n",
       "<caption>OLS Regression Results</caption>\n",
       "<tr>\n",
       "  <th>Dep. Variable:</th>            <td>y</td>        <th>  R-squared:         </th> <td>   0.832</td>\n",
       "</tr>\n",
       "<tr>\n",
       "  <th>Model:</th>                   <td>OLS</td>       <th>  Adj. R-squared:    </th> <td>   0.797</td>\n",
       "</tr>\n",
       "<tr>\n",
       "  <th>Method:</th>             <td>Least Squares</td>  <th>  F-statistic:       </th> <td>   23.54</td>\n",
       "</tr>\n",
       "<tr>\n",
       "  <th>Date:</th>             <td>Tue, 13 Apr 2021</td> <th>  Prob (F-statistic):</th> <td>3.87e-07</td>\n",
       "</tr>\n",
       "<tr>\n",
       "  <th>Time:</th>                 <td>19:29:21</td>     <th>  Log-Likelihood:    </th> <td> -55.183</td>\n",
       "</tr>\n",
       "<tr>\n",
       "  <th>No. Observations:</th>      <td>    24</td>      <th>  AIC:               </th> <td>   120.4</td>\n",
       "</tr>\n",
       "<tr>\n",
       "  <th>Df Residuals:</th>          <td>    19</td>      <th>  BIC:               </th> <td>   126.3</td>\n",
       "</tr>\n",
       "<tr>\n",
       "  <th>Df Model:</th>              <td>     4</td>      <th>                     </th>     <td> </td>   \n",
       "</tr>\n",
       "<tr>\n",
       "  <th>Covariance Type:</th>      <td>nonrobust</td>    <th>                     </th>     <td> </td>   \n",
       "</tr>\n",
       "</table>\n",
       "<table class=\"simpletable\">\n",
       "<tr>\n",
       "    <td></td>       <th>coef</th>     <th>std err</th>      <th>t</th>      <th>P>|t|</th>  <th>[0.025</th>    <th>0.975]</th>  \n",
       "</tr>\n",
       "<tr>\n",
       "  <th>const</th> <td>   34.6292</td> <td>    0.553</td> <td>   62.587</td> <td> 0.000</td> <td>   33.471</td> <td>   35.787</td>\n",
       "</tr>\n",
       "<tr>\n",
       "  <th>x1</th>    <td>   18.3019</td> <td>    3.964</td> <td>    4.617</td> <td> 0.000</td> <td>   10.005</td> <td>   26.599</td>\n",
       "</tr>\n",
       "<tr>\n",
       "  <th>x2</th>    <td>    9.7675</td> <td>    3.845</td> <td>    2.540</td> <td> 0.020</td> <td>    1.719</td> <td>   17.816</td>\n",
       "</tr>\n",
       "<tr>\n",
       "  <th>x3</th>    <td>    5.9737</td> <td>    3.547</td> <td>    1.684</td> <td> 0.109</td> <td>   -1.451</td> <td>   13.398</td>\n",
       "</tr>\n",
       "<tr>\n",
       "  <th>x4</th>    <td>   -5.9995</td> <td>    3.493</td> <td>   -1.717</td> <td> 0.102</td> <td>  -13.311</td> <td>    1.312</td>\n",
       "</tr>\n",
       "</table>\n",
       "<table class=\"simpletable\">\n",
       "<tr>\n",
       "  <th>Omnibus:</th>       <td> 2.014</td> <th>  Durbin-Watson:     </th> <td>   2.005</td>\n",
       "</tr>\n",
       "<tr>\n",
       "  <th>Prob(Omnibus):</th> <td> 0.365</td> <th>  Jarque-Bera (JB):  </th> <td>   1.096</td>\n",
       "</tr>\n",
       "<tr>\n",
       "  <th>Skew:</th>          <td>-0.083</td> <th>  Prob(JB):          </th> <td>   0.578</td>\n",
       "</tr>\n",
       "<tr>\n",
       "  <th>Kurtosis:</th>      <td> 1.966</td> <th>  Cond. No.          </th> <td>    9.94</td>\n",
       "</tr>\n",
       "</table><br/><br/>Notes:<br/>[1] Standard Errors assume that the covariance matrix of the errors is correctly specified."
      ],
      "text/plain": [
       "<class 'statsmodels.iolib.summary.Summary'>\n",
       "\"\"\"\n",
       "                            OLS Regression Results                            \n",
       "==============================================================================\n",
       "Dep. Variable:                      y   R-squared:                       0.832\n",
       "Model:                            OLS   Adj. R-squared:                  0.797\n",
       "Method:                 Least Squares   F-statistic:                     23.54\n",
       "Date:                Tue, 13 Apr 2021   Prob (F-statistic):           3.87e-07\n",
       "Time:                        19:29:21   Log-Likelihood:                -55.183\n",
       "No. Observations:                  24   AIC:                             120.4\n",
       "Df Residuals:                      19   BIC:                             126.3\n",
       "Df Model:                           4                                         \n",
       "Covariance Type:            nonrobust                                         \n",
       "==============================================================================\n",
       "                 coef    std err          t      P>|t|      [0.025      0.975]\n",
       "------------------------------------------------------------------------------\n",
       "const         34.6292      0.553     62.587      0.000      33.471      35.787\n",
       "x1            18.3019      3.964      4.617      0.000      10.005      26.599\n",
       "x2             9.7675      3.845      2.540      0.020       1.719      17.816\n",
       "x3             5.9737      3.547      1.684      0.109      -1.451      13.398\n",
       "x4            -5.9995      3.493     -1.717      0.102     -13.311       1.312\n",
       "==============================================================================\n",
       "Omnibus:                        2.014   Durbin-Watson:                   2.005\n",
       "Prob(Omnibus):                  0.365   Jarque-Bera (JB):                1.096\n",
       "Skew:                          -0.083   Prob(JB):                        0.578\n",
       "Kurtosis:                       1.966   Cond. No.                         9.94\n",
       "==============================================================================\n",
       "\n",
       "Notes:\n",
       "[1] Standard Errors assume that the covariance matrix of the errors is correctly specified.\n",
       "\"\"\""
      ]
     },
     "execution_count": 39,
     "metadata": {},
     "output_type": "execute_result"
    }
   ],
   "source": [
    "# Do the multiple linear regression\n",
    "X_std_aic = X_std[:, col1]\n",
    "model_aic = sm.OLS(Y, X_std_aic).fit()\n",
    "model_aic.summary()"
   ]
  },
  {
   "cell_type": "code",
   "execution_count": 45,
   "metadata": {},
   "outputs": [
    {
     "name": "stdout",
     "output_type": "stream",
     "text": [
      "方差扩大因子：\n",
      "2.1389\n",
      "2.0124\n",
      "1.7127\n",
      "1.6611\n"
     ]
    }
   ],
   "source": [
    "# 检查此时的方差扩大因子\n",
    "vif_aic = [variance_inflation_factor(X_std_aic, i) for i in range(X_std_aic.shape[1])]\n",
    "print('方差扩大因子：')\n",
    "for i in range(X_std_aic.shape[1] - 1):\n",
    "    print('%.4f' % vif_aic[i + 1])\n",
    "\n",
    "for i in range(X_std_aic.shape[1] - 1):\n",
    "    if vif_aic[i] >= thres_vif:\n",
    "        print('自变量 x%d 与其余自变量之间存在多重共线性，其中VIF值为: %.4f' % (i + 1, vif_drop[i + 1]))"
   ]
  },
  {
   "cell_type": "markdown",
   "metadata": {},
   "source": [
    "去除掉明显共线性的因子后，还剩余4个变量"
   ]
  },
  {
   "cell_type": "code",
   "execution_count": 46,
   "metadata": {},
   "outputs": [
    {
     "name": "stdout",
     "output_type": "stream",
     "text": [
      "特征值1: 2.3389, kappa1: 1.0000\n",
      "特征值2: 0.8724, kappa2: 1.6374\n",
      "特征值3: 0.2427, kappa3: 3.1041\n",
      "特征值4: 0.5460, kappa4: 2.0697\n",
      "\n",
      "设计矩阵 X 不存在多重共线性，其中 kappa 值为: 3.1041\n"
     ]
    }
   ],
   "source": [
    "# eigen value\n",
    "corr_ = np.corrcoef(X_std_aic[:,1:p+1], rowvar = 0) # 相关系数矩阵\n",
    "w_, v_ = np.linalg.eig(corr_) # 特征值 & 特征向量\n",
    "\n",
    "kappa_ = []\n",
    "for i in range(X_std_aic.shape[1] - 1):\n",
    "    kappa_.append(np.sqrt(w_[0] / w_[i]))\n",
    "    print('特征值%d: %.4f, kappa%d: %.4f' %(i + 1, w_[i], i + 1, kappa_[i]))\n",
    "    \n",
    "if max(kappa_) >= thres_kappa:\n",
    "    print('\\n设计矩阵 X 存在多重共线性，其中 kappa 值为: %.4f' % max(kappa_))\n",
    "else:\n",
    "    print('\\n设计矩阵 X 不存在多重共线性，其中 kappa 值为: %.4f' % max(kappa_))"
   ]
  },
  {
   "cell_type": "markdown",
   "metadata": {},
   "source": [
    "剔除了五个明显共线性的变量后，可见这种方法可以在一定程度上消除多重共线性"
   ]
  },
  {
   "cell_type": "markdown",
   "metadata": {},
   "source": [
    "除了上述方法外，我们还可以通过增加样本量的方法消除多重共线性，产生多重共线性问题的一个因素是样本信息不充分而导致模型参数的不能被合理的估计，但在实际操作中增加数据量很困难/成本高昂。"
   ]
  },
  {
   "cell_type": "markdown",
   "metadata": {},
   "source": [
    "**End of Homework7**"
   ]
  }
 ],
 "metadata": {
  "kernelspec": {
   "display_name": "Python 3",
   "language": "python",
   "name": "python3"
  },
  "language_info": {
   "codemirror_mode": {
    "name": "ipython",
    "version": 3
   },
   "file_extension": ".py",
   "mimetype": "text/x-python",
   "name": "python",
   "nbconvert_exporter": "python",
   "pygments_lexer": "ipython3",
   "version": "3.8.5"
  }
 },
 "nbformat": 4,
 "nbformat_minor": 4
}
