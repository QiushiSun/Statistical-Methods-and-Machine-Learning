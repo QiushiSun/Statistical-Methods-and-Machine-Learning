{
 "cells": [
  {
   "cell_type": "markdown",
   "metadata": {},
   "source": [
    "# 统计方法与机器学习 Project2：基于Naive Bayes算法的文本分类（代码部分）\n"
   ]
  },
  {
   "cell_type": "markdown",
   "metadata": {},
   "source": [
    "## 准备工作"
   ]
  },
  {
   "cell_type": "code",
   "execution_count": 76,
   "metadata": {
    "ExecuteTime": {
     "end_time": "2020-06-26T12:47:24.089898Z",
     "start_time": "2020-06-26T12:47:24.086753Z"
    }
   },
   "outputs": [],
   "source": [
    "import numpy as np\n",
    "import re\n",
    "import random\n",
    "import pandas as pd"
   ]
  },
  {
   "cell_type": "markdown",
   "metadata": {},
   "source": [
    "先导入一些基本的python库"
   ]
  },
  {
   "cell_type": "code",
   "execution_count": 77,
   "metadata": {},
   "outputs": [],
   "source": [
    "from sklearn.datasets import fetch_20newsgroups # 也可以加载在本地\n",
    "from sklearn.model_selection import train_test_split # 导入文本特征向量转化模块\n",
    "from sklearn.feature_extraction.text import CountVectorizer\n",
    "from sklearn.naive_bayes import MultinomialNB # 导入朴素贝叶斯模型\n",
    "from sklearn.metrics import classification_report # 模型评估模块"
   ]
  },
  {
   "cell_type": "markdown",
   "metadata": {},
   "source": [
    "分别导入数据集，embedding模块，朴素贝叶斯和模型评估"
   ]
  },
  {
   "cell_type": "code",
   "execution_count": 78,
   "metadata": {},
   "outputs": [],
   "source": [
    "import matplotlib.pyplot as plt\n",
    "import seaborn as sns\n",
    "plt.rcParams['figure.figsize'] = (10.0, 8.0)"
   ]
  },
  {
   "cell_type": "markdown",
   "metadata": {},
   "source": [
    "准备可视化工具"
   ]
  },
  {
   "cell_type": "markdown",
   "metadata": {},
   "source": [
    "以下为手动实现的朴素贝叶斯方法供参考和算法原理解释，实际运用时为了方便得到评估精度和报告，依然是采取了sklearn库中的算法，所以如果单纯是想得到分类结果可以跳过以下部分"
   ]
  },
  {
   "cell_type": "markdown",
   "metadata": {},
   "source": [
    "## 朴素贝叶斯算法（手动）"
   ]
  },
  {
   "cell_type": "code",
   "execution_count": 79,
   "metadata": {
    "ExecuteTime": {
     "end_time": "2020-06-26T12:47:24.848723Z",
     "start_time": "2020-06-26T12:47:24.844724Z"
    }
   },
   "outputs": [],
   "source": [
    "def createVocabList(dataSet):#所有词的词典\n",
    "    vocabSet = set([])  \n",
    "    for document in dataSet:\n",
    "        vocabSet = vocabSet | set(document) \n",
    "        # 文本与词表的Union\n",
    "    return list(vocabSet)"
   ]
  },
  {
   "cell_type": "code",
   "execution_count": 80,
   "metadata": {
    "ExecuteTime": {
     "end_time": "2020-06-26T12:47:25.508813Z",
     "start_time": "2020-06-26T12:47:25.504959Z"
    }
   },
   "outputs": [],
   "source": [
    "def setOfWords2Vec(vocabList, inputSet):\n",
    "    #输入参数为词汇表和某个文档，输出文档向量，向量每个元素是1或0代表在词汇表中是否出现\n",
    "    returnVec = [0]*len(vocabList)\n",
    "    for word in inputSet:\n",
    "        if word in vocabList:\n",
    "            returnVec[vocabList.index(word)] = 1\n",
    "        else: print(\"the word: %s is not in my Vocabulary!\" % word)\n",
    "    return returnVec"
   ]
  },
  {
   "cell_type": "code",
   "execution_count": 81,
   "metadata": {
    "ExecuteTime": {
     "end_time": "2020-06-26T12:47:25.816128Z",
     "start_time": "2020-06-26T12:47:25.811140Z"
    }
   },
   "outputs": [],
   "source": [
    "def bagOfWords2VecMN(vocabList, inputSet):\n",
    "    # bagOfwords模型->vectorize\n",
    "    returnVec = [0]*len(vocabList)\n",
    "    for word in inputSet:\n",
    "        if word in vocabList:\n",
    "            returnVec[vocabList.index(word)] += 1\n",
    "    return returnVec"
   ]
  },
  {
   "cell_type": "code",
   "execution_count": 82,
   "metadata": {
    "ExecuteTime": {
     "end_time": "2020-06-26T12:47:26.137268Z",
     "start_time": "2020-06-26T12:47:26.130287Z"
    }
   },
   "outputs": [],
   "source": [
    "def NaiveBayes_Train(trainMatrix, trainCategory):\n",
    "    numTrainDocs = len(trainMatrix)\n",
    "    numWords = len(trainMatrix[0])\n",
    "    pAbusive = sum(trainCategory)/float(numTrainDocs)\n",
    "    p0Num = np.ones(numWords); p1Num = np.ones(numWords)     \n",
    "    p0Denom = 2.0; p1Denom = 2.0                   \n",
    "    for i in range(numTrainDocs):\n",
    "        if trainCategory[i] == 1:\n",
    "            p1Num += trainMatrix[i]\n",
    "            p1Denom += sum(trainMatrix[i])\n",
    "        else:\n",
    "            p0Num += trainMatrix[i]\n",
    "            p0Denom += sum(trainMatrix[i])\n",
    "    p1Vect = np.log(p1Num/p1Denom)          #change to np.log()\n",
    "    p0Vect = np.log(p0Num/p0Denom)          \n",
    "    return p0Vect, p1Vect, pAbusive"
   ]
  },
  {
   "cell_type": "code",
   "execution_count": 83,
   "metadata": {
    "ExecuteTime": {
     "end_time": "2020-06-26T12:47:26.758607Z",
     "start_time": "2020-06-26T12:47:26.754619Z"
    }
   },
   "outputs": [],
   "source": [
    "def NaiveBayes_Classify(vec2Classify, p0Vec, p1Vec, pClass1):\n",
    "    p1 = sum(vec2Classify * p1Vec) + np.log(pClass1)   \n",
    "    # 逐元素\n",
    "    p0 = sum(vec2Classify * p0Vec) + np.log(1.0 - pClass1)\n",
    "    if p1 > p0:\n",
    "        return 1\n",
    "    else:\n",
    "        return 0"
   ]
  },
  {
   "cell_type": "code",
   "execution_count": 84,
   "metadata": {
    "ExecuteTime": {
     "end_time": "2020-06-26T12:47:27.550520Z",
     "start_time": "2020-06-26T12:47:27.546517Z"
    }
   },
   "outputs": [],
   "source": [
    "def textParse(bigString):    \n",
    "    # 解析输入的文本\n",
    "    listOfTokens = re.split(r'\\W+', bigString)\n",
    "    return [tok.lower() for tok in listOfTokens if len(tok) > 2]"
   ]
  },
  {
   "cell_type": "code",
   "execution_count": 13,
   "metadata": {
    "ExecuteTime": {
     "end_time": "2020-06-26T13:40:57.307072Z",
     "start_time": "2020-06-26T13:40:57.205369Z"
    }
   },
   "outputs": [],
   "source": [
    "news = fetch_20newsgroups(subset=\"all\")"
   ]
  },
  {
   "cell_type": "code",
   "execution_count": 14,
   "metadata": {
    "ExecuteTime": {
     "end_time": "2020-06-26T13:41:04.348907Z",
     "start_time": "2020-06-26T13:41:04.341926Z"
    }
   },
   "outputs": [
    {
     "data": {
      "text/plain": [
       "array([10,  3, 17, ...,  3,  1,  7])"
      ]
     },
     "execution_count": 14,
     "metadata": {},
     "output_type": "execute_result"
    }
   ],
   "source": [
    "news.target"
   ]
  },
  {
   "cell_type": "markdown",
   "metadata": {},
   "source": [
    "## 调用朴素贝叶斯算法"
   ]
  },
  {
   "cell_type": "code",
   "execution_count": 15,
   "metadata": {
    "ExecuteTime": {
     "end_time": "2020-06-26T14:39:50.557929Z",
     "start_time": "2020-06-26T14:39:50.543964Z"
    }
   },
   "outputs": [],
   "source": [
    "x_train, x_test, y_train, y_test = train_test_split(news.data,news.target,test_size=0.25,random_state=3)"
   ]
  },
  {
   "cell_type": "code",
   "execution_count": 16,
   "metadata": {
    "ExecuteTime": {
     "end_time": "2020-06-26T13:39:35.877411Z",
     "start_time": "2020-06-26T13:39:28.836076Z"
    }
   },
   "outputs": [
    {
     "name": "stdout",
     "output_type": "stream",
     "text": [
      "Accuracy: 0.8554753820033956\n",
      "Indicators：\n",
      "                           precision    recall  f1-score   support\n",
      "\n",
      "             alt.atheism       0.83      0.88      0.85       194\n",
      "           comp.graphics       0.66      0.88      0.76       245\n",
      " comp.os.ms-windows.misc       0.84      0.16      0.27       253\n",
      "comp.sys.ibm.pc.hardware       0.65      0.83      0.73       245\n",
      "   comp.sys.mac.hardware       0.87      0.84      0.86       225\n",
      "          comp.windows.x       0.72      0.90      0.80       255\n",
      "            misc.forsale       0.94      0.75      0.84       258\n",
      "               rec.autos       0.90      0.90      0.90       230\n",
      "         rec.motorcycles       0.96      0.96      0.96       243\n",
      "      rec.sport.baseball       0.97      0.95      0.96       242\n",
      "        rec.sport.hockey       0.97      0.97      0.97       251\n",
      "               sci.crypt       0.87      0.97      0.92       271\n",
      "         sci.electronics       0.89      0.85      0.87       249\n",
      "                 sci.med       0.93      0.93      0.93       232\n",
      "               sci.space       0.94      0.95      0.95       256\n",
      "  soc.religion.christian       0.83      0.95      0.88       241\n",
      "      talk.politics.guns       0.90      0.94      0.92       236\n",
      "   talk.politics.mideast       0.93      0.99      0.96       252\n",
      "      talk.politics.misc       0.79      0.87      0.83       188\n",
      "      talk.religion.misc       0.94      0.52      0.67       146\n",
      "\n",
      "                accuracy                           0.86      4712\n",
      "               macro avg       0.87      0.85      0.84      4712\n",
      "            weighted avg       0.87      0.86      0.84      4712\n",
      "\n"
     ]
    }
   ],
   "source": [
    "#3 贝叶斯分类器对新闻进行预测\n",
    "# 进行文本转化为特征\n",
    "vec = CountVectorizer()\n",
    "x_train = vec.fit_transform(x_train)\n",
    "x_test = vec.transform(x_test)\n",
    "# 初始化朴素贝叶斯模型\n",
    "mnb = MultinomialNB()\n",
    "# 训练集合上进行训练， 估计参数\n",
    "mnb.fit(x_train, y_train)\n",
    "# 对测试集合进行预测 保存预测结果\n",
    "y_predict = mnb.predict(x_test)\n",
    "#模型评估\n",
    "print(\"Accuracy:\", mnb.score(x_test, y_test))\n",
    "print(\"Indicators：\\n\",classification_report(y_test, y_predict, target_names=news.target_names))"
   ]
  },
  {
   "cell_type": "markdown",
   "metadata": {},
   "source": [
    "## 朴素贝叶斯算法的交叉验证"
   ]
  },
  {
   "cell_type": "markdown",
   "metadata": {},
   "source": [
    "接下来实现交叉验证，获取最优的超参数lambda（拉普拉斯平滑因子），即使这是统计机器学习算法也比较耗时，所以现在的深度学习任务中一般不做Cross Validation"
   ]
  },
  {
   "cell_type": "code",
   "execution_count": 45,
   "metadata": {},
   "outputs": [
    {
     "name": "stdout",
     "output_type": "stream",
     "text": [
      "validation accuracy: 0.8872679045092838 fold 1 lambda= 0.0001\n",
      "validation accuracy: 0.8968169761273209 fold 2 lambda= 0.0001\n",
      "validation accuracy: 0.8978779840848806 fold 3 lambda= 0.0001\n",
      "validation accuracy: 0.8917771883289125 fold 4 lambda= 0.0001\n",
      "validation accuracy: 0.9013262599469496 fold 5 lambda= 0.0001\n",
      "lambda: 0.0001 accuracy: 0.8950132625994695\n",
      "validation accuracy: 0.8970822281167109 fold 1 lambda= 0.001\n",
      "validation accuracy: 0.8938992042440318 fold 2 lambda= 0.001\n",
      "validation accuracy: 0.8909814323607427 fold 3 lambda= 0.001\n",
      "validation accuracy: 0.8986737400530505 fold 4 lambda= 0.001\n",
      "validation accuracy: 0.8856763925729443 fold 5 lambda= 0.001\n",
      "lambda: 0.001 accuracy: 0.893262599469496\n",
      "validation accuracy: 0.8809018567639257 fold 1 lambda= 0.01\n",
      "validation accuracy: 0.9021220159151193 fold 2 lambda= 0.01\n",
      "validation accuracy: 0.8896551724137931 fold 3 lambda= 0.01\n",
      "validation accuracy: 0.8827586206896552 fold 4 lambda= 0.01\n",
      "validation accuracy: 0.8827586206896552 fold 5 lambda= 0.01\n",
      "lambda: 0.01 accuracy: 0.8876392572944297\n",
      "validation accuracy: 0.8917771883289125 fold 1 lambda= 0.05\n",
      "validation accuracy: 0.879840848806366 fold 2 lambda= 0.05\n",
      "validation accuracy: 0.8883289124668435 fold 3 lambda= 0.05\n",
      "validation accuracy: 0.8838196286472149 fold 4 lambda= 0.05\n",
      "validation accuracy: 0.8771883289124669 fold 5 lambda= 0.05\n",
      "lambda: 0.05 accuracy: 0.8841909814323607\n",
      "validation accuracy: 0.8824933687002653 fold 1 lambda= 0.125\n",
      "validation accuracy: 0.8713527851458885 fold 2 lambda= 0.125\n",
      "validation accuracy: 0.8822281167108753 fold 3 lambda= 0.125\n",
      "validation accuracy: 0.8907161803713528 fold 4 lambda= 0.125\n",
      "validation accuracy: 0.8925729442970822 fold 5 lambda= 0.125\n",
      "lambda: 0.125 accuracy: 0.8838726790450927\n",
      "validation accuracy: 0.8777188328912466 fold 1 lambda= 0.25\n",
      "validation accuracy: 0.8663129973474801 fold 2 lambda= 0.25\n",
      "validation accuracy: 0.8647214854111406 fold 3 lambda= 0.25\n",
      "validation accuracy: 0.8777188328912466 fold 4 lambda= 0.25\n",
      "validation accuracy: 0.8729442970822281 fold 5 lambda= 0.25\n",
      "lambda: 0.25 accuracy: 0.8718832891246684\n",
      "validation accuracy: 0.863129973474801 fold 1 lambda= 0.5\n",
      "validation accuracy: 0.8663129973474801 fold 2 lambda= 0.5\n",
      "validation accuracy: 0.8755968169761273 fold 3 lambda= 0.5\n",
      "validation accuracy: 0.8713527851458885 fold 4 lambda= 0.5\n",
      "validation accuracy: 0.8769230769230769 fold 5 lambda= 0.5\n",
      "lambda: 0.5 accuracy: 0.8706631299734748\n",
      "validation accuracy: 0.8580901856763926 fold 1 lambda= 0.75\n",
      "validation accuracy: 0.8684350132625994 fold 2 lambda= 0.75\n",
      "validation accuracy: 0.8610079575596817 fold 3 lambda= 0.75\n",
      "validation accuracy: 0.8647214854111406 fold 4 lambda= 0.75\n",
      "validation accuracy: 0.8639257294429709 fold 5 lambda= 0.75\n",
      "lambda: 0.75 accuracy: 0.863236074270557\n",
      "validation accuracy: 0.8586206896551725 fold 1 lambda= 1\n",
      "validation accuracy: 0.8580901856763926 fold 2 lambda= 1\n",
      "validation accuracy: 0.8511936339522547 fold 3 lambda= 1\n",
      "validation accuracy: 0.8586206896551725 fold 4 lambda= 1\n",
      "validation accuracy: 0.853315649867374 fold 5 lambda= 1\n",
      "lambda: 1 accuracy: 0.8559681697612731\n",
      "validation accuracy: 0.8137931034482758 fold 1 lambda= 2\n",
      "validation accuracy: 0.8084880636604774 fold 2 lambda= 2\n",
      "validation accuracy: 0.806631299734748 fold 3 lambda= 2\n",
      "validation accuracy: 0.8193633952254642 fold 4 lambda= 2\n",
      "validation accuracy: 0.8061007957559682 fold 5 lambda= 2\n",
      "lambda: 2 accuracy: 0.8108753315649867\n"
     ]
    }
   ],
   "source": [
    "# 交叉验证\n",
    "cross_validation_list= []\n",
    "lambda_list = [0.0001,0.001,0.01,0.05,0.125,0.25,0.5,0.75,1,2] #构造超参数搜索空间\n",
    "for hyper_param in lambda_list:\n",
    "    temp_acc = 0\n",
    "    temp_acc_list = []\n",
    "    for fold in range(0,5):\n",
    "        rand_state = random.randrange(0,100) #设置随机的随机状态\n",
    "        x_train, x_test, y_train, y_test = train_test_split(news.data,news.target,test_size=0.2,random_state=rand_state)\n",
    "        vec = CountVectorizer()\n",
    "        x_train = vec.fit_transform(x_train)\n",
    "        x_test = vec.transform(x_test)\n",
    "        # 初始化朴素贝叶斯模型\n",
    "        multinomial_naive_bayes = MultinomialNB(alpha=hyper_param)\n",
    "        # 训练集合上进行训练， 估计参数\n",
    "        multinomial_naive_bayes.fit(x_train, y_train)\n",
    "        # 对测试集合进行预测 保存预测结果\n",
    "        y_predict = multinomial_naive_bayes.predict(x_test)\n",
    "        fold_accuracy = multinomial_naive_bayes.score(x_test, y_test)\n",
    "        print(\"validation accuracy:\", fold_accuracy ,\"fold\",fold+1,\"lambda=\",hyper_param)\n",
    "        temp_acc+=fold_accuracy\n",
    "        temp_acc_list.append(fold_accuracy)\n",
    "    print(\"lambda:\",hyper_param,\"accuracy:\",temp_acc/5)\n",
    "    cross_validation_list.append(temp_acc_list)"
   ]
  },
  {
   "cell_type": "markdown",
   "metadata": {},
   "source": [
    "## 交叉验证结果的可视化"
   ]
  },
  {
   "cell_type": "markdown",
   "metadata": {},
   "source": [
    "**Remark：以下注释掉的内容纯粹是我为了导出数据到LaTeX，没有这个需求的话不需要下列被注释的步骤**"
   ]
  },
  {
   "cell_type": "code",
   "execution_count": 57,
   "metadata": {},
   "outputs": [],
   "source": [
    "# round_cv_list = cross_validation_list 要注意np的数组赋值后，内存中的变量是共享的，会影响到后续步骤，先做可视化吧"
   ]
  },
  {
   "cell_type": "code",
   "execution_count": 58,
   "metadata": {},
   "outputs": [],
   "source": [
    "# for k in round_cv_list:\n",
    "#     for i in range(0,5):\n",
    "#         k[i] = round(k[i],4)"
   ]
  },
  {
   "cell_type": "code",
   "execution_count": 59,
   "metadata": {},
   "outputs": [
    {
     "data": {
      "text/plain": [
       "[[0.892, 0.8976, 0.8894, 0.8971, 0.8944],\n",
       " [0.8944, 0.8987, 0.8966, 0.8814, 0.9011],\n",
       " [0.8881, 0.8979, 0.8923, 0.8748, 0.8926],\n",
       " [0.8836, 0.8782, 0.8825, 0.8918, 0.8798],\n",
       " [0.8878, 0.883, 0.8822, 0.8751, 0.8775],\n",
       " [0.8849, 0.8682, 0.8777, 0.8859, 0.8777],\n",
       " [0.8772, 0.8621, 0.8788, 0.8645, 0.8759],\n",
       " [0.8719, 0.8721, 0.8557, 0.8647, 0.866],\n",
       " [0.8456, 0.8605, 0.8615, 0.8525, 0.8493],\n",
       " [0.8146, 0.8194, 0.7992, 0.8016, 0.8212]]"
      ]
     },
     "execution_count": 59,
     "metadata": {},
     "output_type": "execute_result"
    }
   ],
   "source": [
    "# round_cv_list\n",
    "# 上述的步骤只是为舍入到小数点后四位，把他们存到csv，方便我导入latex罢了，没有这个需求可以不做"
   ]
  },
  {
   "cell_type": "code",
   "execution_count": 60,
   "metadata": {},
   "outputs": [],
   "source": [
    "# np.savetxt(\"cv_result.csv\", round_cv_list, delimiter=',')"
   ]
  },
  {
   "cell_type": "code",
   "execution_count": 61,
   "metadata": {},
   "outputs": [],
   "source": [
    "cv_mean=[] # 交叉验证得到的均值\n",
    "for lst in cross_validation_list:\n",
    "    cv_mean.append(np.mean(lst))"
   ]
  },
  {
   "cell_type": "code",
   "execution_count": 63,
   "metadata": {},
   "outputs": [],
   "source": [
    "# np.savetxt(\"cv_mean.csv\", cv_mean, delimiter=',') # 也是方便我导入latex罢了，没有这个需求可以不做"
   ]
  },
  {
   "cell_type": "code",
   "execution_count": 74,
   "metadata": {},
   "outputs": [
    {
     "data": {
      "image/png": "[encoded data removed]",
      "text/plain": [
       "<Figure size 720x288 with 1 Axes>"
      ]
     },
     "metadata": {},
     "output_type": "display_data"
    }
   ],
   "source": [
    "df = pd.DataFrame()\n",
    "df['Lambda'] = lambda_list\n",
    "df['Classification Accuracy'] =  cv_mean\n",
    "plt.figure(figsize=(10, 4))\n",
    "plt.ylim((0.5,1))\n",
    "my_y_ticks = np.arange(0.5,1,0.05)\n",
    "plt.yticks(my_y_ticks)\n",
    "p1=sns.barplot( data=df, x='Lambda', y='Classification Accuracy',palette=\"Blues_d\")\n",
    "plt.show()\n",
    "#我觉得seaborn制图的默认效果比matplotlib好看些"
   ]
  },
  {
   "cell_type": "code",
   "execution_count": 19,
   "metadata": {},
   "outputs": [],
   "source": [
    "err_plot_data_dict = dict(zip(lambda_list,cross_validation_list)) # 制作字典，用于数据可视化"
   ]
  },
  {
   "cell_type": "code",
   "execution_count": 20,
   "metadata": {},
   "outputs": [],
   "source": [
    "k_to_accuracies=err_plot_data_dict\n",
    "k_choices = lambda_list"
   ]
  },
  {
   "cell_type": "code",
   "execution_count": 25,
   "metadata": {},
   "outputs": [
    {
     "data": {
      "image/png": "[encoded data removed]",
      "text/plain": [
       "<Figure size 1152x504 with 1 Axes>"
      ]
     },
     "metadata": {},
     "output_type": "display_data"
    }
   ],
   "source": [
    "plt.rcParams['figure.figsize'] = (16.0, 7.0)\n",
    "for k in k_choices:\n",
    "    accuracies = k_to_accuracies[k]\n",
    "    plt.scatter([k] * len(accuracies), accuracies)\n",
    "plt.style.use('ggplot')\n",
    "# plot the trend line with error bars that correspond to standard deviation\n",
    "accuracies_mean = np.array([np.mean(v) for k,v in sorted(k_to_accuracies.items())])\n",
    "accuracies_std = np.array([np.std(v) for k,v in sorted(k_to_accuracies.items())])\n",
    "plt.errorbar(k_choices, accuracies_mean, yerr=accuracies_std,ecolor='royalblue')\n",
    "my_x_ticks = np.arange(0,2.1,0.1)\n",
    "plt.xticks(my_x_ticks)\n",
    "plt.title('5-Fold Cross-validation on lambda')\n",
    "plt.xlabel('lambda')\n",
    "plt.ylabel('Cross-validation accuracy')\n",
    "plt.show()"
   ]
  },
  {
   "cell_type": "markdown",
   "metadata": {},
   "source": [
    "## 选取最优模型参数"
   ]
  },
  {
   "cell_type": "code",
   "execution_count": 93,
   "metadata": {},
   "outputs": [],
   "source": [
    "x_train, x_test, y_train, y_test = train_test_split(news.data,news.target,test_size=0.15,random_state=1) # 切分训练集和测试集"
   ]
  },
  {
   "cell_type": "code",
   "execution_count": 94,
   "metadata": {},
   "outputs": [
    {
     "name": "stdout",
     "output_type": "stream",
     "text": [
      "Accuracy: 0.8878669968164131\n",
      "Indicators：\n",
      "                           precision    recall  f1-score   support\n",
      "\n",
      "             alt.atheism       0.90      0.93      0.92       122\n",
      "           comp.graphics       0.73      0.84      0.78       144\n",
      " comp.os.ms-windows.misc       0.95      0.48      0.64       152\n",
      "comp.sys.ibm.pc.hardware       0.69      0.90      0.78       158\n",
      "   comp.sys.mac.hardware       0.85      0.85      0.85       144\n",
      "          comp.windows.x       0.85      0.86      0.85       146\n",
      "            misc.forsale       0.86      0.75      0.80       146\n",
      "               rec.autos       0.92      0.92      0.92       153\n",
      "         rec.motorcycles       0.98      0.98      0.98       155\n",
      "      rec.sport.baseball       0.98      0.96      0.97       148\n",
      "        rec.sport.hockey       0.98      0.99      0.98       175\n",
      "               sci.crypt       0.90      0.98      0.94       153\n",
      "         sci.electronics       0.80      0.86      0.83       127\n",
      "                 sci.med       0.92      0.93      0.92       135\n",
      "               sci.space       0.94      0.94      0.94       147\n",
      "  soc.religion.christian       0.97      0.93      0.95       164\n",
      "      talk.politics.guns       0.90      0.93      0.91       138\n",
      "   talk.politics.mideast       0.99      0.99      0.99       140\n",
      "      talk.politics.misc       0.88      0.89      0.89       113\n",
      "      talk.religion.misc       0.83      0.78      0.80        67\n",
      "\n",
      "                accuracy                           0.89      2827\n",
      "               macro avg       0.89      0.88      0.88      2827\n",
      "            weighted avg       0.89      0.89      0.89      2827\n",
      "\n"
     ]
    }
   ],
   "source": [
    "#3 贝叶斯分类器对新闻进行预测\n",
    "# 进行文本转化为特征\n",
    "vec = CountVectorizer()\n",
    "x_train = vec.fit_transform(x_train)\n",
    "x_test = vec.transform(x_test)\n",
    "# 初始化朴素贝叶斯模型\n",
    "mnb = MultinomialNB(alpha=0.0001)\n",
    "# 训练集合上进行训练， 估计参数\n",
    "mnb.fit(x_train, y_train)\n",
    "# 对测试集合进行预测 保存预测结果\n",
    "y_predict = mnb.predict(x_test)\n",
    "#模型评估\n",
    "print(\"Accuracy:\", mnb.score(x_test, y_test))\n",
    "print(\"Indicators：\\n\",classification_report(y_test, y_predict, target_names=news.target_names))"
   ]
  },
  {
   "cell_type": "markdown",
   "metadata": {
    "pycharm": {
     "name": "#%% md\n"
    }
   },
   "source": [
    "20分类问题准确率接近了0.9，这体现出了朴素贝叶斯模型的有效性。而对Laplacian Smoothing的分析中可见平化程度越小，文本分类准确率越高（越逼近理论最优值）。\n"
   ]
  }
 ],
 "metadata": {
  "kernelspec": {
   "display_name": "Python 3",
   "language": "python",
   "name": "python3"
  },
  "language_info": {
   "codemirror_mode": {
    "name": "ipython",
    "version": 3
   },
   "file_extension": ".py",
   "mimetype": "text/x-python",
   "name": "python",
   "nbconvert_exporter": "python",
   "pygments_lexer": "ipython3",
   "version": "3.8.5"
  },
  "latex_envs": {
   "LaTeX_envs_menu_present": true,
   "autoclose": false,
   "autocomplete": true,
   "bibliofile": "biblio.bib",
   "cite_by": "apalike",
   "current_citInitial": 1,
   "eqLabelWithNumbers": true,
   "eqNumInitial": 1,
   "hotkeys": {
    "equation": "Ctrl-E",
    "itemize": "Ctrl-I"
   },
   "labels_anchors": false,
   "latex_user_defs": false,
   "report_style_numbering": false,
   "user_envs_cfg": false
  },
  "nbTranslate": {
   "displayLangs": [
    "*"
   ],
   "hotkey": "alt-t",
   "langInMainMenu": true,
   "sourceLang": "en",
   "targetLang": "fr",
   "useGoogleTranslate": true
  },
  "toc": {
   "base_numbering": 1,
   "nav_menu": {},
   "number_sections": true,
   "sideBar": true,
   "skip_h1_title": false,
   "title_cell": "Table of Contents",
   "title_sidebar": "Contents",
   "toc_cell": false,
   "toc_position": {},
   "toc_section_display": true,
   "toc_window_display": false
  },
  "varInspector": {
   "cols": {
    "lenName": 16,
    "lenType": 16,
    "lenVar": 40
   },
   "kernels_config": {
    "python": {
     "delete_cmd_postfix": "",
     "delete_cmd_prefix": "del ",
     "library": "var_list.py",
     "varRefreshCmd": "print(var_dic_list())"
    },
    "r": {
     "delete_cmd_postfix": ") ",
     "delete_cmd_prefix": "rm(",
     "library": "var_list.r",
     "varRefreshCmd": "cat(var_dic_list()) "
    }
   },
   "types_to_exclude": [
    "module",
    "function",
    "builtin_function_or_method",
    "instance",
    "_Feature"
   ],
   "window_display": false
  }
 },
 "nbformat": 4,
 "nbformat_minor": 4
}