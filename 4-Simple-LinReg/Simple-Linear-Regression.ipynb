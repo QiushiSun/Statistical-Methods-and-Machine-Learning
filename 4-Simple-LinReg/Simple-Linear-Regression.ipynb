{
 "cells": [
  {
   "cell_type": "markdown",
   "metadata": {},
   "source": [
    "# Statistical-Methods Homework4: Simple Linear Regression（简单线性回归）\n",
    "\n",
    "\n",
    "## 背景描述\n",
    "考虑一个检验纸制品性能的案例：为了研究纸制品的**抗拉强度**与**纸浆中硬木的含量**有关。在试验工厂生产了10个样品。"
   ]
  },
  {
   "cell_type": "markdown",
   "metadata": {},
   "source": [
    "## 数据描述\n",
    "| 变量名 | 变量含义 | 变量类型 | 变量取值范围 |\n",
    "| :----------: | :--------: | :----------: | :----------: |\n",
    "| （自变量）Hardwood | 纸张硬木含量 | discrete variable | $\\mathbb{Z}^+$ |\n",
    "| （因变量）Strength | 抗拉强度 | continuous variable | $\\mathbb{R}$ |"
   ]
  },
  {
   "cell_type": "markdown",
   "metadata": {},
   "source": [
    "#### Tasks:\n",
    "1. 请用统计模型描述**纸浆中硬木的含量**与纸制品的**抗拉强度**的关系.\n",
    "2. 请问Q1中所建立的模型是否合理.\n",
    "3. 如果需要纸制品的**抗拉强度**为 18，请给出一个合理区间，预测纸浆中硬木的含量应为多少."
   ]
  },
  {
   "cell_type": "code",
   "execution_count": 53,
   "metadata": {},
   "outputs": [],
   "source": [
    "# Import standard packages\n",
    "import numpy as np\n",
    "import pandas as pd\n",
    "import scipy.stats as stats\n",
    "import matplotlib.pyplot as plt\n",
    "import math"
   ]
  },
  {
   "cell_type": "code",
   "execution_count": 54,
   "metadata": {},
   "outputs": [
    {
     "name": "stdout",
     "output_type": "stream",
     "text": [
      "Data: \n",
      "\n"
     ]
    },
    {
     "data": {
      "text/html": [
       "<div>\n",
       "<style scoped>\n",
       "    .dataframe tbody tr th:only-of-type {\n",
       "        vertical-align: middle;\n",
       "    }\n",
       "\n",
       "    .dataframe tbody tr th {\n",
       "        vertical-align: top;\n",
       "    }\n",
       "\n",
       "    .dataframe thead th {\n",
       "        text-align: right;\n",
       "    }\n",
       "</style>\n",
       "<table border=\"1\" class=\"dataframe\">\n",
       "  <thead>\n",
       "    <tr style=\"text-align: right;\">\n",
       "      <th></th>\n",
       "      <th>Unnamed: 0</th>\n",
       "      <th>Hardwood</th>\n",
       "      <th>Strength</th>\n",
       "    </tr>\n",
       "  </thead>\n",
       "  <tbody>\n",
       "    <tr>\n",
       "      <th>0</th>\n",
       "      <td>1</td>\n",
       "      <td>10</td>\n",
       "      <td>160</td>\n",
       "    </tr>\n",
       "    <tr>\n",
       "      <th>1</th>\n",
       "      <td>2</td>\n",
       "      <td>15</td>\n",
       "      <td>171</td>\n",
       "    </tr>\n",
       "    <tr>\n",
       "      <th>2</th>\n",
       "      <td>3</td>\n",
       "      <td>15</td>\n",
       "      <td>175</td>\n",
       "    </tr>\n",
       "    <tr>\n",
       "      <th>3</th>\n",
       "      <td>4</td>\n",
       "      <td>20</td>\n",
       "      <td>182</td>\n",
       "    </tr>\n",
       "    <tr>\n",
       "      <th>4</th>\n",
       "      <td>5</td>\n",
       "      <td>20</td>\n",
       "      <td>184</td>\n",
       "    </tr>\n",
       "    <tr>\n",
       "      <th>5</th>\n",
       "      <td>6</td>\n",
       "      <td>20</td>\n",
       "      <td>181</td>\n",
       "    </tr>\n",
       "    <tr>\n",
       "      <th>6</th>\n",
       "      <td>7</td>\n",
       "      <td>25</td>\n",
       "      <td>188</td>\n",
       "    </tr>\n",
       "    <tr>\n",
       "      <th>7</th>\n",
       "      <td>8</td>\n",
       "      <td>25</td>\n",
       "      <td>193</td>\n",
       "    </tr>\n",
       "    <tr>\n",
       "      <th>8</th>\n",
       "      <td>9</td>\n",
       "      <td>28</td>\n",
       "      <td>195</td>\n",
       "    </tr>\n",
       "    <tr>\n",
       "      <th>9</th>\n",
       "      <td>10</td>\n",
       "      <td>30</td>\n",
       "      <td>200</td>\n",
       "    </tr>\n",
       "  </tbody>\n",
       "</table>\n",
       "</div>"
      ],
      "text/plain": [
       "   Unnamed: 0  Hardwood  Strength\n",
       "0           1        10       160\n",
       "1           2        15       171\n",
       "2           3        15       175\n",
       "3           4        20       182\n",
       "4           5        20       184\n",
       "5           6        20       181\n",
       "6           7        25       188\n",
       "7           8        25       193\n",
       "8           9        28       195\n",
       "9          10        30       200"
      ]
     },
     "execution_count": 54,
     "metadata": {},
     "output_type": "execute_result"
    }
   ],
   "source": [
    "print('Data: \\n')\n",
    "pd.read_csv('Project4.csv')"
   ]
  },
  {
   "cell_type": "code",
   "execution_count": 55,
   "metadata": {},
   "outputs": [],
   "source": [
    "# Import stats package\n",
    "from statsmodels.formula.api import ols\n",
    "from statsmodels.stats.anova import anova_lm\n",
    "from scipy.stats import f\n",
    "from scipy.stats import t"
   ]
  },
  {
   "cell_type": "markdown",
   "metadata": {},
   "source": [
    "#### Solution for Question1"
   ]
  },
  {
   "cell_type": "markdown",
   "metadata": {},
   "source": [
    "本次实验中使用 $\\alpha=0.05$ 的水平"
   ]
  },
  {
   "cell_type": "code",
   "execution_count": 79,
   "metadata": {},
   "outputs": [
    {
     "name": "stdout",
     "output_type": "stream",
     "text": [
      "   Hardwood  Strength\n",
      "0        10       160\n",
      "1        15       171\n",
      "2        15       175\n",
      "3        20       182\n",
      "4        20       184\n",
      "\n",
      "\n",
      "35.76\n",
      "参数估计值: \n",
      " Intercept    143.8244\n",
      "Hardwood       1.8786\n",
      "dtype: float64\n"
     ]
    },
    {
     "name": "stderr",
     "output_type": "stream",
     "text": [
      "/Users/sunqiushi/opt/anaconda3/lib/python3.8/site-packages/scipy/stats/stats.py:1603: UserWarning: kurtosistest only valid for n>=20 ... continuing anyway, n=10\n",
      "  warnings.warn(\"kurtosistest only valid for n>=20 ... continuing \"\n"
     ]
    },
    {
     "data": {
      "text/html": [
       "<table class=\"simpletable\">\n",
       "<caption>OLS Regression Results</caption>\n",
       "<tr>\n",
       "  <th>Dep. Variable:</th>        <td>Strength</td>     <th>  R-squared:         </th> <td>   0.970</td>\n",
       "</tr>\n",
       "<tr>\n",
       "  <th>Model:</th>                   <td>OLS</td>       <th>  Adj. R-squared:    </th> <td>   0.966</td>\n",
       "</tr>\n",
       "<tr>\n",
       "  <th>Method:</th>             <td>Least Squares</td>  <th>  F-statistic:       </th> <td>   260.0</td>\n",
       "</tr>\n",
       "<tr>\n",
       "  <th>Date:</th>             <td>Mon, 29 Mar 2021</td> <th>  Prob (F-statistic):</th> <td>2.20e-07</td>\n",
       "</tr>\n",
       "<tr>\n",
       "  <th>Time:</th>                 <td>08:08:26</td>     <th>  Log-Likelihood:    </th> <td> -20.973</td>\n",
       "</tr>\n",
       "<tr>\n",
       "  <th>No. Observations:</th>      <td>    10</td>      <th>  AIC:               </th> <td>   45.95</td>\n",
       "</tr>\n",
       "<tr>\n",
       "  <th>Df Residuals:</th>          <td>     8</td>      <th>  BIC:               </th> <td>   46.55</td>\n",
       "</tr>\n",
       "<tr>\n",
       "  <th>Df Model:</th>              <td>     1</td>      <th>                     </th>     <td> </td>   \n",
       "</tr>\n",
       "<tr>\n",
       "  <th>Covariance Type:</th>      <td>nonrobust</td>    <th>                     </th>     <td> </td>   \n",
       "</tr>\n",
       "</table>\n",
       "<table class=\"simpletable\">\n",
       "<tr>\n",
       "      <td></td>         <th>coef</th>     <th>std err</th>      <th>t</th>      <th>P>|t|</th>  <th>[0.025</th>    <th>0.975]</th>  \n",
       "</tr>\n",
       "<tr>\n",
       "  <th>Intercept</th> <td>  143.8244</td> <td>    2.522</td> <td>   57.039</td> <td> 0.000</td> <td>  138.010</td> <td>  149.639</td>\n",
       "</tr>\n",
       "<tr>\n",
       "  <th>Hardwood</th>  <td>    1.8786</td> <td>    0.117</td> <td>   16.125</td> <td> 0.000</td> <td>    1.610</td> <td>    2.147</td>\n",
       "</tr>\n",
       "</table>\n",
       "<table class=\"simpletable\">\n",
       "<tr>\n",
       "  <th>Omnibus:</th>       <td> 1.211</td> <th>  Durbin-Watson:     </th> <td>   2.132</td>\n",
       "</tr>\n",
       "<tr>\n",
       "  <th>Prob(Omnibus):</th> <td> 0.546</td> <th>  Jarque-Bera (JB):  </th> <td>   0.701</td>\n",
       "</tr>\n",
       "<tr>\n",
       "  <th>Skew:</th>          <td> 0.157</td> <th>  Prob(JB):          </th> <td>   0.704</td>\n",
       "</tr>\n",
       "<tr>\n",
       "  <th>Kurtosis:</th>      <td> 1.742</td> <th>  Cond. No.          </th> <td>    78.5</td>\n",
       "</tr>\n",
       "</table><br/><br/>Notes:<br/>[1] Standard Errors assume that the covariance matrix of the errors is correctly specified."
      ],
      "text/plain": [
       "<class 'statsmodels.iolib.summary.Summary'>\n",
       "\"\"\"\n",
       "                            OLS Regression Results                            \n",
       "==============================================================================\n",
       "Dep. Variable:               Strength   R-squared:                       0.970\n",
       "Model:                            OLS   Adj. R-squared:                  0.966\n",
       "Method:                 Least Squares   F-statistic:                     260.0\n",
       "Date:                Mon, 29 Mar 2021   Prob (F-statistic):           2.20e-07\n",
       "Time:                        08:08:26   Log-Likelihood:                -20.973\n",
       "No. Observations:                  10   AIC:                             45.95\n",
       "Df Residuals:                       8   BIC:                             46.55\n",
       "Df Model:                           1                                         \n",
       "Covariance Type:            nonrobust                                         \n",
       "==============================================================================\n",
       "                 coef    std err          t      P>|t|      [0.025      0.975]\n",
       "------------------------------------------------------------------------------\n",
       "Intercept    143.8244      2.522     57.039      0.000     138.010     149.639\n",
       "Hardwood       1.8786      0.117     16.125      0.000       1.610       2.147\n",
       "==============================================================================\n",
       "Omnibus:                        1.211   Durbin-Watson:                   2.132\n",
       "Prob(Omnibus):                  0.546   Jarque-Bera (JB):                0.701\n",
       "Skew:                           0.157   Prob(JB):                        0.704\n",
       "Kurtosis:                       1.742   Cond. No.                         78.5\n",
       "==============================================================================\n",
       "\n",
       "Notes:\n",
       "[1] Standard Errors assume that the covariance matrix of the errors is correctly specified.\n",
       "\"\"\""
      ]
     },
     "execution_count": 79,
     "metadata": {},
     "output_type": "execute_result"
    }
   ],
   "source": [
    "alpha = 0.05\n",
    "n = 10\n",
    "\n",
    "x = pd.read_csv('Project4.csv')\n",
    "data = x.values[:,1:3]\n",
    "df = pd.DataFrame(data, columns = ['Hardwood', 'Strength'])\n",
    "print(df.head())\n",
    "print('\\n')\n",
    "print(np.var(data[:,0]))\n",
    "\n",
    "# Do the simple linear regression\n",
    "model = ols('Strength ~ Hardwood', df).fit()\n",
    "beta = model.params\n",
    "print('参数估计值: \\n', round(beta, 4))\n",
    "model.summary()"
   ]
  },
  {
   "cell_type": "code",
   "execution_count": 80,
   "metadata": {},
   "outputs": [
    {
     "name": "stdout",
     "output_type": "stream",
     "text": [
      "Strength_hat = 143.8244 + 1.8786 * hardwood\n"
     ]
    },
    {
     "data": {
      "image/png": "[encoded data removed]",
      "text/plain": [
       "<Figure size 432x288 with 1 Axes>"
      ]
     },
     "metadata": {
      "needs_background": "light"
     },
     "output_type": "display_data"
    }
   ],
   "source": [
    "# 输出一元线性回归方程\n",
    "print('Strength_hat =', round(beta[0], 4), '+', round(beta[1], 4), '* hardwood')\n",
    "\n",
    "# 画图\n",
    "x = data[:, 0]\n",
    "y = data[:, 1]\n",
    "Y = model.fittedvalues   # 预测值\n",
    "plt.scatter(x, y, c = 'blue', label='Strength') # 原始数据\n",
    "plt.plot(x, Y, 'red', label='Fit_Strength') # 拟合数据\n",
    "plt.title('Wood-Paper data: Scatter plot of Strength versus Hardwood. ')\n",
    "plt.xlabel('hardwood')\n",
    "plt.ylabel('strength')\n",
    "plt.show()"
   ]
  },
  {
   "cell_type": "markdown",
   "metadata": {},
   "source": [
    "由上述分析可知，该线性回归模型为：$Strength = 143.8244 + 1.8786 * Hardwood$"
   ]
  },
  {
   "cell_type": "markdown",
   "metadata": {},
   "source": [
    "#### Solution for Question2"
   ]
  },
  {
   "cell_type": "markdown",
   "metadata": {},
   "source": [
    "检验假设：$H_0: \\beta_1=0$ vs $H_1: \\beta_1 \\neq 0$"
   ]
  },
  {
   "cell_type": "markdown",
   "metadata": {},
   "source": [
    "以下进行三种检验，他们的有效性在一元线性回归模型下等价：\n",
    "1. F检验\n",
    "2. t检验\n",
    "3. 相关系数检验\n"
   ]
  },
  {
   "cell_type": "code",
   "execution_count": 81,
   "metadata": {},
   "outputs": [],
   "source": [
    "x_mean = np.mean(data[:,0])  # x mean\n",
    "y_mean = np.mean(data[:,1])  # y mean\n",
    "sigma2 = sum((y - beta[0] - beta[1] * x) ** 2) / (n - 2)  # variance\n",
    "sigma = np.sqrt(sigma2)  # standard deviation\n",
    "lxx = sum((x - np.mean(x)) ** 2)  # l_xx\n",
    "lyy = sum((y - np.mean(y)) ** 2)  # l_yy\n",
    "lxy = sum((x - np.mean(x)) * (y - np.mean(y)))  # l_xy"
   ]
  },
  {
   "cell_type": "markdown",
   "metadata": {},
   "source": [
    "**一元线性模型的显著性检验——F 检验:**"
   ]
  },
  {
   "cell_type": "code",
   "execution_count": 82,
   "metadata": {},
   "outputs": [
    {
     "name": "stdout",
     "output_type": "stream",
     "text": [
      "The ANOVA table: \n",
      "            df   sum_sq  mean_sq      F  PR(>F)\n",
      "Hardwood  1.0  1262.07  1262.07  260.0     0.0\n",
      "Residual  8.0    38.83     4.85    NaN     NaN\n"
     ]
    }
   ],
   "source": [
    "# 先使用F检验，打印ANOVA Table\n",
    "anova_results = round(anova_lm(model), 2)\n",
    "print('The ANOVA table: \\n', anova_results)"
   ]
  },
  {
   "cell_type": "code",
   "execution_count": 83,
   "metadata": {},
   "outputs": [
    {
     "name": "stdout",
     "output_type": "stream",
     "text": [
      "Since p-value < 0.05, reject H0.\n"
     ]
    }
   ],
   "source": [
    "# 法1：\n",
    "pVal1 = anova_results['PR(>F)'][0]\n",
    "\n",
    "if pVal1 < alpha:\n",
    "    print('Since p-value < 0.05, reject H0.')\n",
    "else:\n",
    "    print('Accept H0.') "
   ]
  },
  {
   "cell_type": "code",
   "execution_count": 84,
   "metadata": {},
   "outputs": [
    {
     "name": "stdout",
     "output_type": "stream",
     "text": [
      "Since F0 > F(0.95, 1, 8) =  5.32 , reject H0.\n"
     ]
    }
   ],
   "source": [
    "# 法2：\n",
    "F0 = anova_results['F'][0]\n",
    "F = round(f.ppf(1 - alpha, dfn = 1,dfd = n - 2), 2)\n",
    "if F0 > F:\n",
    "    print('Since F0 > F(0.95, 1, 8) = ', F, ', reject H0.')\n",
    "else:\n",
    "    print('Accept H0.') "
   ]
  },
  {
   "cell_type": "markdown",
   "metadata": {},
   "source": [
    "**一元线性模型的显著性检验——t 检验:**"
   ]
  },
  {
   "cell_type": "code",
   "execution_count": 85,
   "metadata": {},
   "outputs": [
    {
     "name": "stdout",
     "output_type": "stream",
     "text": [
      "t0 value =  16.1245\n",
      "t's crtitical value： 2.306\n",
      "P value=  0.0\n"
     ]
    }
   ],
   "source": [
    "# t 检验\n",
    "t0 = beta[1] * np.sqrt(lxx) / sigma # 求t 值\n",
    "print('t0 value = ', round(t0, 4))\n",
    "tVal = t.ppf(1 - alpha / 2, n - 2) # 分位点函数（CDF 的逆）\n",
    "print('t\\'s crtitical value：', round(tVal, 4))\n",
    "pVal2 = t.sf(t0, n - 2) # 用残存函数（1-CDF）求p 值\n",
    "# pVal2 = 1 - t.cdf(t0, n - 2)\n",
    "print('P value= ', round(pVal2, 4))"
   ]
  },
  {
   "cell_type": "code",
   "execution_count": 86,
   "metadata": {},
   "outputs": [
    {
     "name": "stdout",
     "output_type": "stream",
     "text": [
      "\n",
      "Since p-value < 0.05, reject H0.\n"
     ]
    }
   ],
   "source": [
    "# method 1 test p-value\n",
    "if pVal2 < alpha:\n",
    "    print ('\\nSince p-value < 0.05, reject H0.')\n",
    "else:\n",
    "    print('\\nAccept H0.')"
   ]
  },
  {
   "cell_type": "code",
   "execution_count": 87,
   "metadata": {},
   "outputs": [
    {
     "name": "stdout",
     "output_type": "stream",
     "text": [
      "Since t0 > t(0.975,8) =  2.306 , reject H0.\n"
     ]
    }
   ],
   "source": [
    "# method 2 test t：\n",
    "if abs(t0) > tVal:\n",
    "    print('Since t0 > t(0.975,8) = ', round(tVal, 4), ', reject H0.')\n",
    "else:\n",
    "    print('Accept H0.')"
   ]
  },
  {
   "cell_type": "markdown",
   "metadata": {},
   "source": [
    "**Correlation test**"
   ]
  },
  {
   "cell_type": "markdown",
   "metadata": {},
   "source": [
    "相关系数检验假设：$H_0: \\rho=0$ vs $H_1: \\rho \\neq 0$"
   ]
  },
  {
   "cell_type": "code",
   "execution_count": 88,
   "metadata": {},
   "outputs": [
    {
     "name": "stdout",
     "output_type": "stream",
     "text": [
      "Correlation= 0.985\n"
     ]
    }
   ],
   "source": [
    "# 进行相关系数检验\n",
    "# method1:使用相关系数公示\n",
    "r1 = lxy / np.sqrt(lxx * lyy)\n",
    "print('Correlation=', round(r1, 4))"
   ]
  },
  {
   "cell_type": "code",
   "execution_count": 89,
   "metadata": {},
   "outputs": [
    {
     "name": "stdout",
     "output_type": "stream",
     "text": [
      "Correlation:\n",
      "           Hardwood  Strength\n",
      "Hardwood     1.000     0.985\n",
      "Strength     0.985     1.000\n"
     ]
    }
   ],
   "source": [
    "# method2：pandas DataFrame.corr()\n",
    "r2 = df.corr()\n",
    "print('Correlation:\\n', round(r2, 4))"
   ]
  },
  {
   "cell_type": "code",
   "execution_count": 90,
   "metadata": {},
   "outputs": [
    {
     "name": "stdout",
     "output_type": "stream",
     "text": [
      "\n",
      "Since r > r(0.975, 12) =  0.632 , reject H0.\n"
     ]
    }
   ],
   "source": [
    "corrVal = np.sqrt(F/(F+(n-2)))\n",
    "if abs(r1) > corrVal:\n",
    "    print ('\\nSince r > r(0.975, 12) = ', round(corrVal, 4), ', reject H0.')\n",
    "else:\n",
    "    print('\\nAccept H0.')"
   ]
  },
  {
   "cell_type": "markdown",
   "metadata": {},
   "source": [
    "由上述分析可得，Q1中建立的模型是合理的"
   ]
  },
  {
   "cell_type": "markdown",
   "metadata": {},
   "source": [
    "接下来进行残差分析\n",
    "\n",
    "**残差分析0:计算抗拉强度残差**"
   ]
  },
  {
   "cell_type": "code",
   "execution_count": 91,
   "metadata": {},
   "outputs": [
    {
     "name": "stdout",
     "output_type": "stream",
     "text": [
      "   Hardwood  Strength\n",
      "0        10        -2\n",
      "1        15        -1\n",
      "2        15         2\n",
      "3        20         0\n",
      "4        20         2\n"
     ]
    }
   ],
   "source": [
    "# 计算抗拉强度的残差\n",
    "data_res = data * 1\n",
    "for i in range(n):\n",
    "    data_res[:,1] = y - Y\n",
    "df = pd.DataFrame(data_res, columns = ['Hardwood', 'Strength'])\n",
    "print(df.head())"
   ]
  },
  {
   "cell_type": "code",
   "execution_count": 92,
   "metadata": {},
   "outputs": [
    {
     "data": {
      "image/png": "[encoded data removed]",
      "text/plain": [
       "<Figure size 432x288 with 1 Axes>"
      ]
     },
     "metadata": {
      "needs_background": "light"
     },
     "output_type": "display_data"
    }
   ],
   "source": [
    "# 绘制残差的正态概率图\n",
    "res = data_res[:, 1]\n",
    "osm, osr = stats.probplot(res, dist = 'norm', plot = plt)\n",
    "plt.grid()\n",
    "plt.show()"
   ]
  },
  {
   "cell_type": "code",
   "execution_count": 93,
   "metadata": {},
   "outputs": [
    {
     "data": {
      "text/plain": [
       "Text(0, 0.5, '$e_i$')"
      ]
     },
     "execution_count": 93,
     "metadata": {},
     "output_type": "execute_result"
    },
    {
     "data": {
      "image/png": "[encoded data removed]",
      "text/plain": [
       "<Figure size 432x288 with 1 Axes>"
      ]
     },
     "metadata": {
      "needs_background": "light"
     },
     "output_type": "display_data"
    }
   ],
   "source": [
    "# 残差与预测值的关系图\n",
    "plt.scatter(data[:,1], res, c = 'red')\n",
    "plt.title('Plot of residuals versus $y_i$')\n",
    "plt.xlabel('$y_i$')\n",
    "plt.ylabel('$e_i$')"
   ]
  },
  {
   "cell_type": "markdown",
   "metadata": {},
   "source": [
    "从以上残差分析图可观察到，残差大致符合正态分布，通过残差与预测值关系图也可以看出残差与预测值之间没有明显的相关性。故认为Q1中建立的模型合理。"
   ]
  },
  {
   "cell_type": "markdown",
   "metadata": {},
   "source": [
    "#### Solution for Question3"
   ]
  },
  {
   "cell_type": "markdown",
   "metadata": {},
   "source": [
    "本题使用$E(y_0)$ 的估计，或单个样本$y_0$的预测区间作为抗拉强度的区间估计。"
   ]
  },
  {
   "cell_type": "markdown",
   "metadata": {},
   "source": [
    "**1. 关于 $E(y_0)$ 的估计:**"
   ]
  },
  {
   "cell_type": "code",
   "execution_count": 95,
   "metadata": {},
   "outputs": [
    {
     "name": "stdin",
     "output_type": "stream",
     "text": [
      "input x0 =  18\n"
     ]
    },
    {
     "name": "stdout",
     "output_type": "stream",
     "text": [
      "给定 x0 = 18, E(y_0) 的置信区间： [175.8658 179.4138]\n"
     ]
    }
   ],
   "source": [
    "# 给定 x_0，求 E(y_0) 的估计值\n",
    "def confidence_interval(x0):\n",
    "    Y0 = beta[0] + beta[1] * float(x0)\n",
    "    delta0 = tVal * sigma * np.sqrt(1 / n + (float(x0) - x_mean) ** 2 / lxx)\n",
    "    Y0_int = [Y0 - delta0, Y0 + delta0]\n",
    "    return Y0_int\n",
    "\n",
    "x_0 = input('input x0 = ')\n",
    "print('给定 x0 = %d, E(y_0) 的置信区间：'%int(x_0), np.round(confidence_interval(x_0), 4))"
   ]
  },
  {
   "cell_type": "markdown",
   "metadata": {},
   "source": [
    "**2. 关于 $y_0$ 的预测:**"
   ]
  },
  {
   "cell_type": "code",
   "execution_count": 96,
   "metadata": {},
   "outputs": [
    {
     "name": "stdin",
     "output_type": "stream",
     "text": [
      "input x00 =  18\n"
     ]
    },
    {
     "name": "stdout",
     "output_type": "stream",
     "text": [
      "给定 x = 18, y_0 的预测区间： [172.0546 183.225 ]\n"
     ]
    }
   ],
   "source": [
    "# 给定 x_0，求 y_0 的预测区间\n",
    "def confidence_interval(x0):\n",
    "    Y0 = beta[0] + beta[1] * float(x0)\n",
    "    delta1 = tVal * sigma * np.sqrt(1 + 1 / n + (float(x0) + x_mean)  / lxx)\n",
    "    Y0_int = [Y0 - delta1, Y0 + delta1]\n",
    "    return Y0_int\n",
    "\n",
    "\n",
    "x_00 = input('input x00 = ')\n",
    "print('给定 x = %d, y_0 的预测区间：'%int(x_00), np.round(confidence_interval(x0), 4))"
   ]
  },
  {
   "cell_type": "markdown",
   "metadata": {},
   "source": [
    "预测区间和置信区间是个比较重要的概念\n",
    "\n",
    "置信区间估计(Confidence interval estimate)：利用估计的回归方程，对于自变量 x 的一个给定值 $x_0$ ，求出因变量 y 的平均值的估计区间。\n"
   ]
  },
  {
   "cell_type": "markdown",
   "metadata": {},
   "source": [
    "预测区间估计(Prediction interval estimate)：利用估计的回归方程，对于自变量 x 的一个给定值 $x_0$ ，求出因变量 y 的一个个别值的估计区间。"
   ]
  },
  {
   "cell_type": "markdown",
   "metadata": {},
   "source": [
    "从二者的计算公式上来看，也能看出预测区间的长度要大于置信区间\n",
    "\n",
    "预测区间：\n",
    "\n",
    "$$\n",
    "(\\hat{y}_{f}-t_{\\alpha/2}*\\sqrt{(1+\\frac{1}{n}+\\frac{x_{f}-\\bar{x}}{\\sum_{i=1}^{n}\\left(x_{i}-\\bar{x}\\right)^{2}})\\sigma^{2}},\\hat{y}_{f}+t_{\\alpha/2}*\\sqrt{(1+\\frac{1}{n}+\\frac{x_{f}-\\bar{x}}{\\sum_{i=1}^{n}\\left(x_{i}-\\bar{x}\\right)^{2}})\\sigma^{2}}$$\n",
    "\n",
    "置信区间：\n",
    "\n",
    "$$\n",
    "(\\hat{y}_{f}-t_{\\alpha/2}*\\sqrt{(\\frac{1}{n}+\\frac{x_{f}-\\bar{x}}{\\sum_{i=1}^{n}\\left(x_{i}-\\bar{x}\\right)^{2}})\\sigma^{2}},\\hat{y}_{f}+t_{\\alpha/2}*\\sqrt{(\\frac{1}{n}+\\frac{x_{f}-\\bar{x}}{\\sum_{i=1}^{n}\\left(x_{i}-\\bar{x}\\right)^{2}})\\sigma^{2}}$$"
   ]
  },
  {
   "cell_type": "markdown",
   "metadata": {},
   "source": [
    "可以看出，根号下的“1”是差异的源头"
   ]
  },
  {
   "cell_type": "markdown",
   "metadata": {},
   "source": [
    "**End of Homework4**"
   ]
  }
 ],
 "metadata": {
  "kernelspec": {
   "display_name": "Python 3",
   "language": "python",
   "name": "python3"
  },
  "language_info": {
   "codemirror_mode": {
    "name": "ipython",
    "version": 3
   },
   "file_extension": ".py",
   "mimetype": "text/x-python",
   "name": "python",
   "nbconvert_exporter": "python",
   "pygments_lexer": "ipython3",
   "version": "3.8.5"
  }
 },
 "nbformat": 4,
 "nbformat_minor": 4
}