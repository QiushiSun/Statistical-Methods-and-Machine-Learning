{
 "cells": [
  {
   "cell_type": "markdown",
   "metadata": {},
   "source": [
    "# Homework6 Code\n",
    "\n"
   ]
  },
  {
   "cell_type": "markdown",
   "metadata": {},
   "source": [
    "使用维特比算法求解最优路径\n",
    "\n",
    "给定盒子和球组成的隐马尔可夫模型 $\\lambda=(A, B, \\pi)$ ，其中，\n",
    "$$\n",
    "A=\\left[\\begin{array}{lll}\n",
    "0.5 & 0.2 & 0.3 \\\\\n",
    "0.3 & 0.5 & 0.2 \\\\\n",
    "0.2 & 0.3 & 0.5\n",
    "\\end{array}\\right], \\quad B=\\left[\\begin{array}{ll}\n",
    "0.5 & 0.5 \\\\\n",
    "0.4 & 0.6 \\\\\n",
    "0.7 & 0.3\n",
    "\\end{array}\\right], \\quad \\pi=(0.2,0.4,0.4)^{\\mathrm{T}}\n",
    "$$\n",
    "设 $T=4, O=(red,white,red,white)$."
   ]
  },
  {
   "cell_type": "markdown",
   "metadata": {},
   "source": [
    "编程验证Homework6计算的正确性"
   ]
  },
  {
   "cell_type": "code",
   "execution_count": 6,
   "metadata": {},
   "outputs": [],
   "source": [
    "import numpy as np"
   ]
  },
  {
   "cell_type": "code",
   "execution_count": 12,
   "metadata": {},
   "outputs": [],
   "source": [
    "class Viterbi: \n",
    "    def viterbi_alg(self, Q, V, A, B, O, PI):\n",
    "        N = len(Q)  # 状态序列的大小\n",
    "        M = len(O)  # 观测序列的大小\n",
    "        deltas = np.zeros((N, M)) # 初始化daltas\n",
    "        Psai = np.zeros((N, M)) # 初始化Psai\n",
    "        I = np.zeros((1, M)) # 初始化最优路径矩阵，该矩阵维度与观测序列维度相同\n",
    "        for t in range(M): # 遍历观测序列\n",
    "            realT = t+1 # 递推从t=2开始\n",
    "            indexOfO = V.index(O[t]) # 得到序列对应的索引\n",
    "            for i in range(N):\n",
    "                realI = i+1\n",
    "                if t == 0:\n",
    "                    deltas[i][t] = PI[0][i] * B[i][indexOfO]\n",
    "                    Psai[i][t] = 0\n",
    "                    print('Init delta1(%d) = pi%d * b%d(o1) = %.2f * %.2f = %.2f'%(realI, realI, realI, PI[0][i], B[i][indexOfO], deltas[i][t]))\n",
    "                    print('Init Psai1(%d) = 0' % (realI))\n",
    "                else:\n",
    "                    deltas[i][t] = np.max(np.multiply([delta[t-1] for delta in deltas], [a[i] for a in A])) * B[i][indexOfO]\n",
    "                    print('delta%d(%d) = max[delta%d(j)aj%d]b%d(o%d) = %.2f * %.2f = %.5f'%(realT, realI, realT-1, realI, realI, realT, np.max(np.multiply([delta[t-1] for delta in deltas], [a[i] for a in A])), B[i][indexOfO], deltas[i][t]))\n",
    "                    Psai[i][t] = np.argmax(np.multiply([delta[t-1] for delta in deltas], [a[i] for a in A]))\n",
    "                    print('Psai%d(%d) = argmax[delta%d(j)aj%d] = %d' % (realT, realI, realT-1, realI, Psai[i][t]))\n",
    "        I[0][M-1] = np.argmax([delta[M-1] for delta in deltas]) # 得到最优路径的终结点\n",
    "        print('i*%d = argmax[deltaT(i)] = %d' % (M, I[0][M-1]+1))\n",
    "        \n",
    "        for t in range(M-2, -1, -1): # 递归由后向前得到其他结点\n",
    "            I[0][t] = Psai[int(I[0][t+1])][t+1]\n",
    "            print('i*%d = Psai%d(i%d) = %d' % (t+1, t+2, t+2, I[0][t]+1))\n",
    "        print('I*：',\"->\".join([str(int(i+1)) for i in I[0]]))"
   ]
  },
  {
   "cell_type": "code",
   "execution_count": 13,
   "metadata": {},
   "outputs": [
    {
     "name": "stdout",
     "output_type": "stream",
     "text": [
      "Init delta1(1) = pi1 * b1(o1) = 0.20 * 0.50 = 0.10\n",
      "Init Psai1(1) = 0\n",
      "Init delta1(2) = pi2 * b2(o1) = 0.40 * 0.40 = 0.16\n",
      "Init Psai1(2) = 0\n",
      "Init delta1(3) = pi3 * b3(o1) = 0.40 * 0.70 = 0.28\n",
      "Init Psai1(3) = 0\n",
      "delta2(1) = max[delta1(j)aj1]b1(o2) = 0.06 * 0.50 = 0.02800\n",
      "Psai2(1) = argmax[delta1(j)aj1] = 2\n",
      "delta2(2) = max[delta1(j)aj2]b2(o2) = 0.08 * 0.60 = 0.05040\n",
      "Psai2(2) = argmax[delta1(j)aj2] = 2\n",
      "delta2(3) = max[delta1(j)aj3]b3(o2) = 0.14 * 0.30 = 0.04200\n",
      "Psai2(3) = argmax[delta1(j)aj3] = 2\n",
      "delta3(1) = max[delta2(j)aj1]b1(o3) = 0.02 * 0.50 = 0.00756\n",
      "Psai3(1) = argmax[delta2(j)aj1] = 1\n",
      "delta3(2) = max[delta2(j)aj2]b2(o3) = 0.03 * 0.40 = 0.01008\n",
      "Psai3(2) = argmax[delta2(j)aj2] = 1\n",
      "delta3(3) = max[delta2(j)aj3]b3(o3) = 0.02 * 0.70 = 0.01470\n",
      "Psai3(3) = argmax[delta2(j)aj3] = 2\n",
      "delta4(1) = max[delta3(j)aj1]b1(o4) = 0.00 * 0.50 = 0.00189\n",
      "Psai4(1) = argmax[delta3(j)aj1] = 0\n",
      "delta4(2) = max[delta3(j)aj2]b2(o4) = 0.01 * 0.60 = 0.00302\n",
      "Psai4(2) = argmax[delta3(j)aj2] = 1\n",
      "delta4(3) = max[delta3(j)aj3]b3(o4) = 0.01 * 0.30 = 0.00220\n",
      "Psai4(3) = argmax[delta3(j)aj3] = 2\n",
      "i*4 = argmax[deltaT(i)] = 2\n",
      "i*3 = Psai4(i4) = 2\n",
      "i*2 = Psai3(i3) = 2\n",
      "i*1 = Psai2(i2) = 3\n",
      "I*： 3->2->2->2\n"
     ]
    }
   ],
   "source": [
    "Q = [1, 2, 3]\n",
    "\n",
    "V = ['r', 'w']\n",
    "\n",
    "A = [[0.5, 0.2, 0.3], \n",
    "     [0.3, 0.5, 0.2], \n",
    "     [0.2, 0.3, 0.5]]\n",
    "\n",
    "B = [[0.5, 0.5], \n",
    "     [0.4, 0.6], \n",
    "     [0.7, 0.3]]\n",
    "\n",
    "O = ['r', 'w', 'r', 'w'] \n",
    "pi = [[0.2, 0.4, 0.4]]\n",
    "\n",
    "HMM = Viterbi()\n",
    "HMM.viterbi_alg(Q, V, A, B, O, pi)"
   ]
  },
  {
   "cell_type": "markdown",
   "metadata": {},
   "source": [
    "与手推计算结果一致"
   ]
  },
  {
   "cell_type": "markdown",
   "metadata": {},
   "source": [
    "**End of Homework6 Code**"
   ]
  }
 ],
 "metadata": {
  "kernelspec": {
   "display_name": "Python 3",
   "language": "python",
   "name": "python3"
  },
  "language_info": {
   "codemirror_mode": {
    "name": "ipython",
    "version": 3
   },
   "file_extension": ".py",
   "mimetype": "text/x-python",
   "name": "python",
   "nbconvert_exporter": "python",
   "pygments_lexer": "ipython3",
   "version": "3.8.5"
  }
 },
 "nbformat": 4,
 "nbformat_minor": 4
}