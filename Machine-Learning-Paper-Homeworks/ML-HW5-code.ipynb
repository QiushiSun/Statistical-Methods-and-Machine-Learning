{
 "cells": [
  {
   "cell_type": "markdown",
   "metadata": {},
   "source": [
    "# Homework5 Code"
   ]
  },
  {
   "cell_type": "markdown",
   "metadata": {},
   "source": [
    "**10185501402 孙秋实 2018级**"
   ]
  },
  {
   "cell_type": "markdown",
   "metadata": {},
   "source": [
    "给定盒子和球组成的隐马尔可夫模型 $\\lambda=(\\mathrm{A}, \\mathrm{B}, \\pi)$, 其中,\n",
    "$$\n",
    "\\mathrm{A}=\\left[\\begin{array}{ccc}\n",
    "0.5 & 0.1 & 0.4 \\\\\n",
    "0.3 & 0.5 & 0.2 \\\\\n",
    "0.2 & 0.2 & 0.6\n",
    "\\end{array}\\right], \\quad \\mathrm{B}=\\left[\\begin{array}{cc}\n",
    "0.5 & 0.5 \\\\\n",
    "0.4 & 0.6 \\\\\n",
    "0.7 & 0.3\n",
    "\\end{array}\\right], \\quad \\pi=(0.2,0.3,0.5)^{\\mathrm{T}}\n",
    "$$\n",
    "设T $=8, \\mathrm{O}=(red, white, red, red, white, red, white, white)$, 试用前向后向概率计算P $\\left(\\mathrm{i}_{4}=\\mathrm{q}_{3} \\mid \\mathrm{O}, \\lambda\\right)$"
   ]
  },
  {
   "cell_type": "markdown",
   "metadata": {},
   "source": [
    "编程验证Homework5计算的正确性"
   ]
  },
  {
   "cell_type": "code",
   "execution_count": 10,
   "metadata": {},
   "outputs": [],
   "source": [
    "import numpy as np"
   ]
  },
  {
   "cell_type": "code",
   "execution_count": 11,
   "metadata": {},
   "outputs": [],
   "source": [
    "class HiddenMarkov: # 定义隐马尔可夫模型\n",
    "    def __init__(self):\n",
    "        self.alphas = None\n",
    "        self.forward_P = None\n",
    "        self.betas = None\n",
    "        self.backward_P = None\n",
    "    \n",
    "    # 前向算法\n",
    "    def forward(self, Q, V, A, B, O, PI):\n",
    "        N = len(Q)  # 状态序列的大小\n",
    "        M = len(O)  # 观测序列的大小\n",
    "        alphas = np.zeros((N, M)) # 初始化前向概率\n",
    "        T = M  # 时刻数=观测序列数\n",
    "        # 遍历每一个时刻，计算前向概率alpha值\n",
    "        for t in range(T):  \n",
    "            indexOfO = V.index(O[t]) # 得到序列对应的索引\n",
    "            for i in range(N):# 遍历状态序列\n",
    "                # 初始化alpha初值\n",
    "                if t == 0: \n",
    "                    # P176 公式(10.15)\n",
    "                    alphas[i][t] = PI[t][i] * B[i][indexOfO]  \n",
    "                    print('alpha1(%d) = p%db%db(o1) = %f' % (i+1, i, i, alphas[i][t]))\n",
    "                else:\n",
    "                    # P176 公式(10.16)\n",
    "                    alphas[i][t] = np.dot([alpha[t - 1] for alpha in alphas], [a[i] for a in A]) * B[i][indexOfO]  \n",
    "                    print('alpha%d(%d) = [sigma alpha%d(i)ai%d]b%d(o%d) = %f' % (t+1, i+1, t - 1, i, i, t, alphas[i][t]))\n",
    "        self.forward_P = np.sum([alpha[M - 1] for alpha in alphas]) \n",
    "        self.alphas = alphas        \n",
    "        \n",
    "    # 后向算法\n",
    "    def backward(self, Q, V, A, B, O, PI):  \n",
    "        N = len(Q)  # 状态序列的大小\n",
    "        M = len(O) # 观测序列的大小\n",
    "        # 初始化后向概率beta值\n",
    "        betas = np.ones((N, M))  \n",
    "        for i in range(N):\n",
    "            print('beta%d(%d) = 1' % (M, i+1))\n",
    "        # 对观测序列逆向遍历\n",
    "        for t in range(M - 2, -1, -1):\n",
    "            indexOfO = V.index(O[t + 1])  # 得到序列对应的索引\n",
    "            for i in range(N): # 遍历状态序列\n",
    "                betas[i][t] = np.dot(np.multiply(A[i], [b[indexOfO] for b in B]), [beta[t + 1] for beta in betas])\n",
    "                realT = t + 1\n",
    "                realI = i + 1\n",
    "                print('beta%d(%d) = sigma[a%djbj(o%d)beta%d(j)] = (' % (realT, realI, realI, realT + 1, realT + 1),end='')\n",
    "                for j in range(N):\n",
    "                    print(\"%.2f * %.2f * %.2f + \" % (A[i][j], B[j][indexOfO], betas[j][t + 1]), end='')\n",
    "                print(\"0) = %.3f\" % betas[i][t])\n",
    "        indexOfO = V.index(O[0]) # 取出第一个值\n",
    "        self.betas = betas\n",
    "        P = np.dot(np.multiply(PI, [b[indexOfO] for b in B]), [beta[0] for beta in betas])\n",
    "        self.backward_P = P\n",
    "        print(\"P(O|lambda) = \", end=\"\")\n",
    "        for i in range(N):\n",
    "            print(\"%.1f * %.1f * %.5f + \" % (PI[0][i], B[i][indexOfO], betas[i][0]), end=\"\")\n",
    "        print(\"0 = %f\" % P)"
   ]
  },
  {
   "cell_type": "code",
   "execution_count": 12,
   "metadata": {},
   "outputs": [
    {
     "name": "stdout",
     "output_type": "stream",
     "text": [
      "---calculating alpha---\n",
      "alpha1(1) = p0b0b(o1) = 0.100000\n",
      "alpha1(2) = p1b1b(o1) = 0.120000\n",
      "alpha1(3) = p2b2b(o1) = 0.350000\n",
      "alpha2(1) = [sigma alpha0(i)ai0]b0(o1) = 0.078000\n",
      "alpha2(2) = [sigma alpha0(i)ai1]b1(o1) = 0.084000\n",
      "alpha2(3) = [sigma alpha0(i)ai2]b2(o1) = 0.082200\n",
      "alpha3(1) = [sigma alpha1(i)ai0]b0(o2) = 0.040320\n",
      "alpha3(2) = [sigma alpha1(i)ai1]b1(o2) = 0.026496\n",
      "alpha3(3) = [sigma alpha1(i)ai2]b2(o2) = 0.068124\n",
      "alpha4(1) = [sigma alpha2(i)ai0]b0(o3) = 0.020867\n",
      "alpha4(2) = [sigma alpha2(i)ai1]b1(o3) = 0.012362\n",
      "alpha4(3) = [sigma alpha2(i)ai2]b2(o3) = 0.043611\n",
      "alpha5(1) = [sigma alpha3(i)ai0]b0(o4) = 0.011432\n",
      "alpha5(2) = [sigma alpha3(i)ai1]b1(o4) = 0.010194\n",
      "alpha5(3) = [sigma alpha3(i)ai2]b2(o4) = 0.011096\n",
      "alpha6(1) = [sigma alpha4(i)ai0]b0(o5) = 0.005497\n",
      "alpha6(2) = [sigma alpha4(i)ai1]b1(o5) = 0.003384\n",
      "alpha6(3) = [sigma alpha4(i)ai2]b2(o5) = 0.009288\n",
      "alpha7(1) = [sigma alpha5(i)ai0]b0(o6) = 0.002811\n",
      "alpha7(2) = [sigma alpha5(i)ai1]b1(o6) = 0.002460\n",
      "alpha7(3) = [sigma alpha5(i)ai2]b2(o6) = 0.002535\n",
      "alpha8(1) = [sigma alpha6(i)ai0]b0(o7) = 0.001325\n",
      "alpha8(2) = [sigma alpha6(i)ai1]b1(o7) = 0.001211\n",
      "alpha8(3) = [sigma alpha6(i)ai2]b2(o7) = 0.000941\n",
      "---calculating beta---\n",
      "beta8(1) = 1\n",
      "beta8(2) = 1\n",
      "beta8(3) = 1\n",
      "beta7(1) = sigma[a1jbj(o8)beta8(j)] = (0.50 * 0.50 * 1.00 + 0.10 * 0.60 * 1.00 + 0.40 * 0.30 * 1.00 + 0) = 0.430\n",
      "beta7(2) = sigma[a2jbj(o8)beta8(j)] = (0.30 * 0.50 * 1.00 + 0.50 * 0.60 * 1.00 + 0.20 * 0.30 * 1.00 + 0) = 0.510\n",
      "beta7(3) = sigma[a3jbj(o8)beta8(j)] = (0.20 * 0.50 * 1.00 + 0.20 * 0.60 * 1.00 + 0.60 * 0.30 * 1.00 + 0) = 0.400\n",
      "beta6(1) = sigma[a1jbj(o7)beta7(j)] = (0.50 * 0.50 * 0.43 + 0.10 * 0.60 * 0.51 + 0.40 * 0.30 * 0.40 + 0) = 0.186\n",
      "beta6(2) = sigma[a2jbj(o7)beta7(j)] = (0.30 * 0.50 * 0.43 + 0.50 * 0.60 * 0.51 + 0.20 * 0.30 * 0.40 + 0) = 0.241\n",
      "beta6(3) = sigma[a3jbj(o7)beta7(j)] = (0.20 * 0.50 * 0.43 + 0.20 * 0.60 * 0.51 + 0.60 * 0.30 * 0.40 + 0) = 0.176\n",
      "beta5(1) = sigma[a1jbj(o6)beta6(j)] = (0.50 * 0.50 * 0.19 + 0.10 * 0.40 * 0.24 + 0.40 * 0.70 * 0.18 + 0) = 0.106\n",
      "beta5(2) = sigma[a2jbj(o6)beta6(j)] = (0.30 * 0.50 * 0.19 + 0.50 * 0.40 * 0.24 + 0.20 * 0.70 * 0.18 + 0) = 0.101\n",
      "beta5(3) = sigma[a3jbj(o6)beta6(j)] = (0.20 * 0.50 * 0.19 + 0.20 * 0.40 * 0.24 + 0.60 * 0.70 * 0.18 + 0) = 0.112\n",
      "beta4(1) = sigma[a1jbj(o5)beta5(j)] = (0.50 * 0.50 * 0.11 + 0.10 * 0.60 * 0.10 + 0.40 * 0.30 * 0.11 + 0) = 0.046\n",
      "beta4(2) = sigma[a2jbj(o5)beta5(j)] = (0.30 * 0.50 * 0.11 + 0.50 * 0.60 * 0.10 + 0.20 * 0.30 * 0.11 + 0) = 0.053\n",
      "beta4(3) = sigma[a3jbj(o5)beta5(j)] = (0.20 * 0.50 * 0.11 + 0.20 * 0.60 * 0.10 + 0.60 * 0.30 * 0.11 + 0) = 0.043\n",
      "beta3(1) = sigma[a1jbj(o4)beta4(j)] = (0.50 * 0.50 * 0.05 + 0.10 * 0.40 * 0.05 + 0.40 * 0.70 * 0.04 + 0) = 0.026\n",
      "beta3(2) = sigma[a2jbj(o4)beta4(j)] = (0.30 * 0.50 * 0.05 + 0.50 * 0.40 * 0.05 + 0.20 * 0.70 * 0.04 + 0) = 0.023\n",
      "beta3(3) = sigma[a3jbj(o4)beta4(j)] = (0.20 * 0.50 * 0.05 + 0.20 * 0.40 * 0.05 + 0.60 * 0.70 * 0.04 + 0) = 0.027\n",
      "beta2(1) = sigma[a1jbj(o3)beta3(j)] = (0.50 * 0.50 * 0.03 + 0.10 * 0.40 * 0.02 + 0.40 * 0.70 * 0.03 + 0) = 0.015\n",
      "beta2(2) = sigma[a2jbj(o3)beta3(j)] = (0.30 * 0.50 * 0.03 + 0.50 * 0.40 * 0.02 + 0.20 * 0.70 * 0.03 + 0) = 0.012\n",
      "beta2(3) = sigma[a3jbj(o3)beta3(j)] = (0.20 * 0.50 * 0.03 + 0.20 * 0.40 * 0.02 + 0.60 * 0.70 * 0.03 + 0) = 0.016\n",
      "beta1(1) = sigma[a1jbj(o2)beta2(j)] = (0.50 * 0.50 * 0.01 + 0.10 * 0.60 * 0.01 + 0.40 * 0.30 * 0.02 + 0) = 0.006\n",
      "beta1(2) = sigma[a2jbj(o2)beta2(j)] = (0.30 * 0.50 * 0.01 + 0.50 * 0.60 * 0.01 + 0.20 * 0.30 * 0.02 + 0) = 0.007\n",
      "beta1(3) = sigma[a3jbj(o2)beta2(j)] = (0.20 * 0.50 * 0.01 + 0.20 * 0.60 * 0.01 + 0.60 * 0.30 * 0.02 + 0) = 0.006\n",
      "P(O|lambda) = 0.2 * 0.5 * 0.00633 + 0.3 * 0.4 * 0.00685 + 0.5 * 0.7 * 0.00578 + 0 = 0.003477\n"
     ]
    }
   ],
   "source": [
    "Q = [1, 2, 3]\n",
    "V = ['r', 'w']\n",
    "A = [[0.5, 0.1, 0.4], [0.3, 0.5, 0.2], [0.2, 0.2, 0.6]]\n",
    "B = [[0.5, 0.5], [0.4, 0.6], [0.7, 0.3]]\n",
    "O = ['r', 'w', 'r', 'r', 'w', 'r', 'w', 'w']\n",
    "PI = [[0.2, 0.3, 0.5]]\n",
    "\n",
    "HMM = HiddenMarkov()\n",
    "print(\"---calculating alpha---\")\n",
    "HMM.forward(Q, V, A, B, O, PI)\n",
    "print(\"---calculating beta---\")\n",
    "HMM.backward(Q, V, A, B, O, PI)"
   ]
  },
  {
   "cell_type": "code",
   "execution_count": 13,
   "metadata": {},
   "outputs": [
    {
     "name": "stdout",
     "output_type": "stream",
     "text": [
      "alpha4(3)= 0.043611119999999996\n",
      "beta4(3)= 0.04280618\n",
      "P(O|lambda)= 0.0034767094492824\n",
      "P(i4=q3|O,lambda) = 0.5369518160647322\n"
     ]
    }
   ],
   "source": [
    "# 计算答案\n",
    "print(\"alpha4(3)=\", HMM.alphas[3-1][4-1])\n",
    "print(\"beta4(3)=\", HMM.betas[3-1][4-1])\n",
    "print(\"P(O|lambda)=\", HMM.backward_P[0])\n",
    "result = (HMM.alphas[3-1][4-1] * HMM.betas[3-1][4-1]) / HMM.backward_P[0]\n",
    "print(\"P(i4=q3|O,lambda) =\",result)"
   ]
  },
  {
   "cell_type": "markdown",
   "metadata": {},
   "source": [
    "与手推计算结果一致"
   ]
  },
  {
   "cell_type": "markdown",
   "metadata": {},
   "source": [
    "**End of Homework5 Code**"
   ]
  }
 ],
 "metadata": {
  "kernelspec": {
   "display_name": "Python 3",
   "language": "python",
   "name": "python3"
  },
  "language_info": {
   "codemirror_mode": {
    "name": "ipython",
    "version": 3
   },
   "file_extension": ".py",
   "mimetype": "text/x-python",
   "name": "python",
   "nbconvert_exporter": "python",
   "pygments_lexer": "ipython3",
   "version": "3.8.5"
  }
 },
 "nbformat": 4,
 "nbformat_minor": 4
}
