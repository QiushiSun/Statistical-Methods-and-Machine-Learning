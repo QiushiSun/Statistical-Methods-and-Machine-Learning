{
 "cells": [
  {
   "cell_type": "markdown",
   "metadata": {},
   "source": [
    "# Statistical-Methods Homework3: Two-way ANOVA（双因子方差分析）"
   ]
  },
  {
   "cell_type": "markdown",
   "metadata": {},
   "source": [
    "https://github.com/QiushiSun"
   ]
  },
  {
   "cell_type": "markdown",
   "metadata": {},
   "source": [
    "## 背景描述\n",
    "实验研究了操作温度和三种面板玻璃材料对示波器管输出光的影响。\n",
    "这是一个压力（因子𝐴）水平数 $𝑎=3$，温度（因子𝐵）水平数 $𝑏=3$ 和重复次数 $𝑛=3$ 的双因子实验。\n",
    "\n"
   ]
  },
  {
   "cell_type": "markdown",
   "metadata": {},
   "source": [
    "## 数据描述\n",
    "| 变量名 | 变量含义 | 变量类型 | 变量取值范围 |\n",
    "| :----------: | :--------: | :----------: | :----------: |\n",
    "| （自变量）Glass_Type | 玻璃材料类型 | categorical variable | [1，2，3] |\n",
    "| （自变量）Temperature |   温度   | continuous variable | [100, 125, 150] |\n",
    "| （因变量）Light_Output | 输出光 | continuous variable | $\\mathbb{R}$ |"
   ]
  },
  {
   "cell_type": "markdown",
   "metadata": {},
   "source": [
    "## 问题 \n",
    "注：这里使用 $\\alpha=0.05$ 的显著性水平\n",
    "\n",
    "1. 试判断玻璃类型和温度对输出光是否有显著影响.\n",
    "2. 用适合的残差图来检验设定模型的恰当性.\n",
    "3. 选出一种玻璃类型 使得不论温度高低都能使示波器管的输出光较高.\n",
    "4. 估计参数$\\mu$、$\\tau_{i}$、$\\beta_{j}$和$(\\tau\\beta)_{ij}\\quad(i=1,...,a;j=1,...,b)$\n",
    "5. 如何对这种示波器管的输出光进行预测？"
   ]
  },
  {
   "cell_type": "markdown",
   "metadata": {},
   "source": [
    "### Solution:"
   ]
  },
  {
   "cell_type": "markdown",
   "metadata": {},
   "source": [
    "检验行处理效应的等式假设:  $𝐻_{01}:\\tau_1=\\tau_2=\\cdots=\\tau_a=0$  vs  $𝐻_{11}:\\tau_i \\neq 0, \\exists i$  \n",
    "检验列处理效应的等式假设:  $𝐻_{02}:\\beta_1=\\beta_2=\\cdots=\\beta_b=0$  vs  $𝐻_{12}:\\beta_j \\neq 0, \\exists j$  \n",
    "检验行与列处理没有交互作用假设:  $𝐻_{03}:(\\tau\\beta)_{ij}=0, \\forall i,j$  vs  $𝐻_{13}:(\\tau\\beta)_{ij} \\neq 0, \\exists i,j$  "
   ]
  },
  {
   "cell_type": "code",
   "execution_count": 130,
   "metadata": {},
   "outputs": [],
   "source": [
    "# Import standard packages\n",
    "import numpy as np\n",
    "import pandas as pd\n",
    "import scipy.stats as stats\n",
    "import matplotlib.pyplot as plt\n",
    "import math\n",
    "\n",
    "# Import additional packages\n",
    "from statsmodels.formula.api import ols\n",
    "from statsmodels.stats.anova import anova_lm\n",
    "from statsmodels.stats.multicomp import (pairwise_tukeyhsd, MultiComparison)\n",
    "# multicomp 多重比较包"
   ]
  },
  {
   "cell_type": "code",
   "execution_count": 131,
   "metadata": {},
   "outputs": [],
   "source": [
    "# parameters\n",
    "alpha = 0.05\n",
    "a = 3\n",
    "b = 3\n",
    "n = 3"
   ]
  },
  {
   "cell_type": "code",
   "execution_count": 132,
   "metadata": {},
   "outputs": [
    {
     "name": "stdout",
     "output_type": "stream",
     "text": [
      "   Glass_Type  Temperature  Light_Output\n",
      "0           1          100           580\n",
      "1           1          100           568\n",
      "2           1          100           570\n",
      "3           2          100           550\n",
      "4           2          100           530\n",
      "5           2          100           579\n",
      "6           3          100           546\n",
      "7           3          100           575\n",
      "8           3          100           599\n",
      "9           1          125          1090\n"
     ]
    }
   ],
   "source": [
    "x = pd.read_csv('Project3.csv')\n",
    "data = x.values\n",
    "df = pd.DataFrame(data, columns = ['Glass_Type', 'Temperature', 'Light_Output'])\n",
    "print(df.head(10))"
   ]
  },
  {
   "cell_type": "markdown",
   "metadata": {},
   "source": [
    "#### Q1:试判断玻璃类型和温度对输出光是否有显著影响\n",
    "\n",
    " "
   ]
  },
  {
   "cell_type": "markdown",
   "metadata": {},
   "source": [
    "$\\color{blue}{Q1 \\; Solution:}$"
   ]
  },
  {
   "cell_type": "code",
   "execution_count": 133,
   "metadata": {},
   "outputs": [
    {
     "name": "stdout",
     "output_type": "stream",
     "text": [
      "\n",
      "双因素方差分析表：\n",
      "                                 df        sum_sq        mean_sq            F  \\\n",
      "C(Glass_Type)                  2.0  1.508645e+05   75432.259259   206.370554   \n",
      "C(Temperature)                 2.0  1.970335e+06  985167.259259  2695.259499   \n",
      "C(Glass_Type):C(Temperature)   4.0  2.905517e+05   72637.925926   198.725707   \n",
      "Residual                      18.0  6.579333e+03     365.518519          NaN   \n",
      "\n",
      "                                    PR(>F)  \n",
      "C(Glass_Type)                 3.886026e-13  \n",
      "C(Temperature)                5.008957e-23  \n",
      "C(Glass_Type):C(Temperature)  1.254188e-14  \n",
      "Residual                               NaN  \n"
     ]
    }
   ],
   "source": [
    "# 双因子方差分析\n",
    "model = ols('Light_Output~ C(Glass_Type) + C(Temperature) + C(Glass_Type):C(Temperature)',df).fit()\n",
    "anova_results = anova_lm(model)\n",
    "print('\\n双因素方差分析表：\\n', anova_results)"
   ]
  },
  {
   "cell_type": "code",
   "execution_count": 134,
   "metadata": {},
   "outputs": [
    {
     "name": "stdout",
     "output_type": "stream",
     "text": [
      "\n",
      "For Glass_Type, p-value: 0.000000 < 0.05, reject H01.\n"
     ]
    }
   ],
   "source": [
    "if anova_results['PR(>F)'][0] < alpha:\n",
    "    print('\\nFor Glass_Type, p-value: %f < 0.05, reject H01.'% anova_results['PR(>F)'][0])\n",
    "else:\n",
    "    print('\\nFor Glass_Type, accept H01.')"
   ]
  },
  {
   "cell_type": "code",
   "execution_count": 135,
   "metadata": {},
   "outputs": [
    {
     "name": "stdout",
     "output_type": "stream",
     "text": [
      "\n",
      "For Temperature, p-value: 0.000000 < 0.05, reject H02.\n"
     ]
    }
   ],
   "source": [
    "if anova_results['PR(>F)'][1] < alpha:\n",
    "    print('\\nFor Temperature, p-value: %f < 0.05, reject H02.'% anova_results['PR(>F)'][1])\n",
    "else:\n",
    "    print('\\nFor Temperature, accept H02.')"
   ]
  },
  {
   "cell_type": "code",
   "execution_count": 136,
   "metadata": {},
   "outputs": [
    {
     "name": "stdout",
     "output_type": "stream",
     "text": [
      "\n",
      "For Glass_Type:Temperature, p-value: 0.000000 < 0.05, reject H03.\n"
     ]
    }
   ],
   "source": [
    "if anova_results['PR(>F)'][2] < alpha:\n",
    "    print('\\nFor Glass_Type:Temperature, p-value: %f < 0.05, reject H03.'% anova_results['PR(>F)'][2])\n",
    "else:\n",
    "    print('\\nFor material:Temperature, accept H03.')"
   ]
  },
  {
   "cell_type": "markdown",
   "metadata": {},
   "source": [
    "观察双因子方差分析表，可知在$\\alpha=0.05$的水平下：  \n",
    "\n",
    "1. 对玻璃材料类型来说，$p=0.000000<0.05$，所以玻璃材料类型对输出光有显著影响；  \n",
    "2. 对温度来说，$p=0.000000<0.05$，所以温度对输出光也具有显著影响；  \n",
    "3. 对玻璃材料类型和温度的交互因素来说，$p=0.000000<0.05$，所以二者的交互因素对输出光的影响显著."
   ]
  },
  {
   "cell_type": "markdown",
   "metadata": {},
   "source": [
    "【多重比较】在双因子析因设计实验中，如果交互作用是显著的，一个因子（例如，因子 𝐴）的均值间的比较可能由于交互作用而模糊不清。解决这类问题的方法是：将另一个因子（因子 𝐵）固定在一特定水平上，在此水平上对因子 𝐴 的均值使用 Tukey 检验法。\n",
    "由上面方差分析表可知，行均值、列均值和交互项均有显著性差异，所以下面我们进一步固定温度水平为 70℉，对 3 种材料进行多重比较，以Tukey的Honestly Significant Difference(HSD)检验法为例:"
   ]
  },
  {
   "cell_type": "code",
   "execution_count": 137,
   "metadata": {},
   "outputs": [
    {
     "name": "stdout",
     "output_type": "stream",
     "text": [
      "Glass type 1， Multi-comparison: \n",
      "  Multiple Comparison of Means - Tukey HSD, FWER=0.05 \n",
      "=====================================================\n",
      "group1 group2 meandiff p-adj  lower    upper   reject\n",
      "-----------------------------------------------------\n",
      "   100    125 514.6667 0.001  501.452 527.8814   True\n",
      "   100    150 813.3333 0.001 800.1186  826.548   True\n",
      "   125    150 298.6667 0.001  285.452 311.8814   True\n",
      "-----------------------------------------------------\n",
      "Glass type 2， Multi-comparison: \n",
      "  Multiple Comparison of Means - Tukey HSD, FWER=0.05 \n",
      "=====================================================\n",
      "group1 group2 meandiff p-adj  lower    upper   reject\n",
      "-----------------------------------------------------\n",
      "   100    125    482.0 0.001 416.6997 547.3003   True\n",
      "   100    150    760.0 0.001 694.6997 825.3003   True\n",
      "   125    150    278.0 0.001 212.6997 343.3003   True\n",
      "-----------------------------------------------------\n",
      "Glass type 3， Multi-comparison: \n",
      "   Multiple Comparison of Means - Tukey HSD, FWER=0.05  \n",
      "=======================================================\n",
      "group1 group2 meandiff p-adj   lower     upper   reject\n",
      "-------------------------------------------------------\n",
      "   100    125 481.3333 0.001  432.0646   530.602   True\n",
      "   100    150 313.3333 0.001  264.0646   362.602   True\n",
      "   125    150   -168.0 0.001 -217.2687 -118.7313   True\n",
      "-------------------------------------------------------\n"
     ]
    },
    {
     "name": "stderr",
     "output_type": "stream",
     "text": [
      "/Users/sunqiushi/opt/anaconda3/lib/python3.8/site-packages/statsmodels/sandbox/stats/multicomp.py:775: UserWarning: FixedFormatter should only be used together with FixedLocator\n",
      "  ax1.set_yticklabels(np.insert(self.groupsunique.astype(str), 0, ''))\n",
      "/Users/sunqiushi/opt/anaconda3/lib/python3.8/site-packages/statsmodels/sandbox/stats/multicomp.py:775: UserWarning: FixedFormatter should only be used together with FixedLocator\n",
      "  ax1.set_yticklabels(np.insert(self.groupsunique.astype(str), 0, ''))\n",
      "/Users/sunqiushi/opt/anaconda3/lib/python3.8/site-packages/statsmodels/sandbox/stats/multicomp.py:775: UserWarning: FixedFormatter should only be used together with FixedLocator\n",
      "  ax1.set_yticklabels(np.insert(self.groupsunique.astype(str), 0, ''))\n"
     ]
    },
    {
     "data": {
      "image/png": "[encoded data removed]",
      "text/plain": [
       "<Figure size 720x432 with 1 Axes>"
      ]
     },
     "execution_count": 137,
     "metadata": {},
     "output_type": "execute_result"
    },
    {
     "data": {
      "image/png": "[encoded data removed]",
      "text/plain": [
       "<Figure size 720x432 with 1 Axes>"
      ]
     },
     "metadata": {
      "needs_background": "light"
     },
     "output_type": "display_data"
    },
    {
     "data": {
      "image/png": "[encoded data removed]",
      "text/plain": [
       "<Figure size 720x432 with 1 Axes>"
      ]
     },
     "metadata": {
      "needs_background": "light"
     },
     "output_type": "display_data"
    },
    {
     "data": {
      "image/png": "[encoded data removed]",
      "text/plain": [
       "<Figure size 720x432 with 1 Axes>"
      ]
     },
     "metadata": {
      "needs_background": "light"
     },
     "output_type": "display_data"
    }
   ],
   "source": [
    "# Use Tukey HSD for Multi-comparison\n",
    "\n",
    "multiComp1 = MultiComparison(df.loc[df['Glass_Type'] == 1, 'Light_Output'], df.loc[df['Glass_Type'] == 1, 'Temperature'])\n",
    "tukey = multiComp1.tukeyhsd()\n",
    "print('Glass type 1， Multi-comparison: \\n', tukey)\n",
    "tukey.plot_simultaneous(ylabel= 'Temperature(°C)', xlabel= 'Score Difference')\n",
    "\n",
    "multiComp2 = MultiComparison(df.loc[df['Glass_Type'] == 2, 'Light_Output'], df.loc[df['Glass_Type'] == 2, 'Temperature'])\n",
    "tukey = multiComp2.tukeyhsd()\n",
    "print('Glass type 2， Multi-comparison: \\n', tukey)\n",
    "\n",
    "tukey.plot_simultaneous(ylabel= 'Temperature(°C)', xlabel= 'Score Difference')\n",
    "\n",
    "multiComp3 = MultiComparison(df.loc[df['Glass_Type'] == 3, 'Light_Output'], df.loc[df['Glass_Type'] == 3, 'Temperature'])\n",
    "tukey = multiComp3.tukeyhsd()\n",
    "print('Glass type 3， Multi-comparison: \\n', tukey)\n",
    "\n",
    "tukey.plot_simultaneous(ylabel= 'Temperature(°C)', xlabel= 'Score Difference')"
   ]
  },
  {
   "cell_type": "markdown",
   "metadata": {},
   "source": [
    "这一分析的结果说明：\n",
    "\n",
    "玻璃类型1和玻璃类型2的输出光随温度上升而提高，第三类3玻璃输出光水平在125°C达到最高，100°F达到最低，当温度水平为 125℉ 时，材料类型1与类材料型3，材料类型2与类型3的输出光差异不显著，但材料类型1与类型2的输出光具有显著差异。"
   ]
  },
  {
   "cell_type": "markdown",
   "metadata": {},
   "source": [
    "$\\color{blue}{{Q2 \\; Solution:}}$"
   ]
  },
  {
   "cell_type": "markdown",
   "metadata": {},
   "source": [
    "#### Q2:用适合的残差图来检验设定模型的恰当性."
   ]
  },
  {
   "cell_type": "code",
   "execution_count": 138,
   "metadata": {},
   "outputs": [
    {
     "data": {
      "text/html": [
       "<div>\n",
       "<style scoped>\n",
       "    .dataframe tbody tr th:only-of-type {\n",
       "        vertical-align: middle;\n",
       "    }\n",
       "\n",
       "    .dataframe tbody tr th {\n",
       "        vertical-align: top;\n",
       "    }\n",
       "\n",
       "    .dataframe thead th {\n",
       "        text-align: right;\n",
       "    }\n",
       "</style>\n",
       "<table border=\"1\" class=\"dataframe\">\n",
       "  <thead>\n",
       "    <tr style=\"text-align: right;\">\n",
       "      <th></th>\n",
       "      <th>Glass_Type</th>\n",
       "      <th>Temperature</th>\n",
       "      <th>Light_Output</th>\n",
       "    </tr>\n",
       "  </thead>\n",
       "  <tbody>\n",
       "    <tr>\n",
       "      <th>0</th>\n",
       "      <td>1.0</td>\n",
       "      <td>100.0</td>\n",
       "      <td>7.333333</td>\n",
       "    </tr>\n",
       "    <tr>\n",
       "      <th>1</th>\n",
       "      <td>1.0</td>\n",
       "      <td>100.0</td>\n",
       "      <td>-4.666667</td>\n",
       "    </tr>\n",
       "    <tr>\n",
       "      <th>2</th>\n",
       "      <td>1.0</td>\n",
       "      <td>100.0</td>\n",
       "      <td>-2.666667</td>\n",
       "    </tr>\n",
       "    <tr>\n",
       "      <th>3</th>\n",
       "      <td>2.0</td>\n",
       "      <td>100.0</td>\n",
       "      <td>-3.000000</td>\n",
       "    </tr>\n",
       "    <tr>\n",
       "      <th>4</th>\n",
       "      <td>2.0</td>\n",
       "      <td>100.0</td>\n",
       "      <td>-23.000000</td>\n",
       "    </tr>\n",
       "    <tr>\n",
       "      <th>5</th>\n",
       "      <td>2.0</td>\n",
       "      <td>100.0</td>\n",
       "      <td>26.000000</td>\n",
       "    </tr>\n",
       "    <tr>\n",
       "      <th>6</th>\n",
       "      <td>3.0</td>\n",
       "      <td>100.0</td>\n",
       "      <td>-27.333333</td>\n",
       "    </tr>\n",
       "    <tr>\n",
       "      <th>7</th>\n",
       "      <td>3.0</td>\n",
       "      <td>100.0</td>\n",
       "      <td>1.666667</td>\n",
       "    </tr>\n",
       "    <tr>\n",
       "      <th>8</th>\n",
       "      <td>3.0</td>\n",
       "      <td>100.0</td>\n",
       "      <td>25.666667</td>\n",
       "    </tr>\n",
       "    <tr>\n",
       "      <th>9</th>\n",
       "      <td>1.0</td>\n",
       "      <td>125.0</td>\n",
       "      <td>2.666667</td>\n",
       "    </tr>\n",
       "  </tbody>\n",
       "</table>\n",
       "</div>"
      ],
      "text/plain": [
       "   Glass_Type  Temperature  Light_Output\n",
       "0         1.0        100.0      7.333333\n",
       "1         1.0        100.0     -4.666667\n",
       "2         1.0        100.0     -2.666667\n",
       "3         2.0        100.0     -3.000000\n",
       "4         2.0        100.0    -23.000000\n",
       "5         2.0        100.0     26.000000\n",
       "6         3.0        100.0    -27.333333\n",
       "7         3.0        100.0      1.666667\n",
       "8         3.0        100.0     25.666667\n",
       "9         1.0        125.0      2.666667"
      ]
     },
     "execution_count": 138,
     "metadata": {},
     "output_type": "execute_result"
    }
   ],
   "source": [
    "# Residual Analysis\n",
    "\n",
    "list_temp = [100, 125, 150]\n",
    "data_res = data.astype(float)\n",
    "for i in range(a):\n",
    "    for j in list_temp:\n",
    "        cnt = data[(data[:,0] == i + 1) & (data[:,1] == j),2]\n",
    "        data_res[(data_res[:,0] == i + 1) & (data_res[:,1] == j),2] = cnt-np.mean(cnt)\n",
    "        \n",
    "df = pd.DataFrame(data_res, columns = ['Glass_Type', 'Temperature', 'Light_Output'])\n",
    "\n",
    "df.head(10)"
   ]
  },
  {
   "cell_type": "markdown",
   "metadata": {},
   "source": [
    "**残差分析1:残差正态概率图分析**"
   ]
  },
  {
   "cell_type": "code",
   "execution_count": 139,
   "metadata": {},
   "outputs": [
    {
     "data": {
      "image/png": "[encoded data removed]",
      "text/plain": [
       "<Figure size 432x288 with 1 Axes>"
      ]
     },
     "metadata": {
      "needs_background": "light"
     },
     "output_type": "display_data"
    }
   ],
   "source": [
    "# 正态概率图\n",
    "\n",
    "res = data_res[:, 2]\n",
    "osm, osr = stats.probplot(res, dist = 'norm', plot = plt)\n",
    "x = osm[0][0]\n",
    "y = osm[1][0]\n",
    "plt.text(x, y, '%.2f' % float(y), ha='center', va= 'bottom', fontsize=9)\n",
    "plt.grid()\n",
    "plt.show()"
   ]
  },
  {
   "cell_type": "code",
   "execution_count": 140,
   "metadata": {},
   "outputs": [
    {
     "name": "stdout",
     "output_type": "stream",
     "text": [
      "maximum normalized residual: 1.83068\n",
      "accept\n"
     ]
    }
   ],
   "source": [
    "loss = sum(np.power(res,2))/((n-1)*a*b)\n",
    "\n",
    "# get normalized redisual\n",
    "\n",
    "d_max=max(abs(osm[1]))/(loss**0.5)\n",
    "\n",
    "print(\"maximum normalized residual:\",round(dmax,5))\n",
    "if d_max<3:\n",
    "    print(\"accept\")\n",
    "else:\n",
    "    print(\"reject\")"
   ]
  },
  {
   "cell_type": "markdown",
   "metadata": {},
   "source": [
    "Remark: 残差计算\n",
    "\n",
    "1. $e_{ijk}=y_{ijk}-\\hat{y_{ijk}}$\n",
    "\n",
    "2. $\\hat{y_{ijk}} = \\bar{{y_{ij}}}$\n",
    "\n",
    "3. $e_{ijk}=y_{ijk}-\\bar{y_{ij}}$\n",
    "\n",
    "无特别的证据说明违背数据正态性；\n",
    "异常值的检测：\n",
    "$\\frac{-35.000}{\\sqrt{365.518}}=-1.83>-2$ (**注意是除以根号下均方误差**) \n",
    "\n",
    "因此认为残差服从正态."
   ]
  },
  {
   "cell_type": "markdown",
   "metadata": {},
   "source": [
    "我们可以使用*Shapiro-Wilk*检验进行第二次检验"
   ]
  },
  {
   "cell_type": "code",
   "execution_count": 141,
   "metadata": {},
   "outputs": [
    {
     "name": "stdout",
     "output_type": "stream",
     "text": [
      "Shapiro-Wilk Test:\n",
      "alpha= 0.05\n",
      "since pvalue p=0.52 > 0.05，accept.\n"
     ]
    }
   ],
   "source": [
    "# Use Shapiro-Wilk for normalization test\n",
    "\n",
    "SW, pValue1 = stats.shapiro(res)\n",
    "\n",
    "print('Shapiro-Wilk Test:')\n",
    "\n",
    "print('alpha=',alpha)\n",
    "\n",
    "if pValue1>alpha:\n",
    "    print(\"since pvalue p=%.2f > %.2f，accept.\"%(pValue1,alpha))\n",
    "else:\n",
    "    print(\"since pvalue p=%.2f < %.2f，reject.\"%(pValue1,alpha))"
   ]
  },
  {
   "cell_type": "markdown",
   "metadata": {},
   "source": [
    "可见，若再使用Shapiro-Wilk检验方法进行第二次检验，同样可以确认其正态性。"
   ]
  },
  {
   "cell_type": "markdown",
   "metadata": {},
   "source": [
    "**残差分析2：残差与预测值关系图**"
   ]
  },
  {
   "cell_type": "code",
   "execution_count": 142,
   "metadata": {},
   "outputs": [
    {
     "data": {
      "text/plain": [
       "Text(0, 0.5, 'e_ijk')"
      ]
     },
     "execution_count": 142,
     "metadata": {},
     "output_type": "execute_result"
    },
    {
     "data": {
      "image/png": "[encoded data removed]",
      "text/plain": [
       "<Figure size 432x288 with 1 Axes>"
      ]
     },
     "metadata": {
      "needs_background": "light"
     },
     "output_type": "display_data"
    }
   ],
   "source": [
    "y2 = []\n",
    "for i in list_temp:\n",
    "    for j in range(a):\n",
    "        for k in range(n):\n",
    "            y2.append(np.mean(data[(data[:,0] == j + 1) & (data[:,1] == i), 2]))\n",
    "            \n",
    "plt.scatter(y2, res, c = 'blue')\n",
    "plt.title('Residuals vs Pred')\n",
    "plt.text(y2[12], res[12], '%.2f' % float(res[12]), ha='center', va= 'bottom', fontsize=9)\n",
    "plt.text(y2[14], res[14], '%.2f' % float(res[14]), ha='center', va= 'bottom', fontsize=9)\n",
    "plt.xlabel('y_ijk')\n",
    "plt.ylabel('e_ijk')"
   ]
  },
  {
   "cell_type": "markdown",
   "metadata": {},
   "source": [
    "**残差分析3：残差与材料的关系图**  "
   ]
  },
  {
   "cell_type": "markdown",
   "metadata": {},
   "source": [
    "从上图可以看出，当输出光很小时，残差方差同样较小。但当输出光增大时，先增后减，方差最大值在略微超过1000处。"
   ]
  },
  {
   "cell_type": "code",
   "execution_count": 143,
   "metadata": {},
   "outputs": [
    {
     "data": {
      "text/plain": [
       "Text(0, 0.5, 'e_ijk')"
      ]
     },
     "execution_count": 143,
     "metadata": {},
     "output_type": "execute_result"
    },
    {
     "data": {
      "image/png": "[encoded data removed]",
      "text/plain": [
       "<Figure size 432x288 with 1 Axes>"
      ]
     },
     "metadata": {
      "needs_background": "light"
     },
     "output_type": "display_data"
    }
   ],
   "source": [
    "y3 = data_res[:,0]\n",
    "plt.scatter(y3, res, c = 'blue')\n",
    "plt.title('Residuals versus Glass_type')\n",
    "plt.text(y3[12], res[12], '%.2f' % float(res[12]), ha='center', va= 'bottom', fontsize=9)\n",
    "plt.text(y3[14], res[14], '%.2f' % float(res[14]), ha='center', va= 'bottom', fontsize=9)\n",
    "plt.xlabel('Glass type')\n",
    "plt.ylabel('e_ijk')"
   ]
  },
  {
   "cell_type": "markdown",
   "metadata": {},
   "source": [
    "上图显示出方差存在不等性：玻璃材料类型为第一种时，比其他情况下方差显著地小。"
   ]
  },
  {
   "cell_type": "markdown",
   "metadata": {},
   "source": [
    "**残差分析4：残差与温度的关系图**  "
   ]
  },
  {
   "cell_type": "code",
   "execution_count": 144,
   "metadata": {},
   "outputs": [
    {
     "data": {
      "text/plain": [
       "Text(0, 0.5, 'e_ijk')"
      ]
     },
     "execution_count": 144,
     "metadata": {},
     "output_type": "execute_result"
    },
    {
     "data": {
      "image/png": "[encoded data removed]",
      "text/plain": [
       "<Figure size 432x288 with 1 Axes>"
      ]
     },
     "metadata": {
      "needs_background": "light"
     },
     "output_type": "display_data"
    }
   ],
   "source": [
    "y4 = data_res[:,1]\n",
    "plt.scatter(y4, res, c = 'blue')\n",
    "plt.title('Residuals vs Temperature')\n",
    "plt.xlabel('Temperature (°F)')\n",
    "plt.ylabel('e_ijk')"
   ]
  },
  {
   "cell_type": "markdown",
   "metadata": {},
   "source": [
    "上图显示出方差微弱的不等性：T=125时，比其他情况下方差更大。\n",
    "\n",
    "可以从图中看到，数据中包含了两个极端残差值：-35与35\n",
    "\n",
    "第二、三种材料的残差无明显区别；当温度为 125 时，方差反而最小。\n",
    "\n",
    "重新审查这些数据，并未显出任何明显的问题，比如记录错误等，所有我们把这些响应作为真实数据接收下来。"
   ]
  },
  {
   "cell_type": "markdown",
   "metadata": {},
   "source": [
    "#### Q3:选出一种玻璃类型 使得不论温度高低都能使示波器管的输出光较高."
   ]
  },
  {
   "cell_type": "markdown",
   "metadata": {},
   "source": [
    "$\\color{blue}{{Q3 \\; Solution:}}$"
   ]
  },
  {
   "cell_type": "code",
   "execution_count": 145,
   "metadata": {},
   "outputs": [
    {
     "name": "stdout",
     "output_type": "stream",
     "text": [
      "   Glass_type   Temp       Light\n",
      "0         1.0  100.0  572.666667\n",
      "1         1.0  100.0  572.666667\n",
      "2         1.0  100.0  572.666667\n",
      "3         2.0  100.0  553.000000\n",
      "4         2.0  100.0  553.000000\n"
     ]
    },
    {
     "data": {
      "text/plain": [
       "<matplotlib.legend.Legend at 0x7fa9ed4bef70>"
      ]
     },
     "execution_count": 145,
     "metadata": {},
     "output_type": "execute_result"
    },
    {
     "data": {
      "image/png": "[encoded data removed]",
      "text/plain": [
       "<Figure size 432x288 with 1 Axes>"
      ]
     },
     "metadata": {
      "needs_background": "light"
     },
     "output_type": "display_data"
    }
   ],
   "source": [
    "# Fixed\n",
    "\n",
    "data_avg = data.astype(float) * 1\n",
    "for i in range(a):\n",
    "    for j in list_temp:\n",
    "        cnt = data[(data[:,0] == i + 1) & (data[:,1] == j),2]\n",
    "        data_avg[(data_avg[:,0] == i + 1) & (data_avg[:,1] == j),2] = np.mean(cnt)\n",
    "        \n",
    "df = pd.DataFrame(data_avg, columns = ['Glass_type', 'Temp', 'Light'])\n",
    "print(df.head(5))\n",
    "\n",
    "type1 = data_avg[[0,9,18], 2]\n",
    "type2 = data_avg[[3,12,21], 2]\n",
    "type3 = data_avg[[6,15,24], 2]\n",
    "\n",
    "c1 = pd.Series(type1, index = list_temp, name = 'type1')\n",
    "c2 = pd.Series(type2, index = list_temp, name = 'type2')\n",
    "c3 = pd.Series(type3, index = list_temp, name = 'type3')\n",
    "df = pd.concat([c1, c2, c3], axis = 1)\n",
    "\n",
    "plt.plot(df.iloc[:,0], color = 'red', marker = 'o', label = 'glass_type1')\n",
    "plt.plot(df.iloc[:,1], color = 'green', marker = 'o', label = 'glass_type2')\n",
    "plt.plot(df.iloc[:,2], marker = 'o', label = 'glass_type3')\n",
    "\n",
    "plt.title('Glass type–temperature plot')\n",
    "plt.xlabel('Temperature (°F)')\n",
    "plt.ylabel('AVG endurance')\n",
    "plt.legend(['glass_type1', 'glass_type2', 'glass_type3'])"
   ]
  },
  {
   "cell_type": "markdown",
   "metadata": {},
   "source": [
    "上图描述了每一种处理组合的平均响应图，因为线段不平行，所以交互作用显著。\n",
    "\n",
    "从低温变化至中等温度时，三种材料的输出光都有显著的增加。从中等温度变至高温时，用材料类型 3 生产的示波器的输出光减少，而其余两者的输出光进一步增强，其中材料类型1的光强最高。\n",
    "\n",
    "因此可得出结论：如果我们希望尽量提高输出光的强度，材料类型 1 给出了最好的结果。"
   ]
  },
  {
   "cell_type": "markdown",
   "metadata": {},
   "source": [
    "#### Q4:估计参数$\\mu$、$\\tau_{i}$、$\\beta_{j}$和$(\\tau\\beta)_{ij}\\quad(i=1,...,a;j=1,...,b)$"
   ]
  },
  {
   "cell_type": "markdown",
   "metadata": {},
   "source": [
    "$\\color{blue}{{Q4 \\; Solution:}}$"
   ]
  },
  {
   "cell_type": "markdown",
   "metadata": {},
   "source": [
    "估计参数$\\mu$、$\\tau_i$、$\\beta_j$和$(\\tau\\beta)_{ij}\\quad(i=1,...,a;j=1,...,b)$  \n",
    "1. $\\hat{\\mu}=\\bar{y}_{\\cdots}$  \n",
    "2. $\\hat{\\tau_i}=\\bar{y}_{i\\cdot\\cdot}-\\bar{y}_{\\cdots},\\quad i = 1,2,\\cdots,a$  \n",
    "3. $\\hat{\\beta_j}=\\bar{y}_{\\cdot j\\cdot}-\\bar{y}_{\\cdots},\\quad j = 1,2,\\cdots,b$  \n",
    "4. $\\hat{\\tau\\beta}_{ij}=\\bar{y}_{ij\\cdot}-\\bar{y}_{i\\cdot\\cdot}-\\bar{y}_{\\cdot j\\cdot}+\\bar{y}_{\\cdots},\\quad i = 1,2,\\cdots,a\\quad j = 1,2,\\cdots,b$"
   ]
  },
  {
   "cell_type": "code",
   "execution_count": 146,
   "metadata": {},
   "outputs": [
    {
     "name": "stdout",
     "output_type": "stream",
     "text": [
      "总平均效应： 940.19\n"
     ]
    }
   ],
   "source": [
    "mu = np.mean(data[:,2])\n",
    "print('总平均效应：', round(mu, 2))"
   ]
  },
  {
   "cell_type": "code",
   "execution_count": 147,
   "metadata": {},
   "outputs": [
    {
     "name": "stdout",
     "output_type": "stream",
     "text": [
      "因子的水平效应：\n",
      " [  75.15   26.81 -101.96]\n"
     ]
    }
   ],
   "source": [
    "tau = []\n",
    "for i in range(a):\n",
    "    tau.append(np.mean(data[data[:,0] == i + 1, 2]) - mu)\n",
    "    \n",
    "print('因子的水平效应：\\n', np.round(tau, 2))"
   ]
  },
  {
   "cell_type": "code",
   "execution_count": 148,
   "metadata": {},
   "outputs": [
    {
     "name": "stdout",
     "output_type": "stream",
     "text": [
      "温度因子的水平效应：\n",
      " [-373.85  118.81  255.04]\n"
     ]
    }
   ],
   "source": [
    "Beta = []\n",
    "for j in list_temp:\n",
    "    Beta.append(np.mean(data[data[:,1] == j, 2]) - mu)\n",
    "print('温度因子的水平效应：\\n', np.round(Beta, 2))"
   ]
  },
  {
   "cell_type": "code",
   "execution_count": 149,
   "metadata": {},
   "outputs": [
    {
     "name": "stdout",
     "output_type": "stream",
     "text": [
      "两因子之间的交互作用效应：\n",
      " [[1811.56 1318.89 1182.67]\n",
      " [2374.56 1881.89 1745.67]\n",
      " [2802.   2309.33 2173.11]]\n"
     ]
    }
   ],
   "source": [
    "tau_beta = []\n",
    "k = 0\n",
    "for i in range(a):\n",
    "    tau_beta.append([])\n",
    "    for j in range(b):\n",
    "        cnt = data_avg[0 + 3 * k, 2] - tau[i] - Beta[j] + mu\n",
    "        tau_beta[i].append(cnt)\n",
    "    k += 3\n",
    "print('两因子之间的交互作用效应：\\n', np.round(tau_beta, 2))"
   ]
  },
  {
   "cell_type": "markdown",
   "metadata": {},
   "source": [
    "#### Q5:如何对这种示波器管的输出光进行预测？"
   ]
  },
  {
   "cell_type": "markdown",
   "metadata": {},
   "source": [
    "$\\color{blue}{{Q5 \\; Solution:}}$"
   ]
  },
  {
   "cell_type": "markdown",
   "metadata": {},
   "source": [
    "由于温度是定量的，而材料类型是定性的。再者，温度有 3 个水平。因此，我们可计算线性的和二次的温度效应，以便研究温度怎样影响玻璃的性能。  \n",
    "这里我们画出响应曲线（response curve）可以得到响应变量与定量因子——温度的关系。一般地，线性回归方法可用于为实验数据拟合相应的模型。  "
   ]
  },
  {
   "cell_type": "markdown",
   "metadata": {},
   "source": [
    "$$Light = \\beta_0+\\beta_1A+\\beta_2B_1+\\beta_3B_2+\\beta_4A^2+\\beta_5AB_1+\\beta_6AB_2+\\beta_7A^2B_1+\\beta_8A^2B_2$$\n",
    "\n",
    "其中，分量 $A, A^2$ 分别表示温度因子的一次效应、二次效应，$B$ 表示材料类型因子的主效应。温度对应三个水平：100,125,175，对应的温度水平分别为 $A=-1,0,+1$。变量 $B[1]$ 和 $B[2]$ 被认为是示性变量（indicator variable），其定义为:  \n",
    "\n",
    "|  | 1 | 2 | 3 |  \n",
    "| :--------: | :--------: | :--------: | :---------: |  \n",
    "| $B[1]$ |   1   |   0   |   -1   |  \n",
    "| $B[2]$ |   0   |   1   |   -1   |"
   ]
  },
  {
   "cell_type": "code",
   "execution_count": 150,
   "metadata": {},
   "outputs": [
    {
     "name": "stdout",
     "output_type": "stream",
     "text": [
      "   A  B1  B2  AA  AB1  AB2  AAB1  AAB2  Light\n",
      "0 -1   1   0   1   -1    0     1     0    580\n",
      "1 -1   1   0   1   -1    0     1     0    568\n",
      "2 -1   1   0   1   -1    0     1     0    570\n",
      "3 -1   0   1   1    0   -1     0     1    550\n",
      "4 -1   0   1   1    0   -1     0     1    530\n",
      "Intercept    1059.000000\n",
      "A             314.444444\n",
      "B1             28.333333\n",
      "B2            -24.000000\n",
      "AA           -178.222222\n",
      "AB1            92.222222\n",
      "AB2            65.555556\n",
      "AAB1           70.222222\n",
      "AAB2           76.222222\n",
      "dtype: float64\n"
     ]
    },
    {
     "data": {
      "text/html": [
       "<table class=\"simpletable\">\n",
       "<caption>OLS Regression Results</caption>\n",
       "<tr>\n",
       "  <th>Dep. Variable:</th>          <td>Light</td>      <th>  R-squared:         </th> <td>   0.997</td>\n",
       "</tr>\n",
       "<tr>\n",
       "  <th>Model:</th>                   <td>OLS</td>       <th>  Adj. R-squared:    </th> <td>   0.996</td>\n",
       "</tr>\n",
       "<tr>\n",
       "  <th>Method:</th>             <td>Least Squares</td>  <th>  F-statistic:       </th> <td>   824.8</td>\n",
       "</tr>\n",
       "<tr>\n",
       "  <th>Date:</th>             <td>Mon, 22 Mar 2021</td> <th>  Prob (F-statistic):</th> <td>1.78e-21</td>\n",
       "</tr>\n",
       "<tr>\n",
       "  <th>Time:</th>                 <td>21:03:59</td>     <th>  Log-Likelihood:    </th> <td> -112.51</td>\n",
       "</tr>\n",
       "<tr>\n",
       "  <th>No. Observations:</th>      <td>    27</td>      <th>  AIC:               </th> <td>   243.0</td>\n",
       "</tr>\n",
       "<tr>\n",
       "  <th>Df Residuals:</th>          <td>    18</td>      <th>  BIC:               </th> <td>   254.7</td>\n",
       "</tr>\n",
       "<tr>\n",
       "  <th>Df Model:</th>              <td>     8</td>      <th>                     </th>     <td> </td>   \n",
       "</tr>\n",
       "<tr>\n",
       "  <th>Covariance Type:</th>      <td>nonrobust</td>    <th>                     </th>     <td> </td>   \n",
       "</tr>\n",
       "</table>\n",
       "<table class=\"simpletable\">\n",
       "<tr>\n",
       "      <td></td>         <th>coef</th>     <th>std err</th>      <th>t</th>      <th>P>|t|</th>  <th>[0.025</th>    <th>0.975]</th>  \n",
       "</tr>\n",
       "<tr>\n",
       "  <th>Intercept</th> <td> 1059.0000</td> <td>    6.373</td> <td>  166.174</td> <td> 0.000</td> <td> 1045.611</td> <td> 1072.389</td>\n",
       "</tr>\n",
       "<tr>\n",
       "  <th>A</th>         <td>  314.4444</td> <td>    4.506</td> <td>   69.779</td> <td> 0.000</td> <td>  304.977</td> <td>  323.912</td>\n",
       "</tr>\n",
       "<tr>\n",
       "  <th>B1</th>        <td>   28.3333</td> <td>    9.013</td> <td>    3.144</td> <td> 0.006</td> <td>    9.399</td> <td>   47.268</td>\n",
       "</tr>\n",
       "<tr>\n",
       "  <th>B2</th>        <td>  -24.0000</td> <td>    9.013</td> <td>   -2.663</td> <td> 0.016</td> <td>  -42.935</td> <td>   -5.065</td>\n",
       "</tr>\n",
       "<tr>\n",
       "  <th>AA</th>        <td> -178.2222</td> <td>    7.805</td> <td>  -22.834</td> <td> 0.000</td> <td> -194.620</td> <td> -161.824</td>\n",
       "</tr>\n",
       "<tr>\n",
       "  <th>AB1</th>       <td>   92.2222</td> <td>    6.373</td> <td>   14.471</td> <td> 0.000</td> <td>   78.833</td> <td>  105.611</td>\n",
       "</tr>\n",
       "<tr>\n",
       "  <th>AB2</th>       <td>   65.5556</td> <td>    6.373</td> <td>   10.287</td> <td> 0.000</td> <td>   52.167</td> <td>   78.944</td>\n",
       "</tr>\n",
       "<tr>\n",
       "  <th>AAB1</th>      <td>   70.2222</td> <td>   11.038</td> <td>    6.362</td> <td> 0.000</td> <td>   47.032</td> <td>   93.412</td>\n",
       "</tr>\n",
       "<tr>\n",
       "  <th>AAB2</th>      <td>   76.2222</td> <td>   11.038</td> <td>    6.905</td> <td> 0.000</td> <td>   53.032</td> <td>   99.412</td>\n",
       "</tr>\n",
       "</table>\n",
       "<table class=\"simpletable\">\n",
       "<tr>\n",
       "  <th>Omnibus:</th>       <td> 0.570</td> <th>  Durbin-Watson:     </th> <td>   2.273</td>\n",
       "</tr>\n",
       "<tr>\n",
       "  <th>Prob(Omnibus):</th> <td> 0.752</td> <th>  Jarque-Bera (JB):  </th> <td>   0.035</td>\n",
       "</tr>\n",
       "<tr>\n",
       "  <th>Skew:</th>          <td> 0.009</td> <th>  Prob(JB):          </th> <td>   0.983</td>\n",
       "</tr>\n",
       "<tr>\n",
       "  <th>Kurtosis:</th>      <td> 3.175</td> <th>  Cond. No.          </th> <td>    5.59</td>\n",
       "</tr>\n",
       "</table><br/><br/>Notes:<br/>[1] Standard Errors assume that the covariance matrix of the errors is correctly specified."
      ],
      "text/plain": [
       "<class 'statsmodels.iolib.summary.Summary'>\n",
       "\"\"\"\n",
       "                            OLS Regression Results                            \n",
       "==============================================================================\n",
       "Dep. Variable:                  Light   R-squared:                       0.997\n",
       "Model:                            OLS   Adj. R-squared:                  0.996\n",
       "Method:                 Least Squares   F-statistic:                     824.8\n",
       "Date:                Mon, 22 Mar 2021   Prob (F-statistic):           1.78e-21\n",
       "Time:                        21:03:59   Log-Likelihood:                -112.51\n",
       "No. Observations:                  27   AIC:                             243.0\n",
       "Df Residuals:                      18   BIC:                             254.7\n",
       "Df Model:                           8                                         \n",
       "Covariance Type:            nonrobust                                         \n",
       "==============================================================================\n",
       "                 coef    std err          t      P>|t|      [0.025      0.975]\n",
       "------------------------------------------------------------------------------\n",
       "Intercept   1059.0000      6.373    166.174      0.000    1045.611    1072.389\n",
       "A            314.4444      4.506     69.779      0.000     304.977     323.912\n",
       "B1            28.3333      9.013      3.144      0.006       9.399      47.268\n",
       "B2           -24.0000      9.013     -2.663      0.016     -42.935      -5.065\n",
       "AA          -178.2222      7.805    -22.834      0.000    -194.620    -161.824\n",
       "AB1           92.2222      6.373     14.471      0.000      78.833     105.611\n",
       "AB2           65.5556      6.373     10.287      0.000      52.167      78.944\n",
       "AAB1          70.2222     11.038      6.362      0.000      47.032      93.412\n",
       "AAB2          76.2222     11.038      6.905      0.000      53.032      99.412\n",
       "==============================================================================\n",
       "Omnibus:                        0.570   Durbin-Watson:                   2.273\n",
       "Prob(Omnibus):                  0.752   Jarque-Bera (JB):                0.035\n",
       "Skew:                           0.009   Prob(JB):                        0.983\n",
       "Kurtosis:                       3.175   Cond. No.                         5.59\n",
       "==============================================================================\n",
       "\n",
       "Notes:\n",
       "[1] Standard Errors assume that the covariance matrix of the errors is correctly specified.\n",
       "\"\"\""
      ]
     },
     "execution_count": 150,
     "metadata": {},
     "output_type": "execute_result"
    }
   ],
   "source": [
    "# 8 variables\n",
    "\n",
    "list_A = [-1, 0, 1]\n",
    "list_B1 = [1, 0, -1]\n",
    "list_B2 = [0, 1, -1]\n",
    "\n",
    "A = data[:,1]\n",
    "B1 = B2 = data[:, 0]\n",
    "for i in range(3):\n",
    "    A = [list_A[i] if j == list_temp[i] else j for j in A]\n",
    "    B1 = [list_B1[i] if j == i + 1 else j for j in B1]\n",
    "    B2 = [list_B2[i] if j == i + 1 else j for j in B2]\n",
    "\n",
    "\n",
    "A = np.asarray(A)\n",
    "AA = A**2\n",
    "B1 = np.asarray(B1)\n",
    "B2 = np.asarray(B2)\n",
    "AB1 = A*B1\n",
    "AB2 = A*B2\n",
    "AAB1 = AA*B1\n",
    "AAB2 = AA*B2\n",
    "\n",
    "df = pd.DataFrame(A, columns = ['A'])\n",
    "df['B1'] = B1\n",
    "df['B2'] = B2\n",
    "df['AA'] = AA\n",
    "df['AB1'] = AB1\n",
    "df['AB2'] = AB2\n",
    "df['AAB1'] = AAB1\n",
    "df['AAB2'] = AAB2\n",
    "df['Light'] = data[:,2]\n",
    "print(df.head())\n",
    "\n",
    "model = ols('Light~ A + B1 + B2 + AA + AB1 + AB2 + AAB1 + AAB2',df).fit()\n",
    "param = model.params\n",
    "\n",
    "print(param)\n",
    "model.summary()"
   ]
  },
  {
   "cell_type": "markdown",
   "metadata": {},
   "source": [
    "拟合曲线[-1, 1]： \n",
    "\n",
    "$$GlassLight = 1059+314.44 *A+28.33 *B[1]-24 *B[2]-178.22 *A^2+92.22 *AB[1]+65.56 *AB[2]+70.22 *A^2B[1]+76.22 *A^2B[2]$$"
   ]
  },
  {
   "cell_type": "code",
   "execution_count": 151,
   "metadata": {},
   "outputs": [
    {
     "data": {
      "text/plain": [
       "<matplotlib.legend.Legend at 0x7fa9ed207ac0>"
      ]
     },
     "execution_count": 151,
     "metadata": {},
     "output_type": "execute_result"
    },
    {
     "data": {
      "image/png": "[encoded data removed]",
      "text/plain": [
       "<Figure size 432x288 with 1 Axes>"
      ]
     },
     "metadata": {
      "needs_background": "light"
     },
     "output_type": "display_data"
    }
   ],
   "source": [
    "# fit response curve\n",
    "\n",
    "temp = np.linspace(-1, 1)\n",
    "glass_type1 = param[0] + param[1] * temp + param[2] * list_B1[0] + param[3] * list_B2[0] + param[4] * (temp ** 2) + param[5] * temp * list_B1[0] + param[6] * temp * list_B2[0] + param[7] * (temp ** 2) * list_B1[0] + param[8] * (temp ** 2) * list_B2[0]\n",
    "glass_type2 = param[0] + param[1] * temp + param[2] * list_B1[1] + param[3] * list_B2[1] + param[4] * (temp ** 2) + param[5] * temp * list_B1[1] + param[6] * temp * list_B2[1] + param[7] * (temp ** 2) * list_B1[1] + param[8] * (temp ** 2) * list_B2[1]\n",
    "glass_type3 = param[0] + param[1] * temp + param[2] * list_B1[2] + param[3] * list_B2[2] + param[4] * (temp ** 2) + param[5] * temp * list_B1[2] + param[6] * temp * list_B2[2] + param[7] * (temp ** 2) * list_B1[2] + param[8] * (temp ** 2) * list_B2[2]\n",
    "\n",
    "c1 = pd.Series(glass_type1, index = temp, name = 'glass_type1')\n",
    "c2 = pd.Series(glass_type2, index = temp, name = 'glass_type2')\n",
    "c3 = pd.Series(glass_type3, index = temp, name = 'glass_type3')\n",
    "\n",
    "df = pd.concat([c1, c2, c3], axis = 1)\n",
    "\n",
    "plt.plot(df.iloc[:,0], color = 'red', label = 'glass_type1')\n",
    "plt.plot(df.iloc[:,1], color = 'green', label = 'glass_type2')\n",
    "plt.plot(df.iloc[:,2], label = 'glass_type3')\n",
    "\n",
    "plt.xlabel('Temperature (°F)')\n",
    "plt.ylabel('glass_Light')\n",
    "plt.legend(['glass_type1', 'glass_type2', 'glass_type3'])"
   ]
  },
  {
   "cell_type": "code",
   "execution_count": 152,
   "metadata": {},
   "outputs": [
    {
     "name": "stdout",
     "output_type": "stream",
     "text": [
      "Curve [-1,1]\n",
      "Glass_type 1：y = 1087.33 +406.67 * Temp -108.00 * Temp^2\n",
      "Glass_type 2：y = 1035.00 +380.00 * Temp -102.00 * Temp^2\n",
      "Glass_type 3：y = 1054.67 +156.67 * Temp -324.67 * Temp^2\n"
     ]
    }
   ],
   "source": [
    "print(\"Curve [-1,1]\")\n",
    "for i in range(3):\n",
    "    print(\"Glass_type %d：y = %.2f % +.2f * Temp % +.2f * Temp^2\"%(i+1,param[0]+param[2]*list_B1[i]+param[3]*list_B2[i],param[1]+param[5]*list_B1[i]+param[6]*list_B2[i],param[4]+param[7]*list_B1[i]+param[8]*list_B2[i]))"
   ]
  },
  {
   "cell_type": "markdown",
   "metadata": {},
   "source": [
    "**拟合曲线[-1, 1]：**\n",
    "\n",
    "[-1,1]材料类型为 1：\n",
    "\n",
    "$y = 1087.33 + 406.67 ∗ Temp - 108 ∗ Temp^2 $\n",
    "\n",
    "[-1,1]材料类型为 2：\n",
    "\n",
    "$y = 1035.00 + 380.00 ∗ Temp − 102.00 ∗ Temp^2 $\n",
    "\n",
    "[-1,1]材料类型为 3：\n",
    "\n",
    "$y = 1054.67 + 156.67 ∗ Temp − 324.67 ∗ Temp^2 $"
   ]
  },
  {
   "cell_type": "markdown",
   "metadata": {},
   "source": [
    "#### 接下来拟合曲线[100, 150]： "
   ]
  },
  {
   "cell_type": "code",
   "execution_count": 153,
   "metadata": {},
   "outputs": [
    {
     "name": "stdout",
     "output_type": "stream",
     "text": [
      "     A   B1   B2     AA    AB1    AB2     AAB1     AAB2  Light\n",
      "0  100  150  125  10000  15000  12500  1500000  1250000    580\n",
      "1  100  150  125  10000  15000  12500  1500000  1250000    568\n",
      "2  100  150  125  10000  15000  12500  1500000  1250000    570\n",
      "3  100  125  150  10000  12500  15000  1250000  1500000    550\n",
      "4  100  125  150  10000  12500  15000  1250000  1500000    530\n",
      "Intercept   -19351.555555\n",
      "A              345.200000\n",
      "B1              52.911111\n",
      "B2              62.151111\n",
      "AA              -1.456711\n",
      "AB1             -0.976000\n",
      "AB2             -1.114667\n",
      "AAB1             0.004494\n",
      "AAB2             0.004878\n",
      "dtype: float64\n"
     ]
    },
    {
     "data": {
      "text/html": [
       "<table class=\"simpletable\">\n",
       "<caption>OLS Regression Results</caption>\n",
       "<tr>\n",
       "  <th>Dep. Variable:</th>          <td>Light</td>      <th>  R-squared:         </th> <td>   0.997</td>\n",
       "</tr>\n",
       "<tr>\n",
       "  <th>Model:</th>                   <td>OLS</td>       <th>  Adj. R-squared:    </th> <td>   0.996</td>\n",
       "</tr>\n",
       "<tr>\n",
       "  <th>Method:</th>             <td>Least Squares</td>  <th>  F-statistic:       </th> <td>   824.8</td>\n",
       "</tr>\n",
       "<tr>\n",
       "  <th>Date:</th>             <td>Mon, 22 Mar 2021</td> <th>  Prob (F-statistic):</th> <td>1.78e-21</td>\n",
       "</tr>\n",
       "<tr>\n",
       "  <th>Time:</th>                 <td>21:04:00</td>     <th>  Log-Likelihood:    </th> <td> -112.51</td>\n",
       "</tr>\n",
       "<tr>\n",
       "  <th>No. Observations:</th>      <td>    27</td>      <th>  AIC:               </th> <td>   243.0</td>\n",
       "</tr>\n",
       "<tr>\n",
       "  <th>Df Residuals:</th>          <td>    18</td>      <th>  BIC:               </th> <td>   254.7</td>\n",
       "</tr>\n",
       "<tr>\n",
       "  <th>Df Model:</th>              <td>     8</td>      <th>                     </th>     <td> </td>   \n",
       "</tr>\n",
       "<tr>\n",
       "  <th>Covariance Type:</th>      <td>nonrobust</td>    <th>                     </th>     <td> </td>   \n",
       "</tr>\n",
       "</table>\n",
       "<table class=\"simpletable\">\n",
       "<tr>\n",
       "      <td></td>         <th>coef</th>     <th>std err</th>      <th>t</th>      <th>P>|t|</th>  <th>[0.025</th>    <th>0.975]</th>  \n",
       "</tr>\n",
       "<tr>\n",
       "  <th>Intercept</th> <td>-1.935e+04</td> <td> 1366.095</td> <td>  -14.166</td> <td> 0.000</td> <td>-2.22e+04</td> <td>-1.65e+04</td>\n",
       "</tr>\n",
       "<tr>\n",
       "  <th>A</th>         <td>  345.2000</td> <td>   22.333</td> <td>   15.457</td> <td> 0.000</td> <td>  298.280</td> <td>  392.120</td>\n",
       "</tr>\n",
       "<tr>\n",
       "  <th>B1</th>        <td>   52.9111</td> <td>   10.821</td> <td>    4.890</td> <td> 0.000</td> <td>   30.177</td> <td>   75.645</td>\n",
       "</tr>\n",
       "<tr>\n",
       "  <th>B2</th>        <td>   62.1511</td> <td>   10.821</td> <td>    5.744</td> <td> 0.000</td> <td>   39.417</td> <td>   84.885</td>\n",
       "</tr>\n",
       "<tr>\n",
       "  <th>AA</th>        <td>   -1.4567</td> <td>    0.089</td> <td>  -16.334</td> <td> 0.000</td> <td>   -1.644</td> <td>   -1.269</td>\n",
       "</tr>\n",
       "<tr>\n",
       "  <th>AB1</th>       <td>   -0.9760</td> <td>    0.177</td> <td>   -5.517</td> <td> 0.000</td> <td>   -1.348</td> <td>   -0.604</td>\n",
       "</tr>\n",
       "<tr>\n",
       "  <th>AB2</th>       <td>   -1.1147</td> <td>    0.177</td> <td>   -6.301</td> <td> 0.000</td> <td>   -1.486</td> <td>   -0.743</td>\n",
       "</tr>\n",
       "<tr>\n",
       "  <th>AAB1</th>      <td>    0.0045</td> <td>    0.001</td> <td>    6.362</td> <td> 0.000</td> <td>    0.003</td> <td>    0.006</td>\n",
       "</tr>\n",
       "<tr>\n",
       "  <th>AAB2</th>      <td>    0.0049</td> <td>    0.001</td> <td>    6.905</td> <td> 0.000</td> <td>    0.003</td> <td>    0.006</td>\n",
       "</tr>\n",
       "</table>\n",
       "<table class=\"simpletable\">\n",
       "<tr>\n",
       "  <th>Omnibus:</th>       <td> 0.570</td> <th>  Durbin-Watson:     </th> <td>   2.273</td>\n",
       "</tr>\n",
       "<tr>\n",
       "  <th>Prob(Omnibus):</th> <td> 0.752</td> <th>  Jarque-Bera (JB):  </th> <td>   0.035</td>\n",
       "</tr>\n",
       "<tr>\n",
       "  <th>Skew:</th>          <td> 0.009</td> <th>  Prob(JB):          </th> <td>   0.983</td>\n",
       "</tr>\n",
       "<tr>\n",
       "  <th>Kurtosis:</th>      <td> 3.175</td> <th>  Cond. No.          </th> <td>1.12e+09</td>\n",
       "</tr>\n",
       "</table><br/><br/>Notes:<br/>[1] Standard Errors assume that the covariance matrix of the errors is correctly specified.<br/>[2] The condition number is large, 1.12e+09. This might indicate that there are<br/>strong multicollinearity or other numerical problems."
      ],
      "text/plain": [
       "<class 'statsmodels.iolib.summary.Summary'>\n",
       "\"\"\"\n",
       "                            OLS Regression Results                            \n",
       "==============================================================================\n",
       "Dep. Variable:                  Light   R-squared:                       0.997\n",
       "Model:                            OLS   Adj. R-squared:                  0.996\n",
       "Method:                 Least Squares   F-statistic:                     824.8\n",
       "Date:                Mon, 22 Mar 2021   Prob (F-statistic):           1.78e-21\n",
       "Time:                        21:04:00   Log-Likelihood:                -112.51\n",
       "No. Observations:                  27   AIC:                             243.0\n",
       "Df Residuals:                      18   BIC:                             254.7\n",
       "Df Model:                           8                                         \n",
       "Covariance Type:            nonrobust                                         \n",
       "==============================================================================\n",
       "                 coef    std err          t      P>|t|      [0.025      0.975]\n",
       "------------------------------------------------------------------------------\n",
       "Intercept  -1.935e+04   1366.095    -14.166      0.000   -2.22e+04   -1.65e+04\n",
       "A            345.2000     22.333     15.457      0.000     298.280     392.120\n",
       "B1            52.9111     10.821      4.890      0.000      30.177      75.645\n",
       "B2            62.1511     10.821      5.744      0.000      39.417      84.885\n",
       "AA            -1.4567      0.089    -16.334      0.000      -1.644      -1.269\n",
       "AB1           -0.9760      0.177     -5.517      0.000      -1.348      -0.604\n",
       "AB2           -1.1147      0.177     -6.301      0.000      -1.486      -0.743\n",
       "AAB1           0.0045      0.001      6.362      0.000       0.003       0.006\n",
       "AAB2           0.0049      0.001      6.905      0.000       0.003       0.006\n",
       "==============================================================================\n",
       "Omnibus:                        0.570   Durbin-Watson:                   2.273\n",
       "Prob(Omnibus):                  0.752   Jarque-Bera (JB):                0.035\n",
       "Skew:                           0.009   Prob(JB):                        0.983\n",
       "Kurtosis:                       3.175   Cond. No.                     1.12e+09\n",
       "==============================================================================\n",
       "\n",
       "Notes:\n",
       "[1] Standard Errors assume that the covariance matrix of the errors is correctly specified.\n",
       "[2] The condition number is large, 1.12e+09. This might indicate that there are\n",
       "strong multicollinearity or other numerical problems.\n",
       "\"\"\""
      ]
     },
     "execution_count": 153,
     "metadata": {},
     "output_type": "execute_result"
    }
   ],
   "source": [
    "# 8 variables\n",
    "# 100,125,150\n",
    "# list_A = [-1, 0, 1]\n",
    "# list_B1 = [1, 0, -1]\n",
    "# list_B2 = [0, 1, -1]\n",
    "\n",
    "list_A = [100, 125, 150]\n",
    "list_B1 = [150, 125, 100]\n",
    "list_B2 = [125, 150, 100]\n",
    "\n",
    "A = data[:,1]\n",
    "B1 = B2 = data[:, 0]\n",
    "for i in range(3):\n",
    "    A = [list_A[i] if j == list_temp[i] else j for j in A]\n",
    "    B1 = [list_B1[i] if j == i + 1 else j for j in B1]\n",
    "    B2 = [list_B2[i] if j == i + 1 else j for j in B2]\n",
    "\n",
    "\n",
    "A = np.asarray(A)\n",
    "AA = A**2\n",
    "B1 = np.asarray(B1)\n",
    "B2 = np.asarray(B2)\n",
    "AB1 = A*B1\n",
    "AB2 = A*B2\n",
    "AAB1 = AA*B1\n",
    "AAB2 = AA*B2\n",
    "df = pd.DataFrame(A, columns = ['A'])\n",
    "df['B1'] = B1\n",
    "df['B2'] = B2\n",
    "df['AA'] = AA\n",
    "df['AB1'] = AB1\n",
    "df['AB2'] = AB2\n",
    "df['AAB1'] = AAB1\n",
    "df['AAB2'] = AAB2\n",
    "df['Light'] = data[:,2]\n",
    "print(df.head())\n",
    "\n",
    "model = ols('Light~ A + B1 + B2 + AA + AB1 + AB2 + AAB1 + AAB2',df).fit()\n",
    "param = model.params\n",
    "\n",
    "print(param)\n",
    "model.summary()"
   ]
  },
  {
   "cell_type": "code",
   "execution_count": 154,
   "metadata": {},
   "outputs": [
    {
     "data": {
      "text/plain": [
       "<matplotlib.legend.Legend at 0x7fa9ed4a93a0>"
      ]
     },
     "execution_count": 154,
     "metadata": {},
     "output_type": "execute_result"
    },
    {
     "data": {
      "image/png": "[encoded data removed]",
      "text/plain": [
       "<Figure size 432x288 with 1 Axes>"
      ]
     },
     "metadata": {
      "needs_background": "light"
     },
     "output_type": "display_data"
    }
   ],
   "source": [
    "# fit response curve\n",
    "\n",
    "temp = np.linspace(100, 150)\n",
    "glass_type1 = param[0] + param[1] * temp + param[2] * list_B1[0] + param[3] * list_B2[0] + param[4] * (temp ** 2) + param[5] * temp * list_B1[0] + param[6] * temp * list_B2[0] + param[7] * (temp ** 2) * list_B1[0] + param[8] * (temp ** 2) * list_B2[0]\n",
    "glass_type2 = param[0] + param[1] * temp + param[2] * list_B1[1] + param[3] * list_B2[1] + param[4] * (temp ** 2) + param[5] * temp * list_B1[1] + param[6] * temp * list_B2[1] + param[7] * (temp ** 2) * list_B1[1] + param[8] * (temp ** 2) * list_B2[1]\n",
    "glass_type3 = param[0] + param[1] * temp + param[2] * list_B1[2] + param[3] * list_B2[2] + param[4] * (temp ** 2) + param[5] * temp * list_B1[2] + param[6] * temp * list_B2[2] + param[7] * (temp ** 2) * list_B1[2] + param[8] * (temp ** 2) * list_B2[2]\n",
    "\n",
    "c1 = pd.Series(glass_type1, index = temp, name = 'glass_type1')\n",
    "c2 = pd.Series(glass_type2, index = temp, name = 'glass_type2')\n",
    "c3 = pd.Series(glass_type3, index = temp, name = 'glass_type3')\n",
    "\n",
    "df = pd.concat([c1, c2, c3], axis = 1)\n",
    "\n",
    "plt.plot(df.iloc[:,0], color = 'red', label = 'glass_type1')\n",
    "plt.plot(df.iloc[:,1], color = 'green', label = 'glass_type2')\n",
    "plt.plot(df.iloc[:,2], label = 'glass_type3')\n",
    "\n",
    "plt.xlabel('Temperature (°F)')\n",
    "plt.ylabel('glass_Light')\n",
    "plt.legend(['glass_type1', 'glass_type2', 'glass_type3'])"
   ]
  },
  {
   "cell_type": "code",
   "execution_count": 155,
   "metadata": {},
   "outputs": [
    {
     "name": "stdout",
     "output_type": "stream",
     "text": [
      "Curve [100,150]\n",
      "Glass_type 1：y = -3646.00 +59.47 * Temp -0.17 * Temp^2\n",
      "Glass_type 2：y = -3415.00 +56.00 * Temp -0.16 * Temp^2\n",
      "Glass_type 3：y = -7845.33 +136.13 * Temp -0.52 * Temp^2\n"
     ]
    }
   ],
   "source": [
    "print(\"Curve [100,150]\")\n",
    "for i in range(3):\n",
    "    print(\"Glass_type %d：y = %.2f % +.2f * Temp % +.2f * Temp^2\"%(i+1,param[0]+param[2]*list_B1[i]+param[3]*list_B2[i],param[1]+param[5]*list_B1[i]+param[6]*list_B2[i],param[4]+param[7]*list_B1[i]+param[8]*list_B2[i]))"
   ]
  },
  {
   "cell_type": "markdown",
   "metadata": {},
   "source": [
    "**拟合曲线[100, 150]：**\n",
    "\n",
    "[100,150]类型1：\n",
    "\n",
    "$y = -3646.00 + 59.47 * Temp - 0.17 * Temp^2 $\n",
    "\n",
    "[100,150]类型2：\n",
    "\n",
    "$y = -3415.00 + 56.00 * Temp − 0.16 * Temp^2 $\n",
    "\n",
    "[100,150]类型3：\n",
    "\n",
    "$y = -7845.33 + 136.13 * Temp − 0.52 * Temp^2 $"
   ]
  },
  {
   "cell_type": "markdown",
   "metadata": {},
   "source": [
    "**Remark:工业应用为什么做response curve？**\n",
    "\n",
    "1. 预测，预测取值范围外的点，寻找最优值\n",
    "2. 用于插值"
   ]
  },
  {
   "cell_type": "markdown",
   "metadata": {},
   "source": [
    "**收获**：本次实验对双因子方差分析有了一定的了解，在代码实践中对相关的参数估计，模型恰当性检验，以及曲线拟合等任务有了比较深入的了解。巩固了之前实验中涉及的检验方法的运用，并且尝试了两种scale下的respond curve拟合，对课本知识有了更深入的理解。"
   ]
  },
  {
   "cell_type": "markdown",
   "metadata": {},
   "source": [
    "**End of Homework3**"
   ]
  },
  {
   "cell_type": "markdown",
   "metadata": {},
   "source": [
    "**谢谢助教老师，您幸苦了**"
   ]
  }
 ],
 "metadata": {
  "kernelspec": {
   "display_name": "Python 3",
   "language": "python",
   "name": "python3"
  },
  "language_info": {
   "codemirror_mode": {
    "name": "ipython",
    "version": 3
   },
   "file_extension": ".py",
   "mimetype": "text/x-python",
   "name": "python",
   "nbconvert_exporter": "python",
   "pygments_lexer": "ipython3",
   "version": "3.8.5"
  }
 },
 "nbformat": 4,
 "nbformat_minor": 4
}
