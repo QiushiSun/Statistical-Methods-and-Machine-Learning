{
 "cells": [
  {
   "cell_type": "markdown",
   "metadata": {},
   "source": [
    "# Homwowrk5: Multiple Linear Regression"
   ]
  },
  {
   "cell_type": "markdown",
   "metadata": {},
   "source": [
    "## 背景描述  \n",
    "汽车发动机在测功机上产生的**制动马力**被认为是**发动机转速**(每分钟转数，rpm)、**燃料的道路辛烷值**和**发动机压缩值**的函数，我们在实验室里进行实验，研究它们的函数关系。"
   ]
  },
  {
   "cell_type": "markdown",
   "metadata": {},
   "source": [
    "## 数据描述\n",
    "| 变量名 | 变量含义 | 变量类型 | 变量取值范围 |\n",
    "| :----------: | :--------: | :----------: | :----------: |\n",
    "| （自变量）rpm | 发动机转速 | continuous variable | $\\mathbb{R}^+$ |\n",
    "| （自变量）Road_Octane_Number | 道路辛烷值 | continuous variable | $\\mathbb{R}^+$ |\n",
    "| （自变量）Compression | 压缩值 | continuous variable | $\\mathbb{R}^+$ |\n",
    "| （因变量）Brake_Horsepower | 制动马力 | continuous variable | $\\mathbb{R}^+$ |"
   ]
  },
  {
   "cell_type": "markdown",
   "metadata": {},
   "source": [
    "## 问题 \n",
    "注：这里使用 $\\alpha=0.05$ 的显著性水平\n",
    "\n",
    "1. 请用统计模型描述制动马力和上述 3 个自变量之间的函数关系.\n",
    "2. 请问Q1中所建立的模型是否合理.\n",
    "3. 当发动机转速为3000转/min，道路辛烷值为90，发动机压缩值为100时，估计制动马力值的合理区间范围."
   ]
  },
  {
   "cell_type": "markdown",
   "metadata": {},
   "source": [
    "# Solution"
   ]
  },
  {
   "cell_type": "code",
   "execution_count": 2,
   "metadata": {},
   "outputs": [],
   "source": [
    "# Import standard packages\n",
    "import numpy as np\n",
    "import pandas as pd\n",
    "import math"
   ]
  },
  {
   "cell_type": "code",
   "execution_count": 3,
   "metadata": {},
   "outputs": [],
   "source": [
    "# Import stats packages\n",
    "import scipy.stats as stats\n",
    "import matplotlib.pyplot as plt\n",
    "from statsmodels.formula.api import ols\n",
    "from statsmodels.stats.anova import anova_lm\n",
    "from scipy.stats import f\n",
    "from scipy.stats import t"
   ]
  },
  {
   "cell_type": "code",
   "execution_count": 4,
   "metadata": {},
   "outputs": [],
   "source": [
    "# alpha=0.05 3个因子 样本量n=12\n",
    "alpha = 0.05\n",
    "p = 3\n",
    "n = 12"
   ]
  },
  {
   "cell_type": "code",
   "execution_count": 5,
   "metadata": {},
   "outputs": [
    {
     "name": "stdout",
     "output_type": "stream",
     "text": [
      "   intercept  Factor1  Factor2  Factor3  BrakeHorsepower\n",
      "0        1.0   2000.0     90.0    100.0            225.0\n",
      "1        1.0   1800.0     94.0     95.0            212.0\n",
      "2        1.0   2400.0     88.0    110.0            229.0\n",
      "3        1.0   1900.0     91.0     96.0            222.0\n",
      "4        1.0   1600.0     86.0    100.0            219.0\n",
      "5        1.0   2500.0     96.0    110.0            278.0\n",
      "6        1.0   3000.0     94.0     98.0            246.0\n",
      "7        1.0   3200.0     90.0    100.0            237.0\n",
      "8        1.0   2800.0     88.0    105.0            233.0\n",
      "9        1.0   3400.0     86.0     97.0            224.0\n"
     ]
    }
   ],
   "source": [
    "x = pd.read_csv('Project5.csv')\n",
    "x.insert(0, 'intercept', np.ones(len(x))) \n",
    "data = x.values * 1\n",
    "df = pd.DataFrame(data, columns = ['intercept', 'Factor1', 'Factor2', 'Factor3', 'BrakeHorsepower'])\n",
    "print(df.head(10)) #check"
   ]
  },
  {
   "cell_type": "markdown",
   "metadata": {},
   "source": [
    "### Solution For Q1:\n",
    "列出线性模型为：$Y = \\beta_0 + \\beta_1X_1 + \\beta_2X_2 + \\beta_3X_3 + \\epsilon$"
   ]
  },
  {
   "cell_type": "code",
   "execution_count": 6,
   "metadata": {},
   "outputs": [
    {
     "name": "stdout",
     "output_type": "stream",
     "text": [
      "Parameter Estimation: \n",
      " Intercept   -266.03121\n",
      "Factor1        0.01071\n",
      "Factor2        3.13481\n",
      "Factor3        1.86741\n",
      "dtype: float64\n"
     ]
    },
    {
     "name": "stderr",
     "output_type": "stream",
     "text": [
      "/Users/sunqiushi/opt/anaconda3/lib/python3.8/site-packages/scipy/stats/stats.py:1603: UserWarning: kurtosistest only valid for n>=20 ... continuing anyway, n=12\n",
      "  warnings.warn(\"kurtosistest only valid for n>=20 ... continuing \"\n"
     ]
    },
    {
     "data": {
      "text/html": [
       "<table class=\"simpletable\">\n",
       "<caption>OLS Regression Results</caption>\n",
       "<tr>\n",
       "  <th>Dep. Variable:</th>     <td>BrakeHorsepower</td> <th>  R-squared:         </th> <td>   0.807</td>\n",
       "</tr>\n",
       "<tr>\n",
       "  <th>Model:</th>                   <td>OLS</td>       <th>  Adj. R-squared:    </th> <td>   0.734</td>\n",
       "</tr>\n",
       "<tr>\n",
       "  <th>Method:</th>             <td>Least Squares</td>  <th>  F-statistic:       </th> <td>   11.12</td>\n",
       "</tr>\n",
       "<tr>\n",
       "  <th>Date:</th>             <td>Sat, 03 Apr 2021</td> <th>  Prob (F-statistic):</th>  <td>0.00317</td>\n",
       "</tr>\n",
       "<tr>\n",
       "  <th>Time:</th>                 <td>15:26:36</td>     <th>  Log-Likelihood:    </th> <td> -40.708</td>\n",
       "</tr>\n",
       "<tr>\n",
       "  <th>No. Observations:</th>      <td>    12</td>      <th>  AIC:               </th> <td>   89.42</td>\n",
       "</tr>\n",
       "<tr>\n",
       "  <th>Df Residuals:</th>          <td>     8</td>      <th>  BIC:               </th> <td>   91.36</td>\n",
       "</tr>\n",
       "<tr>\n",
       "  <th>Df Model:</th>              <td>     3</td>      <th>                     </th>     <td> </td>   \n",
       "</tr>\n",
       "<tr>\n",
       "  <th>Covariance Type:</th>      <td>nonrobust</td>    <th>                     </th>     <td> </td>   \n",
       "</tr>\n",
       "</table>\n",
       "<table class=\"simpletable\">\n",
       "<tr>\n",
       "      <td></td>         <th>coef</th>     <th>std err</th>      <th>t</th>      <th>P>|t|</th>  <th>[0.025</th>    <th>0.975]</th>  \n",
       "</tr>\n",
       "<tr>\n",
       "  <th>Intercept</th> <td> -266.0312</td> <td>   92.674</td> <td>   -2.871</td> <td> 0.021</td> <td> -479.737</td> <td>  -52.325</td>\n",
       "</tr>\n",
       "<tr>\n",
       "  <th>Factor1</th>   <td>    0.0107</td> <td>    0.004</td> <td>    2.390</td> <td> 0.044</td> <td>    0.000</td> <td>    0.021</td>\n",
       "</tr>\n",
       "<tr>\n",
       "  <th>Factor2</th>   <td>    3.1348</td> <td>    0.844</td> <td>    3.712</td> <td> 0.006</td> <td>    1.188</td> <td>    5.082</td>\n",
       "</tr>\n",
       "<tr>\n",
       "  <th>Factor3</th>   <td>    1.8674</td> <td>    0.535</td> <td>    3.494</td> <td> 0.008</td> <td>    0.635</td> <td>    3.100</td>\n",
       "</tr>\n",
       "</table>\n",
       "<table class=\"simpletable\">\n",
       "<tr>\n",
       "  <th>Omnibus:</th>       <td> 0.392</td> <th>  Durbin-Watson:     </th> <td>   1.043</td>\n",
       "</tr>\n",
       "<tr>\n",
       "  <th>Prob(Omnibus):</th> <td> 0.822</td> <th>  Jarque-Bera (JB):  </th> <td>   0.230</td>\n",
       "</tr>\n",
       "<tr>\n",
       "  <th>Skew:</th>          <td>-0.282</td> <th>  Prob(JB):          </th> <td>   0.891</td>\n",
       "</tr>\n",
       "<tr>\n",
       "  <th>Kurtosis:</th>      <td> 2.625</td> <th>  Cond. No.          </th> <td>9.03e+04</td>\n",
       "</tr>\n",
       "</table><br/><br/>Notes:<br/>[1] Standard Errors assume that the covariance matrix of the errors is correctly specified.<br/>[2] The condition number is large, 9.03e+04. This might indicate that there are<br/>strong multicollinearity or other numerical problems."
      ],
      "text/plain": [
       "<class 'statsmodels.iolib.summary.Summary'>\n",
       "\"\"\"\n",
       "                            OLS Regression Results                            \n",
       "==============================================================================\n",
       "Dep. Variable:        BrakeHorsepower   R-squared:                       0.807\n",
       "Model:                            OLS   Adj. R-squared:                  0.734\n",
       "Method:                 Least Squares   F-statistic:                     11.12\n",
       "Date:                Sat, 03 Apr 2021   Prob (F-statistic):            0.00317\n",
       "Time:                        15:26:36   Log-Likelihood:                -40.708\n",
       "No. Observations:                  12   AIC:                             89.42\n",
       "Df Residuals:                       8   BIC:                             91.36\n",
       "Df Model:                           3                                         \n",
       "Covariance Type:            nonrobust                                         \n",
       "==============================================================================\n",
       "                 coef    std err          t      P>|t|      [0.025      0.975]\n",
       "------------------------------------------------------------------------------\n",
       "Intercept   -266.0312     92.674     -2.871      0.021    -479.737     -52.325\n",
       "Factor1        0.0107      0.004      2.390      0.044       0.000       0.021\n",
       "Factor2        3.1348      0.844      3.712      0.006       1.188       5.082\n",
       "Factor3        1.8674      0.535      3.494      0.008       0.635       3.100\n",
       "==============================================================================\n",
       "Omnibus:                        0.392   Durbin-Watson:                   1.043\n",
       "Prob(Omnibus):                  0.822   Jarque-Bera (JB):                0.230\n",
       "Skew:                          -0.282   Prob(JB):                        0.891\n",
       "Kurtosis:                       2.625   Cond. No.                     9.03e+04\n",
       "==============================================================================\n",
       "\n",
       "Notes:\n",
       "[1] Standard Errors assume that the covariance matrix of the errors is correctly specified.\n",
       "[2] The condition number is large, 9.03e+04. This might indicate that there are\n",
       "strong multicollinearity or other numerical problems.\n",
       "\"\"\""
      ]
     },
     "execution_count": 6,
     "metadata": {},
     "output_type": "execute_result"
    }
   ],
   "source": [
    "# Do the multiple linear regression\n",
    "model = ols('BrakeHorsepower ~ Factor1 + Factor2 + Factor3', df).fit()\n",
    "beta = model.params\n",
    "print('Parameter Estimation: \\n', round(beta, 5))\n",
    "X = data[:, 0 : p + 1]\n",
    "Y = data[:, -1]\n",
    "\n",
    "Y_hat = model.fittedvalues\n",
    "model.summary()\n",
    "#print(model.summary())"
   ]
  },
  {
   "cell_type": "code",
   "execution_count": 7,
   "metadata": {},
   "outputs": [
    {
     "name": "stdout",
     "output_type": "stream",
     "text": [
      "Intercept   -266.031212\n",
      "Factor1        0.010713\n",
      "Factor2        3.134806\n",
      "Factor3        1.867409\n",
      "dtype: float64\n"
     ]
    }
   ],
   "source": [
    "print(beta) #check paras"
   ]
  },
  {
   "cell_type": "code",
   "execution_count": 8,
   "metadata": {},
   "outputs": [
    {
     "name": "stdout",
     "output_type": "stream",
     "text": [
      "Y_hat = -266.03 + (0.01 * Factor1) + (3.13 * Factor2) + (1.87 * Factor3)\n"
     ]
    }
   ],
   "source": [
    "# linear regression\n",
    "print('Y_hat = %.2f + (%.2f * Factor1) + (%.2f * Factor2) + (%.2f * Factor3)' % (beta[0], beta[1], beta[2], beta[3]))"
   ]
  },
  {
   "cell_type": "code",
   "execution_count": 9,
   "metadata": {},
   "outputs": [],
   "source": [
    "# get mean value\n",
    "X_mean = []\n",
    "for k in range(p + 1):\n",
    "    X_mean.append(np.mean(data[:, k]))  # x mean \n",
    "Y_mean = np.mean(data[:, -1])  # y mean"
   ]
  },
  {
   "cell_type": "code",
   "execution_count": 10,
   "metadata": {},
   "outputs": [],
   "source": [
    "# centralization\n",
    "X_cent = X - X_mean\n",
    "Y_cent = Y - Y_mean"
   ]
  },
  {
   "cell_type": "code",
   "execution_count": 11,
   "metadata": {},
   "outputs": [
    {
     "name": "stdout",
     "output_type": "stream",
     "text": [
      "[[1.00e+00 2.00e+03 9.00e+01 1.00e+02]\n",
      " [1.00e+00 1.80e+03 9.40e+01 9.50e+01]\n",
      " [1.00e+00 2.40e+03 8.80e+01 1.10e+02]\n",
      " [1.00e+00 1.90e+03 9.10e+01 9.60e+01]\n",
      " [1.00e+00 1.60e+03 8.60e+01 1.00e+02]\n",
      " [1.00e+00 2.50e+03 9.60e+01 1.10e+02]\n",
      " [1.00e+00 3.00e+03 9.40e+01 9.80e+01]\n",
      " [1.00e+00 3.20e+03 9.00e+01 1.00e+02]\n",
      " [1.00e+00 2.80e+03 8.80e+01 1.05e+02]\n",
      " [1.00e+00 3.40e+03 8.60e+01 9.70e+01]\n",
      " [1.00e+00 1.80e+03 9.00e+01 1.00e+02]\n",
      " [1.00e+00 2.50e+03 8.90e+01 1.04e+02]]\n"
     ]
    }
   ],
   "source": [
    "# get mean value\n",
    "X_mean = []\n",
    "for k in range(p + 1):\n",
    "    X_mean.append(np.mean(data[:, k]))  # x mean \n",
    "Y_mean = np.mean(data[:, -1])  # y mean\n",
    "\n",
    "# centralization\n",
    "X_cent = X - X_mean\n",
    "Y_cent = Y - Y_mean\n",
    "\n",
    "print(X)\n",
    "\n",
    "# Do the multiple linear regression\n",
    "df = pd.DataFrame(X_cent, columns = ['intercept_cent','F1_cent', 'F2_cent', 'F3_cent'])\n",
    "\n",
    "df['F_cent'] = Y_cent"
   ]
  },
  {
   "cell_type": "code",
   "execution_count": 12,
   "metadata": {},
   "outputs": [
    {
     "name": "stdout",
     "output_type": "stream",
     "text": [
      "参数估计值: \n",
      " Intercept   -0.0000\n",
      "F1_cent      0.0107\n",
      "F2_cent      3.1348\n",
      "F3_cent      1.8674\n",
      "dtype: float64\n"
     ]
    },
    {
     "name": "stderr",
     "output_type": "stream",
     "text": [
      "/Users/sunqiushi/opt/anaconda3/lib/python3.8/site-packages/scipy/stats/stats.py:1603: UserWarning: kurtosistest only valid for n>=20 ... continuing anyway, n=12\n",
      "  warnings.warn(\"kurtosistest only valid for n>=20 ... continuing \"\n"
     ]
    },
    {
     "data": {
      "text/html": [
       "<table class=\"simpletable\">\n",
       "<caption>OLS Regression Results</caption>\n",
       "<tr>\n",
       "  <th>Dep. Variable:</th>         <td>F_cent</td>      <th>  R-squared:         </th> <td>   0.807</td>\n",
       "</tr>\n",
       "<tr>\n",
       "  <th>Model:</th>                   <td>OLS</td>       <th>  Adj. R-squared:    </th> <td>   0.734</td>\n",
       "</tr>\n",
       "<tr>\n",
       "  <th>Method:</th>             <td>Least Squares</td>  <th>  F-statistic:       </th> <td>   11.12</td>\n",
       "</tr>\n",
       "<tr>\n",
       "  <th>Date:</th>             <td>Sat, 03 Apr 2021</td> <th>  Prob (F-statistic):</th>  <td>0.00317</td>\n",
       "</tr>\n",
       "<tr>\n",
       "  <th>Time:</th>                 <td>15:26:50</td>     <th>  Log-Likelihood:    </th> <td> -40.708</td>\n",
       "</tr>\n",
       "<tr>\n",
       "  <th>No. Observations:</th>      <td>    12</td>      <th>  AIC:               </th> <td>   89.42</td>\n",
       "</tr>\n",
       "<tr>\n",
       "  <th>Df Residuals:</th>          <td>     8</td>      <th>  BIC:               </th> <td>   91.36</td>\n",
       "</tr>\n",
       "<tr>\n",
       "  <th>Df Model:</th>              <td>     3</td>      <th>                     </th>     <td> </td>   \n",
       "</tr>\n",
       "<tr>\n",
       "  <th>Covariance Type:</th>      <td>nonrobust</td>    <th>                     </th>     <td> </td>   \n",
       "</tr>\n",
       "</table>\n",
       "<table class=\"simpletable\">\n",
       "<tr>\n",
       "      <td></td>         <th>coef</th>     <th>std err</th>      <th>t</th>      <th>P>|t|</th>  <th>[0.025</th>    <th>0.975]</th>  \n",
       "</tr>\n",
       "<tr>\n",
       "  <th>Intercept</th> <td>-2.776e-16</td> <td>    2.544</td> <td>-1.09e-16</td> <td> 1.000</td> <td>   -5.866</td> <td>    5.866</td>\n",
       "</tr>\n",
       "<tr>\n",
       "  <th>F1_cent</th>   <td>    0.0107</td> <td>    0.004</td> <td>    2.390</td> <td> 0.044</td> <td>    0.000</td> <td>    0.021</td>\n",
       "</tr>\n",
       "<tr>\n",
       "  <th>F2_cent</th>   <td>    3.1348</td> <td>    0.844</td> <td>    3.712</td> <td> 0.006</td> <td>    1.188</td> <td>    5.082</td>\n",
       "</tr>\n",
       "<tr>\n",
       "  <th>F3_cent</th>   <td>    1.8674</td> <td>    0.535</td> <td>    3.494</td> <td> 0.008</td> <td>    0.635</td> <td>    3.100</td>\n",
       "</tr>\n",
       "</table>\n",
       "<table class=\"simpletable\">\n",
       "<tr>\n",
       "  <th>Omnibus:</th>       <td> 0.392</td> <th>  Durbin-Watson:     </th> <td>   1.043</td>\n",
       "</tr>\n",
       "<tr>\n",
       "  <th>Prob(Omnibus):</th> <td> 0.822</td> <th>  Jarque-Bera (JB):  </th> <td>   0.230</td>\n",
       "</tr>\n",
       "<tr>\n",
       "  <th>Skew:</th>          <td>-0.282</td> <th>  Prob(JB):          </th> <td>   0.891</td>\n",
       "</tr>\n",
       "<tr>\n",
       "  <th>Kurtosis:</th>      <td> 2.625</td> <th>  Cond. No.          </th> <td>    574.</td>\n",
       "</tr>\n",
       "</table><br/><br/>Notes:<br/>[1] Standard Errors assume that the covariance matrix of the errors is correctly specified."
      ],
      "text/plain": [
       "<class 'statsmodels.iolib.summary.Summary'>\n",
       "\"\"\"\n",
       "                            OLS Regression Results                            \n",
       "==============================================================================\n",
       "Dep. Variable:                 F_cent   R-squared:                       0.807\n",
       "Model:                            OLS   Adj. R-squared:                  0.734\n",
       "Method:                 Least Squares   F-statistic:                     11.12\n",
       "Date:                Sat, 03 Apr 2021   Prob (F-statistic):            0.00317\n",
       "Time:                        15:26:50   Log-Likelihood:                -40.708\n",
       "No. Observations:                  12   AIC:                             89.42\n",
       "Df Residuals:                       8   BIC:                             91.36\n",
       "Df Model:                           3                                         \n",
       "Covariance Type:            nonrobust                                         \n",
       "==============================================================================\n",
       "                 coef    std err          t      P>|t|      [0.025      0.975]\n",
       "------------------------------------------------------------------------------\n",
       "Intercept  -2.776e-16      2.544  -1.09e-16      1.000      -5.866       5.866\n",
       "F1_cent        0.0107      0.004      2.390      0.044       0.000       0.021\n",
       "F2_cent        3.1348      0.844      3.712      0.006       1.188       5.082\n",
       "F3_cent        1.8674      0.535      3.494      0.008       0.635       3.100\n",
       "==============================================================================\n",
       "Omnibus:                        0.392   Durbin-Watson:                   1.043\n",
       "Prob(Omnibus):                  0.822   Jarque-Bera (JB):                0.230\n",
       "Skew:                          -0.282   Prob(JB):                        0.891\n",
       "Kurtosis:                       2.625   Cond. No.                         574.\n",
       "==============================================================================\n",
       "\n",
       "Notes:\n",
       "[1] Standard Errors assume that the covariance matrix of the errors is correctly specified.\n",
       "\"\"\""
      ]
     },
     "execution_count": 12,
     "metadata": {},
     "output_type": "execute_result"
    }
   ],
   "source": [
    "model_cent = ols('F_cent ~ F1_cent + F2_cent + F3_cent', df).fit()\n",
    "beta_cent = model_cent.params\n",
    "print('参数估计值: \\n', round(beta_cent, 4))\n",
    "Y_hat_cent = model_cent.fittedvalues\n",
    "model_cent.summary()"
   ]
  },
  {
   "cell_type": "code",
   "execution_count": 13,
   "metadata": {},
   "outputs": [
    {
     "name": "stdout",
     "output_type": "stream",
     "text": [
      "Y_hat_cent = -0.00 + (0.01 * X1_cent) + (3.13 * X2_cent) + (1.87 * X2_cent)\n"
     ]
    }
   ],
   "source": [
    "# centralized linear regression\n",
    "print('Y_hat_centralized = %.2f + (%.2f * X1_cent) + (%.2f * X2_cent) + (%.2f * X2_cent)' % (beta_cent[0], beta_cent[1], beta_cent[2], beta_cent[3]))"
   ]
  },
  {
   "cell_type": "markdown",
   "metadata": {},
   "source": [
    "### Solution For Q2:"
   ]
  },
  {
   "cell_type": "code",
   "execution_count": 14,
   "metadata": {},
   "outputs": [],
   "source": [
    "# 求解相关项\n",
    "SSE = sum((Y - Y_hat) ** 2)\n",
    "SST = sum((Y - Y_mean) ** 2)\n",
    "SSR = sum((Y_hat - Y_mean) ** 2)\n",
    "\n",
    "sigma2 = SSE / (n - p - 1)  # variance\n",
    "sigma = np.sqrt(sigma2)  # standard\n",
    "\n",
    "c = np.dot(X.T, X)\n",
    "C = np.linalg.inv(c) \n",
    "# print(C)"
   ]
  },
  {
   "cell_type": "markdown",
   "metadata": {},
   "source": [
    "**一元线性模型的显著性检验——F 检验:** \n",
    "\n",
    "以下分别为三个因素的检验\n",
    "\n",
    "检验假设：$H_0: \\beta_1=\\beta_2=\\beta_3=0$ vs $H_1: \\exists \\beta_i \\neq 0,i=1,2$"
   ]
  },
  {
   "cell_type": "code",
   "execution_count": 15,
   "metadata": {},
   "outputs": [
    {
     "name": "stdout",
     "output_type": "stream",
     "text": [
      "F0value: 11.12\n"
     ]
    }
   ],
   "source": [
    "# 计算F0\n",
    "F0 = (SSR / p) / (SSE / (n - p - 1))\n",
    "# F0 = model.fvalue\n",
    "print('F0value: %.2f' % F0)\n",
    "F = round(f.ppf(0.95, dfn = p, dfd = n - p - 1), 2)"
   ]
  },
  {
   "cell_type": "code",
   "execution_count": 16,
   "metadata": {},
   "outputs": [
    {
     "name": "stdout",
     "output_type": "stream",
     "text": [
      "pVal1: 0.00\n",
      "\n",
      "Since p-value < 0.05, reject H0.\n"
     ]
    }
   ],
   "source": [
    "# 法1：\n",
    "pVal1 = f.sf(F0, p, n - p - 1)\n",
    "# pVal1 = model.f_pvalue\n",
    "print('pVal1: %.2f' % pVal1)\n",
    "if pVal1 < alpha:\n",
    "    print('\\nSince p-value < 0.05, reject H0.')\n",
    "else:\n",
    "    print('\\nAccept H0.') "
   ]
  },
  {
   "cell_type": "code",
   "execution_count": 17,
   "metadata": {},
   "outputs": [
    {
     "name": "stdout",
     "output_type": "stream",
     "text": [
      "Since F0 > F(0.95, 2, 19) = 4.07, reject H0.\n"
     ]
    }
   ],
   "source": [
    "# 法2：\n",
    "if F0 > F:\n",
    "    print('Since F0 > F(0.95, 2, 19) = %.2f, reject H0.' % F)\n",
    "else:\n",
    "    print('Accept H0.') "
   ]
  },
  {
   "cell_type": "markdown",
   "metadata": {},
   "source": [
    "由 F 检验结果可知，该回归方程是显著的。"
   ]
  },
  {
   "cell_type": "markdown",
   "metadata": {},
   "source": [
    "**一元线性模型的显著性检验——t 检验:**  \n",
    "检验假设：$H_{0j}: \\beta_j=0$ vs $H_{1j}: \\beta_j \\neq 0,j=1,2$"
   ]
  },
  {
   "cell_type": "code",
   "execution_count": 18,
   "metadata": {},
   "outputs": [
    {
     "name": "stdout",
     "output_type": "stream",
     "text": [
      "t0值为： [-2.8706  2.3896  3.7123  3.4936]\n",
      "t的临界值为：2.3060\n",
      "P值为： [0.0104 0.0219 0.003  0.0041]\n"
     ]
    }
   ],
   "source": [
    "# t检验\n",
    "t0 = []\n",
    "for i in range(p + 1):   \n",
    "    t0.append(beta[i] / (np.sqrt(C[i][i] * sigma2)))  # 求t值\n",
    "# t0 = model.tvalues\n",
    "print('t0值为：', np.round(t0, 4))\n",
    "tVal = t.ppf(1 - alpha / 2, n - p - 1)\n",
    "print('t的临界值为：%.4f' % tVal)\n",
    "pVal2 = []\n",
    "for i in range(p + 1):\n",
    "    P = t.sf(abs(t0[i]), n - p - 1)\n",
    "    pVal2.append(P)  # 已知临界值求p值\n",
    "# pVal2 = model.pvalues / 2\n",
    "print('P值为：', np.round(pVal2, 4))"
   ]
  },
  {
   "cell_type": "code",
   "execution_count": 19,
   "metadata": {},
   "outputs": [
    {
     "name": "stdout",
     "output_type": "stream",
     "text": [
      "Since p1-value < 0.05, reject H01.\n",
      "Since p2-value < 0.05, reject H02.\n",
      "Since p3-value < 0.05, reject H03.\n",
      "\n",
      "\n"
     ]
    }
   ],
   "source": [
    "# 法1：\n",
    "for i in range(p):\n",
    "    if pVal2[i + 1] < alpha:\n",
    "        print ('Since p%d-value < 0.05, reject H0%d.' % (i + 1, i + 1))\n",
    "    else:\n",
    "        print('Accept H0%d.' % (i + 1))\n",
    "print('\\n')   "
   ]
  },
  {
   "cell_type": "code",
   "execution_count": 20,
   "metadata": {},
   "outputs": [
    {
     "name": "stdout",
     "output_type": "stream",
     "text": [
      "Since t01 > t(0.975, 19) = 2.3060, reject H01\n",
      "Since t02 > t(0.975, 19) = 2.3060, reject H02\n",
      "Since t03 > t(0.975, 19) = 2.3060, reject H03\n"
     ]
    }
   ],
   "source": [
    "#法2:\n",
    "for i in range(p):\n",
    "    if abs(t0[i + 1]) > tVal:\n",
    "        print('Since t0%d > t(0.975, 19) = %.4f, reject H0%d' % (i + 1, tVal, i + 1))\n",
    "    else:\n",
    "        print('Accept H0%d.' % (i + 1)) "
   ]
  },
  {
   "cell_type": "markdown",
   "metadata": {},
   "source": [
    "由上述 t 检验结果可知，各回归系数都是显著的。"
   ]
  },
  {
   "cell_type": "markdown",
   "metadata": {},
   "source": [
    "**复相关系数（可决系数）的检验:**"
   ]
  },
  {
   "cell_type": "markdown",
   "metadata": {},
   "source": [
    "定义样本决定系数为\n",
    "$$\n",
    "R^{2}=\\frac{S S_{R}}{S S_{T}}=1-\\frac{S S_{E}}{S S_{T}}\n",
    "$$"
   ]
  },
  {
   "cell_type": "markdown",
   "metadata": {},
   "source": [
    "调整可决系数：\n",
    "\n",
    "$$R_{a}^{2}=1-\\frac{n-1}{n-m-1}\\left(1-R^{2}\\right)$$\n",
    "\n",
    "这个课上没有讲解，查询资料后得知主要是因为随着变量个数上升，$R^{2}$会增大而影响决定系数的准确度，所以引入惩罚项加以修正，称之 $adjusted R^{2}$"
   ]
  },
  {
   "cell_type": "code",
   "execution_count": 32,
   "metadata": {},
   "outputs": [
    {
     "name": "stdout",
     "output_type": "stream",
     "text": [
      "可决系数R：0.8065\n",
      "调整可决系数Ra：0.7340\n"
     ]
    }
   ],
   "source": [
    "# 可决系数/决定系数\n",
    "R2 = SSR / SST\n",
    "print('可决系数R：%.4f' % R2)\n",
    "\n",
    "# 调整可决系数\n",
    "R2c = 1 - (SSE/(n-p-1)) / (SST/(n-1))\n",
    "print('调整可决系数Ra：%.4f' % R2c)"
   ]
  },
  {
   "cell_type": "markdown",
   "metadata": {},
   "source": [
    "综上所述，Q1中所建的多元线性回归模型是合理的。由于复相关系数（可决系数）值接近1，可以说明整体上 $X_1,X_2$,$X_3$ 与 $Y$ 呈线性关系。"
   ]
  },
  {
   "cell_type": "markdown",
   "metadata": {},
   "source": [
    "**残差分析0: 计算Horsepower的残差**"
   ]
  },
  {
   "cell_type": "code",
   "execution_count": 22,
   "metadata": {},
   "outputs": [
    {
     "name": "stdout",
     "output_type": "stream",
     "text": [
      "   intercept      P1    P2     P3  HorsePower_res\n",
      "0        1.0  2000.0  90.0  100.0        0.731289\n",
      "1        1.0  1800.0  94.0   95.0      -13.328247\n",
      "2        1.0  2400.0  88.0  110.0      -11.958476\n",
      "3        1.0  1900.0  91.0   96.0        3.137442\n",
      "4        1.0  1600.0  86.0  100.0       11.555798\n"
     ]
    }
   ],
   "source": [
    "# 计算期末成绩的残差\n",
    "data_res = data * 1.0  # 乘1.0 不然会损失精度\n",
    "for i in range(n):\n",
    "    data_res[:, p + 1] = Y - Y_hat\n",
    "df = pd.DataFrame(data_res, columns = ['intercept', 'P1', 'P2','P3','HorsePower_res'])\n",
    "res = data_res[:, p + 1]\n",
    "# res = model.resid\n",
    "print(df.head())"
   ]
  },
  {
   "cell_type": "markdown",
   "metadata": {},
   "source": [
    "**残差分析1: 残差的正态概率图**   \n",
    "使用残差正态概率图可验证残差呈正态分布的假设。残差的正态概率图应该大致为一条直线。"
   ]
  },
  {
   "cell_type": "code",
   "execution_count": 23,
   "metadata": {},
   "outputs": [
    {
     "data": {
      "image/png": "[encoded data removed]",
      "text/plain": [
       "<Figure size 432x288 with 1 Axes>"
      ]
     },
     "metadata": {
      "needs_background": "light"
     },
     "output_type": "display_data"
    }
   ],
   "source": [
    "# 残差的正态概率图\n",
    "osm, osr = stats.probplot(res, dist = 'norm', plot = plt)\n",
    "x = osm[0][0]\n",
    "y = osm[1][0]\n",
    "plt.text(x, y, '%.2f' % float(y), ha='center', va= 'bottom', fontsize=9)\n",
    "plt.grid()\n",
    "plt.show()"
   ]
  },
  {
   "cell_type": "code",
   "execution_count": 24,
   "metadata": {},
   "outputs": [
    {
     "name": "stdout",
     "output_type": "stream",
     "text": [
      "残差 -13.33 不是异常值.\n"
     ]
    }
   ],
   "source": [
    "# 异常值检验\n",
    "MSE = SSE / (n - p - 1)\n",
    "# MSE = model.mse_resid\n",
    "d = np.abs(y) / np.sqrt(MSE)\n",
    "if d < 3:\n",
    "    print('残差', round(y, 2), '不是异常值.')\n",
    "else:\n",
    "    print('残差', round(y, 2), '是异常值')\n"
   ]
  },
  {
   "cell_type": "markdown",
   "metadata": {},
   "source": [
    "说明数据近似服从正态分布。"
   ]
  },
  {
   "cell_type": "markdown",
   "metadata": {},
   "source": [
    "**残差分析2: 残差与拟合值的关系图**   \n",
    "使用残差与拟合值图可验证“残差随机分布”和“具有常量方差”的假设。理想情况下，点应当在 0 的两端随机分布（模型的拟合点应该平均散布在被拟合值点附近），点中无可辨识的模式。  \n",
    "下表中的模式可能表示该模型不满足模型假设: "
   ]
  },
  {
   "cell_type": "markdown",
   "metadata": {},
   "source": [
    "| 模式 | 模式的含义 |\n",
    "| :----------: | :--------: |\n",
    "| 残差相对拟合值呈扇形或不均匀分散 | 异方差 |\n",
    "| 曲线 | 缺少高阶项 |\n",
    "| 远离 0 的点 | 异常值 |\n",
    "| 在 X 方向远离其他点的点 | 有影响的点|"
   ]
  },
  {
   "cell_type": "code",
   "execution_count": 25,
   "metadata": {},
   "outputs": [
    {
     "data": {
      "text/plain": [
       "Text(0, 0.5, 'e_i')"
      ]
     },
     "execution_count": 25,
     "metadata": {},
     "output_type": "execute_result"
    },
    {
     "data": {
      "image/png": "[encoded data removed]",
      "text/plain": [
       "<Figure size 432x288 with 1 Axes>"
      ]
     },
     "metadata": {
      "needs_background": "light"
     },
     "output_type": "display_data"
    }
   ],
   "source": [
    "# 残差与拟合值的关系图\n",
    "plt.scatter(Y_hat, res, c = 'red')\n",
    "plt.title('Plot of residuals versus y_i')\n",
    "plt.xlabel('y_i')\n",
    "plt.ylabel('e_i')"
   ]
  },
  {
   "cell_type": "markdown",
   "metadata": {},
   "source": [
    "我们并不能通过残差的分布来证明因变量的方差齐性，我们只是提出了“方差齐性”的假设，然后画出残差图，它杂乱无章，不相关，看起来是独立的，所以我们不能推翻这个假设，就认为观测值的方差是齐性的。"
   ]
  },
  {
   "cell_type": "markdown",
   "metadata": {},
   "source": [
    "### Solution For Q3:"
   ]
  },
  {
   "cell_type": "markdown",
   "metadata": {},
   "source": [
    "**关于 $E(y_0)$ 的估计:**"
   ]
  },
  {
   "cell_type": "code",
   "execution_count": 28,
   "metadata": {},
   "outputs": [
    {
     "name": "stdin",
     "output_type": "stream",
     "text": [
      " 3000\n",
      " 90\n",
      " 100\n"
     ]
    },
    {
     "name": "stdout",
     "output_type": "stream",
     "text": [
      "Given x =  [1, 3000, 90, 100] , E(y_0) confidence interval： [226.2457 243.7181]\n"
     ]
    }
   ],
   "source": [
    "# 给定 x_0，求 E(y_0) 的估计值\n",
    "def confidence_interval(x0):\n",
    "    x0 = np.array(x0)\n",
    "    Y0 = np.dot(x0.T, beta)\n",
    "    delta0 = tVal * sigma * np.sqrt(x0.T @ C @ x0)\n",
    "    Y0_int = [Y0 - delta0, Y0 + delta0]\n",
    "    return Y0_int\n",
    "\n",
    "x0 = [1]\n",
    "for i in range(p):\n",
    "    x0.append(int(input()))\n",
    "print('Given x = ', x0, ', E(y_0) confidence interval：', np.round(confidence_interval(x0), 4))"
   ]
  },
  {
   "cell_type": "markdown",
   "metadata": {},
   "source": [
    "**关于 $y_0$ 的预测:**"
   ]
  },
  {
   "cell_type": "code",
   "execution_count": 33,
   "metadata": {},
   "outputs": [
    {
     "name": "stdin",
     "output_type": "stream",
     "text": [
      " 3000\n",
      " 90\n",
      " 100\n"
     ]
    },
    {
     "name": "stdout",
     "output_type": "stream",
     "text": [
      "Given x =  [1, 3000, 90, 100] , y_0 estimation interval： [212.8622 257.1016]\n"
     ]
    }
   ],
   "source": [
    "# 给定 x_0，求 y_0 的预测区间\n",
    "def confidence_interval(x0):\n",
    "    x0 = np.array(x0)\n",
    "    Y0 = np.dot(x0.T, beta)\n",
    "    delta1 = tVal * sigma * np.sqrt(1 + x0.T @ C @ x0)\n",
    "    Y0_int = [Y0 - delta1, Y0 + delta1]\n",
    "    return Y0_int\n",
    "\n",
    "x0_ = [1]\n",
    "for i in range(p):\n",
    "    x0_.append(int(input()))\n",
    "print('Given x = ', x0_, ', y_0 estimation interval：', np.round(confidence_interval(x0_), 4))\n",
    "\n",
    "# 注意预测区间和置信区间的计算方法差异，具体实现流程与上次实验类似"
   ]
  },
  {
   "cell_type": "markdown",
   "metadata": {},
   "source": [
    "**Remark1:** 由np.array()多维数组定义的矩阵，使用运算符“@”可以进行矩阵乘法。'*'运算符是将两个向量中每个元素进行相乘，是数乘运算，需要两个参与运算的矩阵维度相同。'np.dot()'和'@'运算符都可以起到矩阵乘法的作用，在处理连乘时‘@’相对方便。"
   ]
  },
  {
   "cell_type": "markdown",
   "metadata": {},
   "source": [
    "**Remark2:**\n",
    "\n",
    "在实验中用到了可决系数/决定系数的概念\n",
    "\n",
    "多元线性回归问题中，我们定义样本决定系数为\n",
    "$$\n",
    "R^{2}=\\frac{S S_{R}}{S S_{T}}=1-\\frac{S S_{E}}{S S_{T}}\n",
    "$$\n",
    "\n",
    "$R^{2}$ 的取值在 [0,1] 区间内。\n",
    "\n",
    "1. $R^{2}$ 越接近 $1,$ 表明回归拟合的效果越好。\n",
    "2. $R^{2}$ 越接近 $0,$ 表明回归拟合的效果越差。\n",
    "\n",
    "除此之外，还使用到了 调整可决系数(adjusted $R^{2}$)：\n",
    "\n",
    "$$R_{a}^{2}=1-\\frac{n-1}{n-m-1}\\left(1-R^{2}\\right)$$\n",
    "\n",
    "修正$R^{2}$主要是因为随着变量个数上升，$R^{2}$会增大而影响决定系数的准确度，所以引入惩罚项加以修正"
   ]
  },
  {
   "cell_type": "markdown",
   "metadata": {},
   "source": [
    "**Remark3**: 多元情况下依然有预测区间的长度大于置信区间，借机温习一下二者的计算方法\n",
    "\n",
    "预测区间：\n",
    "\n",
    "$$\n",
    "(\\hat{y}_{f}-t_{\\alpha/2}*\\sqrt{(1+\\frac{1}{n}+\\frac{x_{f}-\\bar{x}}{\\sum_{i=1}^{n}\\left(x_{i}-\\bar{x}\\right)^{2}})\\sigma^{2}},\\hat{y}_{f}+t_{\\alpha/2}*\\sqrt{(1+\\frac{1}{n}+\\frac{x_{f}-\\bar{x}}{\\sum_{i=1}^{n}\\left(x_{i}-\\bar{x}\\right)^{2}})\\sigma^{2}}$$\n",
    "\n",
    "置信区间：\n",
    "\n",
    "$$\n",
    "(\\hat{y}_{f}-t_{\\alpha/2}*\\sqrt{(\\frac{1}{n}+\\frac{x_{f}-\\bar{x}}{\\sum_{i=1}^{n}\\left(x_{i}-\\bar{x}\\right)^{2}})\\sigma^{2}},\\hat{y}_{f}+t_{\\alpha/2}*\\sqrt{(\\frac{1}{n}+\\frac{x_{f}-\\bar{x}}{\\sum_{i=1}^{n}\\left(x_{i}-\\bar{x}\\right)^{2}})\\sigma^{2}}$$"
   ]
  },
  {
   "cell_type": "markdown",
   "metadata": {},
   "source": [
    "**总结:** 本次实验对Multiple Linear Regression有了更深入的理解，对调用相应统计模型和多元前提下的检验方法有了根号的掌握。对决定系数和调整决定系数adjusted $R^{2}$有了实践上直观的理解。同时，在多元前提下加深了对预测区间和置信区间的理解，体会了不同计算式导致的区间长度差异。"
   ]
  },
  {
   "cell_type": "markdown",
   "metadata": {},
   "source": [
    "**End of Homework5**"
   ]
  },
  {
   "cell_type": "markdown",
   "metadata": {},
   "source": [
    "**助教老师幸苦了～**"
   ]
  }
 ],
 "metadata": {
  "kernelspec": {
   "display_name": "Python 3",
   "language": "python",
   "name": "python3"
  },
  "language_info": {
   "codemirror_mode": {
    "name": "ipython",
    "version": 3
   },
   "file_extension": ".py",
   "mimetype": "text/x-python",
   "name": "python",
   "nbconvert_exporter": "python",
   "pygments_lexer": "ipython3",
   "version": "3.8.5"
  }
 },
 "nbformat": 4,
 "nbformat_minor": 4
}
