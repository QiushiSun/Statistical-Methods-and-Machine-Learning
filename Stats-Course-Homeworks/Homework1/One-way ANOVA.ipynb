{
 "cells": [
  {
   "cell_type": "markdown",
   "metadata": {
    "slideshow": {
     "slide_type": "slide"
    }
   },
   "source": [
    "# Week1 One-way ANOVA\n",
    "## 背景描述\n",
    "在集成电路的许多生产步骤中，等离子蚀刻工艺被广泛应用。其原理是暴露在电子区域的气体形成等离子体，由此产生的电离气体原子通过电场加速时，会释放足够的力量蚀刻晶片表面。下图展示了一种典型的单晶片蚀刻设备的主要结构。其中射频（RF）发生器提供能源，在电极之间的间隙产生等离子。  \n",
    "工程师要研究一套设备的射频（RF）功率设置与蚀刻率之间的关系。通过建立蚀刻率与射频功率之间关系的模型，来确定达到所需的目标蚀刻率的功率设置。这里检验射频功率的 4 个水平（160W ，180W，200W，220W），并在射频功率的每个水平上检验 5 个晶片。  \n",
    "这是一个因子水平数 𝑎 = 4 和重复次数 𝑛 = 5 的单因子实验。\n",
    "<img src=\"单晶片等离子蚀刻设备.png\" alt=\"img\" style=\"zoom:70%;\"/>\n",
    "## 数据描述\n",
    "在进行实验之前，为了防止未知干扰因子的影响，随机化实验次序是必要的。假定按原始的非随机化次序做 20 次实验（也就是，前 5 个功率用 160 W，接下来的 5 个功率用 180 W，依次类推)。如果蚀刻设备有升温效应，则运行时间越长，设备温度就越高，这一情况将极有可能破坏实验的有效性。"
   ]
  },
  {
   "cell_type": "code",
   "execution_count": 2,
   "metadata": {},
   "outputs": [
    {
     "name": "stdout",
     "output_type": "stream",
     "text": [
      "Randomized test sequence: \n",
      " [[    1 12417   200]\n",
      " [    2 18369   220]\n",
      " [    3 21238   220]\n",
      " [    4 24621   160]\n",
      " [    5 29337   160]\n",
      " [    6 32318   180]\n",
      " [    7 36481   200]\n",
      " [    8 40062   160]\n",
      " [    9 43289   180]\n",
      " [   10 49271   200]\n",
      " [   11 49813   220]\n",
      " [   12 52286   220]\n",
      " [   13 57102   160]\n",
      " [   14 63548   160]\n",
      " [   15 67710   220]\n",
      " [   16 71834   180]\n",
      " [   17 77216   180]\n",
      " [   18 84675   180]\n",
      " [   19 89323   200]\n",
      " [   20 94037   200]]\n"
     ]
    }
   ],
   "source": [
    "import pandas as pd\n",
    "print('Randomized test sequence: \\n', pd.read_csv('T3_1_random.csv').values)"
   ]
  },
  {
   "cell_type": "markdown",
   "metadata": {},
   "source": [
    "| 变量名 | 变量含义 | 变量类型 | 变量取值范围 |\n",
    "| :----------: | :--------: | :----------: | :----------: |\n",
    "| （自变量）Power | 射频功率 | categorical variable | [160, 180, 200, 220] |\n",
    "| （因变量）Rate | 蚀刻率 | continuous variable | $\\mathbb{R}$ |"
   ]
  },
  {
   "cell_type": "code",
   "execution_count": 3,
   "metadata": {
    "scrolled": false
   },
   "outputs": [
    {
     "name": "stdout",
     "output_type": "stream",
     "text": [
      "Etch Rate Data (in Å/min) from the Plasma Etching Experiment: \n",
      " [[  1 160 575]\n",
      " [  2 160 542]\n",
      " [  3 160 530]\n",
      " [  4 160 539]\n",
      " [  5 160 570]\n",
      " [  1 180 565]\n",
      " [  2 180 593]\n",
      " [  3 180 590]\n",
      " [  4 180 579]\n",
      " [  5 180 610]\n",
      " [  1 200 600]\n",
      " [  2 200 651]\n",
      " [  3 200 610]\n",
      " [  4 200 637]\n",
      " [  5 200 629]\n",
      " [  1 220 725]\n",
      " [  2 220 700]\n",
      " [  3 220 715]\n",
      " [  4 220 685]\n",
      " [  5 220 710]]\n"
     ]
    }
   ],
   "source": [
    "print('Etch Rate Data (in Å/min) from the Plasma Etching Experiment: \\n', pd.read_csv('T3_1.csv').values)"
   ]
  },
  {
   "cell_type": "markdown",
   "metadata": {},
   "source": [
    "## 问题 \n",
    "注：这里使用 $\\alpha=0.05$ 的显著性水平\n",
    "1. 试判断 4 个射频功率水平下的蚀刻率是否存在差异.\n",
    "2. 试判断该实验用One-way ANOVA模型是否恰当.\n",
    "3. 估计 4 个射频功率水平下的均值和误差的方差.\n",
    "4. 若Q1判断存在显著性差异，请进行多重比较.\n",
    "\n",
    "## 解决方案\n",
    "**Q1:**  \n",
    "检验假设 $H_0: \\mu_1 = \\mu_2 = \\mu_3 = \\mu_4$ ;  $H_1: \\mu_1, \\mu_2, \\mu_3, \\mu_4$不全相等"
   ]
  },
  {
   "cell_type": "code",
   "execution_count": 39,
   "metadata": {},
   "outputs": [
    {
     "name": "stdout",
     "output_type": "stream",
     "text": [
      "The ANOVA table: \n",
      "             df    sum_sq   mean_sq     F  PR(>F)\n",
      "C(power)   3.0  66870.55  22290.18  66.8     0.0\n",
      "Residual  16.0   5339.20    333.70   NaN     NaN\n",
      "\n",
      "Since p-value < 0.05, reject H0.\n",
      "Since F0 > F(0.05,3,16) =  3.24 , reject H0.\n"
     ]
    }
   ],
   "source": [
    "# Import standard packages\n",
    "import numpy as np\n",
    "import pandas as pd\n",
    "import scipy.stats as stats\n",
    "import matplotlib.pyplot as plt\n",
    "import math\n",
    "\n",
    "# Import additional packages\n",
    "from statsmodels.formula.api import ols\n",
    "from statsmodels.stats.anova import anova_lm\n",
    "from scipy.stats import f\n",
    "\n",
    "alpha = 0.05\n",
    "a = 4\n",
    "n = 5\n",
    "x = pd.read_csv('T3_1.csv')\n",
    "data = x.values[:,1:3]\n",
    "# print(data)\n",
    "\n",
    "# Sort them into groups, according to column 1(\"Power\")\n",
    "group1 = data[data[:,0] == 160,1]\n",
    "group2 = data[data[:,0] == 180,1]\n",
    "group3 = data[data[:,0] == 200,1]\n",
    "group4 = data[data[:,0] == 220,1]\n",
    "\n",
    "# Do the one-way ANOVA\n",
    "df = pd.DataFrame(data, columns = ['power', 'rate'])   \n",
    "model = ols('rate ~ C(power)', df).fit()\n",
    "anovaResults = round(anova_lm(model), 2)\n",
    "print('The ANOVA table: \\n', anovaResults)  \n",
    "\n",
    "F0, pVal1 = stats.f_oneway(group1, group2, group3, group4)\n",
    "# 法1：\n",
    "# print(pVal1)\n",
    "if pVal1 < alpha:\n",
    "    print('\\nSince p-value < 0.05, reject H0.')\n",
    "else:\n",
    "    print('\\nAccept H0.') \n",
    "    \n",
    "# 法2：\n",
    "F = round(f.ppf(0.95,dfn = 3,dfd = 16), 2)\n",
    "if F0 > F:\n",
    "    print('Since F0 > F(0.05,3,16) = ', F, ', reject H0.')\n",
    "else:\n",
    "    print('Accept H0.') \n",
    "    "
   ]
  },
  {
   "cell_type": "markdown",
   "metadata": {},
   "source": [
    "由方差分析表可知，P值小于 0.05 且F值大于 3.24，故拒绝原假设，即 4 个射频功率水平下的蚀刻率存在差异。"
   ]
  },
  {
   "cell_type": "markdown",
   "metadata": {},
   "source": [
    "**Q2:**  \n",
    "ANOVA模型： \n",
    "$y_{ij} = \\mu + \\tau_i + \\epsilon_{ij}$ 的误差服从正态独立分布，其均值为零，方差为未知的常数$\\sigma^2$。 \n",
    "想要判断ANOVA模型是否恰当，可以利用残差检测来进行分析。  \n",
    "处理 $i$ 的观测值 $j$ 的残差定义为：$e_{ij} = y_{ij} - \\hat{y}_{ij}$  \n",
    "其中$\\hat{y}_{ij}$是对应于$y_{ij}$的一个估计， \n",
    "$\\hat{y}_{ij} = \\hat{\\mu} + \\hat{\\tau}_i = \\overline{y}_{··} + (\\overline{y}_{i·} - \\overline{y}_{··}) = \\overline{y}_{i·}$  \n",
    "  \n",
    "**1. 独立性检验**  \n",
    "【法1】利用残差的时序图，依照收集数据的时间顺序画出残差图有助于检测残差之间的相关性。"
   ]
  },
  {
   "cell_type": "code",
   "execution_count": 42,
   "metadata": {
    "scrolled": true
   },
   "outputs": [
    {
     "data": {
      "text/plain": [
       "Text(0, 0.5, 'Residuals')"
      ]
     },
     "execution_count": 42,
     "metadata": {},
     "output_type": "execute_result"
    },
    {
     "data": {
      "image/png": "[encoded data removed]",
      "text/plain": [
       "<Figure size 432x288 with 1 Axes>"
      ]
     },
     "metadata": {
      "needs_background": "light"
     },
     "output_type": "display_data"
    }
   ],
   "source": [
    "# 计算蚀刻率的残差\n",
    "data_res = data.astype(float) * 1\n",
    "list_power = [160, 180, 200, 220]\n",
    "for k in list_power:\n",
    "    cnt = data_res[data_res[:,0] == k,1]\n",
    "    data_res[data_res[:,0] == k,1] = cnt - np.mean(cnt)\n",
    "\n",
    "# 画出残差时序图，检测残差之间是否具有独立性\n",
    "x = pd.read_csv('T3_1_random.csv')\n",
    "random_seq = x.values[:,2]\n",
    "data_seq = data_res * 1\n",
    "order = []\n",
    "for seq in random_seq:\n",
    "    for power, rate in data_seq:\n",
    "        if((seq == power) & (rate != 0)):\n",
    "            order.append(round(rate,2))\n",
    "            data_seq[data_seq[:,1] == rate,1] = 0\n",
    "            break\n",
    "x_order = np.linspace(1,20,20)\n",
    "plt.scatter(x_order, order)\n",
    "plt.title('Plot of residuals versus run order or time')\n",
    "plt.xlabel('Run order or time')\n",
    "plt.ylabel('Residuals')"
   ]
  },
  {
   "cell_type": "markdown",
   "metadata": {},
   "source": [
    "由上图可知，没有理由去怀疑存在违反独立性的假定。  \n",
    "  \n",
    "【法2】利用Durbin-Watson检验，又称DW检验来做独立性检验。是用来检验分析中残差的一阶自相关性的。  \n",
    "各残差的相关性方程为：$e_i = \\rho * e_{i-1} + v_i$，检验的原假设为：$\\rho = 0$，备择假设为：$\\rho \\neq 0$  \n",
    "检验统计量为：$d = \\frac{\\sum^T_{t=2}\\quad(e_i-e_{i-1})^2}{\\sum^T_{t=1}\\quad e_i^2}$  \n",
    "该统计量值越接近 2 越好，一般在 1~3 之间说明没问题，小于 1 这说明残差存在自相关性（有临界值表可以查）。  \n",
    "文献参考：https://en.wikipedia.org/wiki/Durbin%E2%80%93Watson_statistic"
   ]
  },
  {
   "cell_type": "code",
   "execution_count": 32,
   "metadata": {},
   "outputs": [
    {
     "name": "stdout",
     "output_type": "stream",
     "text": [
      "Durbin-Watson检验的统计量为： 2.96\n"
     ]
    }
   ],
   "source": [
    "# 用Durbin-Watson检验进行独立性检验\n",
    "def durbin_watson(residuals):\n",
    "    nume = sum(np.diff(residuals.T) ** 2)\n",
    "    deno = sum(residuals ** 2)\n",
    "    return nume / deno\n",
    "res = data_res[:, 1]\n",
    "dw = durbin_watson(res)\n",
    "print('Durbin-Watson检验的统计量为：', round(dw,2))\n"
   ]
  },
  {
   "cell_type": "markdown",
   "metadata": {},
   "source": [
    "由分析可知，Durbin-Watson检验的统计量为：2.96，在 1~3 之间，故没有违反独立性的假定。  \n",
    "  \n",
    "**2. 方差齐性检验**  \n",
    "【法1】Bartlett检验的核心思想是通过求取不同组之间的卡方统计量，然后根据卡方统计量的值来判断组间方差是否相等。该方法极度依赖于数据是正态分布，如果数据非正态分布，则的出来的结果偏差很大。  \n",
    "Bartlett检验统计量为：$\\chi_0^2 = 2.3026\\frac{q}{c}$  \n",
    "其中，$q = (N - a)log_{10}S_p^2 - \\sum_{i=1}^a(n_i - 1)log_{10}S_i^2$  \n",
    "$c = 1 + \\frac{1}{3(a-1)}(\\sum_{i=1}^a(n_i-1)^{-1} - (N - a)^{-1})$  \n",
    "$S_p^2 = \\frac{\\sum_{i=1}^a\\quad(n_i-1)S_i^2}{N - a}$ 且$S_i^2$是第 $i$ 个总体的样本方差；当$\\chi_0^2 > \\chi_{\\alpha,a-1}^2$ 时，拒绝$H_0$，其中$\\chi_{\\alpha,a-1}^2$是自由度为$a-1$的卡方分布上的 $\\alpha$ 分位数。"
   ]
  },
  {
   "cell_type": "code",
   "execution_count": 33,
   "metadata": {},
   "outputs": [
    {
     "name": "stdout",
     "output_type": "stream",
     "text": [
      "Bartlett检验的P值为： 0.93\n",
      "Accept H0\n",
      "Bartlett检验统计量： 0.43\n",
      "𝜒_(𝛼,𝑎−1)^2:  7.81\n",
      "Accept H0\n"
     ]
    }
   ],
   "source": [
    "# 用Bartlett检验进行方差齐性检验\n",
    "bart, pVal2 = stats.bartlett(group1, group2, group3, group4)\n",
    "bart_stat = stats.chi2.isf(alpha, a-1)\n",
    "\n",
    "# 法1：\n",
    "print('Bartlett检验的P值为：', round(pVal2, 2))\n",
    "if pVal2 < alpha:\n",
    "    print('Since p-value < 0.05, reject H0.')\n",
    "else:\n",
    "    print('Accept H0')  \n",
    "\n",
    "# 法2：\n",
    "print('Bartlett检验统计量：', round(bart, 2))\n",
    "print('𝜒_(𝛼,𝑎−1)^2: ', round(bart_stat, 2))\n",
    "if bart > bart_stat:\n",
    "    print('Since 𝜒_0^2 > 𝜒_(𝛼,𝑎−1)^2, reject H0.')\n",
    "else:\n",
    "    print('Accept H0')  \n"
   ]
  },
  {
   "cell_type": "markdown",
   "metadata": {},
   "source": [
    "由分析可知，Bartlett检验的P值大于 0.05 且Bartlett检验统计量小于 9.49，故接受原假设，即残差具有方差齐性。  \n",
    "  \n",
    "【法2】Levene检验是将每个值先转换为该值与其组内均值的偏离程度，然后再用转换后的偏离程度去做方差分析，即组间方差/组内方差。修正后的Levene检验中的均值采用中位数的计算方法，因此这里的偏差用每个处理的观测值$y_{ij}$与该处理中的中位数$\\tilde{y}_{i·}$的偏差的绝对值来表示：$d_{ij} = |y_{ij} - \\tilde{y}_{i·}|, i = 1,2,···,a;j = 1,2,···,n$"
   ]
  },
  {
   "cell_type": "code",
   "execution_count": 34,
   "metadata": {},
   "outputs": [
    {
     "name": "stdout",
     "output_type": "stream",
     "text": [
      "Levene检验的P值为： 0.9\n",
      "Accept H0\n"
     ]
    }
   ],
   "source": [
    "# 用Levene检验进行方差齐性检验\n",
    "lene, pVal3 = stats.levene(group1, group2, group3, group4)\n",
    "print('Levene检验的P值为：', round(pVal3, 2))\n",
    "if pVal3 < alpha:\n",
    "    print('Since p-value < 0.05, reject H0.')\n",
    "else:\n",
    "    print('Accept H0')  \n",
    "   "
   ]
  },
  {
   "cell_type": "markdown",
   "metadata": {},
   "source": [
    "由分析可知，Levene检验的P值大于 0.05，故残差具有方差齐性。"
   ]
  },
  {
   "cell_type": "markdown",
   "metadata": {},
   "source": [
    "**3. 正态性检验**  \n",
    "【法1】利用qq图（The quantitle-quantile plot），来检验数据分布的相似性。令X轴为正态分布的分位数，Y轴为样本分位数，如果这两者构成的点分布在一条直线上，就证明样本数据与正态分布存在线性相关性，即服从正态分布。"
   ]
  },
  {
   "cell_type": "code",
   "execution_count": 35,
   "metadata": {
    "scrolled": false
   },
   "outputs": [
    {
     "data": {
      "image/png": "[encoded data removed]",
      "text/plain": [
       "<Figure size 432x288 with 1 Axes>"
      ]
     },
     "metadata": {
      "needs_background": "light"
     },
     "output_type": "display_data"
    },
    {
     "name": "stdout",
     "output_type": "stream",
     "text": [
      "[-25.4 -22.4 -22.  -21.2 -15.4 -12.2  -9.2  -8.4  -7.    2.6   3.    3.6\n",
      "   5.6   8.   11.6  18.   18.8  22.6  23.8  25.6]\n"
     ]
    }
   ],
   "source": [
    "# 用qq图进行正态性检验\n",
    "osm, osr = stats.probplot(res, dist = 'norm', plot = plt)\n",
    "x1 = osm[0][0]\n",
    "y1 = osm[1][0]\n",
    "plt.text(x1, y1, '%.2f' % float(y1), ha = 'center', va = 'bottom',fontsize = 9)\n",
    "x2 = osm[0][-1]\n",
    "y2 = osm[1][-1]\n",
    "plt.text(x2, y2, '%.2f' % float(y2), ha = 'center', va = 'bottom',fontsize = 9)\n",
    "plt.grid()\n",
    "plt.show()\n",
    "\n",
    "print(osm[1])"
   ]
  },
  {
   "cell_type": "markdown",
   "metadata": {},
   "source": [
    "由上图可以看出，总体上来看，误差分布是近似正态的；qq图在右边稍向下弯曲，在左边稍有上翘，这意味着误差分布的尾部比起正态分布的尾部要更薄一些；也就是说，最大的残差不完全如所期望的那样大。  \n",
    "检测异常值的方法：  \n",
    "计算标准化残差：$d_{ij} = \\frac{e_{ij}}{\\sqrt{MS_E}}$。一般地，标准化残差约 68% 落在 ±1 之内，约 95% 落在 ±2 之内，几乎全部落在 ±3 之内。标准化残差的绝对值大于3的残差是一个可能的异常值。  \n",
    "由上述公式得 $d_1 = \\frac{e_1}{\\sqrt{MS_E}} = \\frac{25.6}{\\sqrt{333.70}} = 1.40 < 2$，故可说明无明显的异常值，即残差是服从正态分布的。  \n",
    "  \n",
    "【法2】利用Shapiro-Wilk检验来做正态性检验，其原假设：样本数据符合正态分布。（注：适用于小样本）  \n",
    "利用方法stats.shapiro()检验正态性，输出结果中第一个为统计量，第二个为P值（统计量越接近 1 越表明数据和正态分布拟合的好，P值大于指定的显著性水平，接受原假设，认为样本来自服从正态分布的总体）"
   ]
  },
  {
   "cell_type": "code",
   "execution_count": 36,
   "metadata": {
    "scrolled": true
   },
   "outputs": [
    {
     "name": "stdout",
     "output_type": "stream",
     "text": [
      "0.94\n",
      "0.22\n",
      "\n",
      "Accept the null hypothesis.\n"
     ]
    }
   ],
   "source": [
    "# 用Shapiro-Wilk检验进行正态性检验\n",
    "SW, pVal4 = stats.shapiro(res)\n",
    "print(round(SW, 2))\n",
    "print(round(pVal4, 2))\n",
    "\n",
    "if pVal4 > alpha:\n",
    "    print('\\nAccept the null hypothesis.')\n",
    "else:\n",
    "    print('\\nSince p-value > 0.05, reject the null null hypothesis') "
   ]
  },
  {
   "cell_type": "markdown",
   "metadata": {},
   "source": [
    "由上述分析可知，统计量为 0.94，接近 1；且P值为 0.22，大于指定的显著性水平 0.05。故认为残差来自服从正态分布的总体。  "
   ]
  },
  {
   "cell_type": "markdown",
   "metadata": {},
   "source": [
    "**Q3:**  "
   ]
  },
  {
   "cell_type": "code",
   "execution_count": 301,
   "metadata": {
    "scrolled": true
   },
   "outputs": [
    {
     "name": "stdout",
     "output_type": "stream",
     "text": [
      "Estimate of the population mean：[551.2, 587.4, 625.4, 707.0]\n",
      "An estimate of the population variance：333.7\n"
     ]
    }
   ],
   "source": [
    "# Estimation of Parameter(𝜎2 and 𝜇𝑖 )\n",
    "mu_1 = np.mean(group1)\n",
    "mu_2 = np.mean(group2)\n",
    "mu_3 = np.mean(group3)\n",
    "mu_4 = np.mean(group4)\n",
    "\n",
    "mu = [mu_1, mu_2, mu_3, mu_4]\n",
    "\n",
    "sse = 0\n",
    "for i in range(a):\n",
    "    se = 0\n",
    "    power_list = data[data[:,0] == (160 + i * 20),1]\n",
    "    for j in range(n):\n",
    "        se += (power_list[j] - mu[i]) ** 2\n",
    "    sse += se\n",
    "var = round(sse / (a * (n - 1)),2) \n",
    "print('Estimate of the population mean：{0}'.format(mu))\n",
    "print('An estimate of the population variance：{0}'.format(var))\n",
    "\n"
   ]
  },
  {
   "cell_type": "markdown",
   "metadata": {},
   "source": [
    "由上述分析可知，4 个射频功率水平下均值的估计值分别为：551.2, 587.4, 625.4, 707.0  \n",
    "其方差的估计值为：333.7"
   ]
  },
  {
   "cell_type": "markdown",
   "metadata": {},
   "source": [
    "**Q4:**  \n",
    "由Q1的分析可知，4 个射频功率水平下的蚀刻率存在显著性差异，故进行多重比较。这里采用Fisher最小显著性差异（LSD）方法。  \n",
    "检验：$H_0: \\mu_i = \\mu_j$ vs $H_1: \\mu_i \\neq \\mu_j$  \n",
    "检验统计量：$t_0 = \\frac{\\overline{y}_{i·} - \\overline{y}_{j·}}{\\sqrt{MS_E·2/n}}$  \n",
    "当$|\\overline{y}_{i·} - \\overline{y}_{j·}| > t_{\\frac{\\alpha}{2},N-a}\\sqrt{MS_E·2/n}$时，拒绝原假设，可表明均值对$\\mu_i$与$\\mu_j$有显著性差异。"
   ]
  },
  {
   "cell_type": "code",
   "execution_count": 305,
   "metadata": {},
   "outputs": [
    {
     "name": "stdout",
     "output_type": "stream",
     "text": [
      "The difference between group 1 and group 2 :  36.2\n",
      "The difference between group 1 and group 3 :  74.2\n",
      "The difference between group 1 and group 4 :  155.8\n",
      "The difference between group 2 and group 3 :  38.0\n",
      "The difference between group 2 and group 4 :  119.6\n",
      "The difference between group 3 and group 4 :  81.6\n",
      "Value of LSD:  24.49\n",
      "Reject H0, and there is significant difference in the mean value of any two treatments\n"
     ]
    }
   ],
   "source": [
    "#LSD(least significant difference)最小显著差异\n",
    "def LSD():   \n",
    "    df = a * (n-1)\n",
    "    t_value = stats.t(df).isf(alpha / 2)    \n",
    "    mse = var\n",
    "    lsd = t_value * math.sqrt(2.0 * mse / n)\n",
    "    # print(lsd)\n",
    "    return lsd\n",
    "\n",
    "for i in range(a):\n",
    "    for j in range(i + 1,a):\n",
    "        dist = round(abs(mu[i] - mu[j]), 1)\n",
    "        print('The difference between group', i + 1, 'and group', j + 1, ': ', dist)\n",
    "print('Value of LSD: ', round(LSD(),2))\n",
    "        \n",
    "cmp = 0\n",
    "for s in range(a):\n",
    "    for t in range(i + 1, a):\n",
    "        lsd = LSD()\n",
    "        dist = round(abs(mu[s] - mu[t]), 1)\n",
    "        if(dist < lsd):\n",
    "            print('No difference between group', s + 1, 'and group', t + 1, ': ')\n",
    "            cmp += 1\n",
    "if(cmp == 0):\n",
    "    print('Reject H0, and there is significant difference in the mean value of any two treatments')\n",
    "\n",
    "\n"
   ]
  },
  {
   "cell_type": "markdown",
   "metadata": {},
   "source": [
    "由于LSD临界值小于任意两种处理均值的差，故拒绝原假设，认为任意两种处理均值存在显著性差异。"
   ]
  },
  {
   "cell_type": "markdown",
   "metadata": {},
   "source": [
    "## 第一周练习题\n",
    "数据集：Project1.csv(内附文档)  \n",
    "统计方法：One-way ANOVA    \n",
    "作业发到邮箱：51205903029@stu.ecnu.edu.cn  \n",
    "压缩包名字：学号-姓名  \n",
    "Deadline：下周二之前交  \n",
    "注：要有完整的解题过程，不能只有代码"
   ]
  },
  {
   "cell_type": "code",
   "execution_count": null,
   "metadata": {},
   "outputs": [],
   "source": []
  }
 ],
 "metadata": {
  "kernelspec": {
   "display_name": "Python 3",
   "language": "python",
   "name": "python3"
  },
  "language_info": {
   "codemirror_mode": {
    "name": "ipython",
    "version": 3
   },
   "file_extension": ".py",
   "mimetype": "text/x-python",
   "name": "python",
   "nbconvert_exporter": "python",
   "pygments_lexer": "ipython3",
   "version": "3.8.5"
  }
 },
 "nbformat": 4,
 "nbformat_minor": 4
}
